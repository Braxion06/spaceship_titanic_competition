{
 "cells": [
  {
   "cell_type": "markdown",
   "metadata": {},
   "source": [
    "# Model Developement"
   ]
  },
  {
   "cell_type": "markdown",
   "metadata": {},
   "source": [
    "This is the model development notebook  "
   ]
  },
  {
   "cell_type": "markdown",
   "metadata": {},
   "source": [
    "Import the required libraries"
   ]
  },
  {
   "cell_type": "code",
   "execution_count": 1,
   "metadata": {},
   "outputs": [],
   "source": [
    "import numpy as np\n",
    "import pandas as pd\n",
    "import os\n",
    "import matplotlib.pyplot as plt\n",
    "import re\n",
    "from xgboost import XGBClassifier\n",
    "from sklearn.pipeline import Pipeline, make_pipeline\n",
    "from sklearn.compose import ColumnTransformer, make_column_transformer\n",
    "from sklearn.preprocessing import StandardScaler, LabelEncoder, OneHotEncoder, OrdinalEncoder, FunctionTransformer\n",
    "from sklearn.impute import SimpleImputer\n",
    "from sklearn.linear_model import LogisticRegression\n",
    "from sklearn.tree import DecisionTreeClassifier\n",
    "from sklearn.ensemble import RandomForestClassifier\n",
    "from sklearn.model_selection import train_test_split\n",
    "from sklearn.metrics import confusion_matrix, mean_squared_error, accuracy_score, precision_score, recall_score, f1_score"
   ]
  },
  {
   "cell_type": "markdown",
   "metadata": {},
   "source": [
    "Setup contant values"
   ]
  },
  {
   "cell_type": "code",
   "execution_count": 2,
   "metadata": {},
   "outputs": [],
   "source": [
    "RANDOM_STATE = 1"
   ]
  },
  {
   "cell_type": "markdown",
   "metadata": {},
   "source": [
    "## Data dictionary\n",
    "\n",
    "- **PassengerId** - A unique Id for each passenger. Each Id takes the form ```gggg_pp``` where ```gggg``` indicates a group the passenger is travelling with and ```pp``` is their number within the group. People in a group are often family members, but not always.\n",
    "- **HomePlanet** - The planet the passenger departed from, typically their planet of permanent residence.\n",
    "- **CryoSleep** - Indicates whether the passenger elected to be put into suspended animation for the duration of the voyage. Passengers in cryosleep are confined to their cabins.\n",
    "- **Cabin** - The cabin number where the passenger is staying. Takes the form deck/num/side, where side can be either P for Port or S for Starboard.\n",
    "- **Destination** - The planet the passenger will be debarking to.\n",
    "- **Age** - The age of the passenger.\n",
    "- **VIP** - Whether the passenger has paid for special VIP service during the voyage.\n",
    "- **RoomService, FoodCourt, ShoppingMall, Spa, VRDeck** - Amount the passenger has billed at each of the Spaceship Titanic's many luxury amenities.\n",
    "- **Name** - The first and last names of the passenger.\n",
    "- **Transported** - Whether the passenger was transported to another dimension. This is the target, the column you are trying to predict."
   ]
  },
  {
   "cell_type": "markdown",
   "metadata": {},
   "source": [
    "## Check the dataframe"
   ]
  },
  {
   "cell_type": "markdown",
   "metadata": {},
   "source": [
    "let's load the data"
   ]
  },
  {
   "cell_type": "code",
   "execution_count": 3,
   "metadata": {},
   "outputs": [],
   "source": [
    "df = pd.read_csv('../data/processed/train.csv')\n",
    "# df = pd.read_csv('../data/train.csv', dtype_backend='pyarrow')"
   ]
  },
  {
   "cell_type": "code",
   "execution_count": 4,
   "metadata": {},
   "outputs": [
    {
     "data": {
      "text/html": [
       "<div>\n",
       "<style scoped>\n",
       "    .dataframe tbody tr th:only-of-type {\n",
       "        vertical-align: middle;\n",
       "    }\n",
       "\n",
       "    .dataframe tbody tr th {\n",
       "        vertical-align: top;\n",
       "    }\n",
       "\n",
       "    .dataframe thead th {\n",
       "        text-align: right;\n",
       "    }\n",
       "</style>\n",
       "<table border=\"1\" class=\"dataframe\">\n",
       "  <thead>\n",
       "    <tr style=\"text-align: right;\">\n",
       "      <th></th>\n",
       "      <th>Age</th>\n",
       "      <th>Luxury</th>\n",
       "      <th>GroupSize</th>\n",
       "      <th>Deck</th>\n",
       "      <th>CryoSleep</th>\n",
       "      <th>Side</th>\n",
       "      <th>VIP</th>\n",
       "      <th>TravelingAlone</th>\n",
       "      <th>HomePlanet_Earth</th>\n",
       "      <th>HomePlanet_Europa</th>\n",
       "      <th>HomePlanet_Mars</th>\n",
       "      <th>Destination_55 Cancri e</th>\n",
       "      <th>Destination_PSO J318.5-22</th>\n",
       "      <th>Destination_TRAPPIST-1e</th>\n",
       "      <th>PassengerId</th>\n",
       "      <th>Num</th>\n",
       "      <th>Group</th>\n",
       "      <th>Transported</th>\n",
       "    </tr>\n",
       "  </thead>\n",
       "  <tbody>\n",
       "    <tr>\n",
       "      <th>0</th>\n",
       "      <td>0.711945</td>\n",
       "      <td>-0.514066</td>\n",
       "      <td>-0.648735</td>\n",
       "      <td>2.0</td>\n",
       "      <td>0.0</td>\n",
       "      <td>1.0</td>\n",
       "      <td>0.0</td>\n",
       "      <td>1.0</td>\n",
       "      <td>0.0</td>\n",
       "      <td>1.0</td>\n",
       "      <td>0.0</td>\n",
       "      <td>0.0</td>\n",
       "      <td>0.0</td>\n",
       "      <td>1.0</td>\n",
       "      <td>0001_01</td>\n",
       "      <td>0</td>\n",
       "      <td>1</td>\n",
       "      <td>0.0</td>\n",
       "    </tr>\n",
       "    <tr>\n",
       "      <th>1</th>\n",
       "      <td>-0.334037</td>\n",
       "      <td>-0.251479</td>\n",
       "      <td>-0.648735</td>\n",
       "      <td>6.0</td>\n",
       "      <td>0.0</td>\n",
       "      <td>2.0</td>\n",
       "      <td>0.0</td>\n",
       "      <td>1.0</td>\n",
       "      <td>1.0</td>\n",
       "      <td>0.0</td>\n",
       "      <td>0.0</td>\n",
       "      <td>0.0</td>\n",
       "      <td>0.0</td>\n",
       "      <td>1.0</td>\n",
       "      <td>0002_01</td>\n",
       "      <td>0</td>\n",
       "      <td>2</td>\n",
       "      <td>1.0</td>\n",
       "    </tr>\n",
       "    <tr>\n",
       "      <th>2</th>\n",
       "      <td>2.036857</td>\n",
       "      <td>3.190333</td>\n",
       "      <td>-0.022268</td>\n",
       "      <td>1.0</td>\n",
       "      <td>0.0</td>\n",
       "      <td>2.0</td>\n",
       "      <td>1.0</td>\n",
       "      <td>0.0</td>\n",
       "      <td>0.0</td>\n",
       "      <td>1.0</td>\n",
       "      <td>0.0</td>\n",
       "      <td>0.0</td>\n",
       "      <td>0.0</td>\n",
       "      <td>1.0</td>\n",
       "      <td>0003_01</td>\n",
       "      <td>0</td>\n",
       "      <td>3</td>\n",
       "      <td>0.0</td>\n",
       "    </tr>\n",
       "    <tr>\n",
       "      <th>3</th>\n",
       "      <td>0.293552</td>\n",
       "      <td>1.332604</td>\n",
       "      <td>-0.022268</td>\n",
       "      <td>1.0</td>\n",
       "      <td>0.0</td>\n",
       "      <td>2.0</td>\n",
       "      <td>0.0</td>\n",
       "      <td>0.0</td>\n",
       "      <td>0.0</td>\n",
       "      <td>1.0</td>\n",
       "      <td>0.0</td>\n",
       "      <td>0.0</td>\n",
       "      <td>0.0</td>\n",
       "      <td>1.0</td>\n",
       "      <td>0003_02</td>\n",
       "      <td>0</td>\n",
       "      <td>3</td>\n",
       "      <td>0.0</td>\n",
       "    </tr>\n",
       "    <tr>\n",
       "      <th>4</th>\n",
       "      <td>-0.891895</td>\n",
       "      <td>-0.124824</td>\n",
       "      <td>-0.648735</td>\n",
       "      <td>6.0</td>\n",
       "      <td>0.0</td>\n",
       "      <td>2.0</td>\n",
       "      <td>0.0</td>\n",
       "      <td>1.0</td>\n",
       "      <td>1.0</td>\n",
       "      <td>0.0</td>\n",
       "      <td>0.0</td>\n",
       "      <td>0.0</td>\n",
       "      <td>0.0</td>\n",
       "      <td>1.0</td>\n",
       "      <td>0004_01</td>\n",
       "      <td>1</td>\n",
       "      <td>4</td>\n",
       "      <td>1.0</td>\n",
       "    </tr>\n",
       "  </tbody>\n",
       "</table>\n",
       "</div>"
      ],
      "text/plain": [
       "        Age    Luxury  GroupSize  Deck  CryoSleep  Side  VIP  TravelingAlone  \\\n",
       "0  0.711945 -0.514066  -0.648735   2.0        0.0   1.0  0.0             1.0   \n",
       "1 -0.334037 -0.251479  -0.648735   6.0        0.0   2.0  0.0             1.0   \n",
       "2  2.036857  3.190333  -0.022268   1.0        0.0   2.0  1.0             0.0   \n",
       "3  0.293552  1.332604  -0.022268   1.0        0.0   2.0  0.0             0.0   \n",
       "4 -0.891895 -0.124824  -0.648735   6.0        0.0   2.0  0.0             1.0   \n",
       "\n",
       "   HomePlanet_Earth  HomePlanet_Europa  HomePlanet_Mars  \\\n",
       "0               0.0                1.0              0.0   \n",
       "1               1.0                0.0              0.0   \n",
       "2               0.0                1.0              0.0   \n",
       "3               0.0                1.0              0.0   \n",
       "4               1.0                0.0              0.0   \n",
       "\n",
       "   Destination_55 Cancri e  Destination_PSO J318.5-22  \\\n",
       "0                      0.0                        0.0   \n",
       "1                      0.0                        0.0   \n",
       "2                      0.0                        0.0   \n",
       "3                      0.0                        0.0   \n",
       "4                      0.0                        0.0   \n",
       "\n",
       "   Destination_TRAPPIST-1e PassengerId  Num  Group  Transported  \n",
       "0                      1.0     0001_01    0      1          0.0  \n",
       "1                      1.0     0002_01    0      2          1.0  \n",
       "2                      1.0     0003_01    0      3          0.0  \n",
       "3                      1.0     0003_02    0      3          0.0  \n",
       "4                      1.0     0004_01    1      4          1.0  "
      ]
     },
     "execution_count": 4,
     "metadata": {},
     "output_type": "execute_result"
    }
   ],
   "source": [
    "df.head()"
   ]
  },
  {
   "cell_type": "code",
   "execution_count": 5,
   "metadata": {},
   "outputs": [
    {
     "name": "stdout",
     "output_type": "stream",
     "text": [
      "<class 'pandas.core.frame.DataFrame'>\n",
      "RangeIndex: 8693 entries, 0 to 8692\n",
      "Data columns (total 18 columns):\n",
      " #   Column                     Non-Null Count  Dtype  \n",
      "---  ------                     --------------  -----  \n",
      " 0   Age                        8693 non-null   float64\n",
      " 1   Luxury                     8693 non-null   float64\n",
      " 2   GroupSize                  8693 non-null   float64\n",
      " 3   Deck                       8693 non-null   float64\n",
      " 4   CryoSleep                  8693 non-null   float64\n",
      " 5   Side                       8693 non-null   float64\n",
      " 6   VIP                        8693 non-null   float64\n",
      " 7   TravelingAlone             8693 non-null   float64\n",
      " 8   HomePlanet_Earth           8693 non-null   float64\n",
      " 9   HomePlanet_Europa          8693 non-null   float64\n",
      " 10  HomePlanet_Mars            8693 non-null   float64\n",
      " 11  Destination_55 Cancri e    8693 non-null   float64\n",
      " 12  Destination_PSO J318.5-22  8693 non-null   float64\n",
      " 13  Destination_TRAPPIST-1e    8693 non-null   float64\n",
      " 14  PassengerId                8693 non-null   object \n",
      " 15  Num                        8693 non-null   int64  \n",
      " 16  Group                      8693 non-null   int64  \n",
      " 17  Transported                8693 non-null   float64\n",
      "dtypes: float64(15), int64(2), object(1)\n",
      "memory usage: 1.2+ MB\n"
     ]
    }
   ],
   "source": [
    "df.info()"
   ]
  },
  {
   "cell_type": "markdown",
   "metadata": {},
   "source": [
    "## Separate the training data"
   ]
  },
  {
   "cell_type": "code",
   "execution_count": 6,
   "metadata": {},
   "outputs": [
    {
     "name": "stdout",
     "output_type": "stream",
     "text": [
      "Features: ['Age', 'Luxury', 'GroupSize', 'CryoSleep', 'Side', 'TravelingAlone', 'Destination_55 Cancri e', 'Destination_PSO J318.5-22', 'Destination_TRAPPIST-1e', 'Group', 'VIP', 'Deck']\n",
      "Label or Target: Transported\n"
     ]
    }
   ],
   "source": [
    "# features = list(df.columns.values[:14]) + list(df.columns.values[15:-1])\n",
    "features = ['Age', 'Luxury', 'GroupSize', 'CryoSleep', 'Side', 'TravelingAlone', 'Destination_55 Cancri e', \n",
    "            'Destination_PSO J318.5-22', 'Destination_TRAPPIST-1e', 'Group', 'VIP', 'Deck']\n",
    "label = df.columns.values[-1]\n",
    "print(f'Features: {features}')\n",
    "print(f'Label or Target: {label}')"
   ]
  },
  {
   "cell_type": "markdown",
   "metadata": {},
   "source": [
    "Create the dataframes "
   ]
  },
  {
   "cell_type": "code",
   "execution_count": 7,
   "metadata": {},
   "outputs": [],
   "source": [
    "x = df[features]\n",
    "y = df[label]"
   ]
  },
  {
   "cell_type": "markdown",
   "metadata": {},
   "source": [
    "Split the dataframe into 3 parts, train, cross validation and test datasets"
   ]
  },
  {
   "cell_type": "code",
   "execution_count": 8,
   "metadata": {},
   "outputs": [
    {
     "name": "stdout",
     "output_type": "stream",
     "text": [
      "X_train.shape (6954, 12) y_train.shape (6954,)\n",
      "X_cv.shape (869, 12) y_cv.shape (869,)\n",
      "X_test.shape (870, 12) y_test.shape (870,)\n"
     ]
    }
   ],
   "source": [
    "x_train, x_, y_train, y_ = train_test_split(x, y, test_size=0.20, random_state=RANDOM_STATE, shuffle=True)\n",
    "x_cv, x_test, y_cv, y_test = train_test_split(x_, y_, test_size=0.50, random_state=RANDOM_STATE, shuffle=True)\n",
    "print(\"X_train.shape\", x_train.shape, \"y_train.shape\", y_train.shape)\n",
    "print(\"X_cv.shape\", x_cv.shape, \"y_cv.shape\", y_cv.shape)\n",
    "print(\"X_test.shape\", x_test.shape, \"y_test.shape\", y_test.shape)"
   ]
  },
  {
   "cell_type": "markdown",
   "metadata": {},
   "source": [
    "## Model Building"
   ]
  },
  {
   "cell_type": "markdown",
   "metadata": {},
   "source": [
    "Baseline: \n",
    "\n",
    "A simple logistic regression model will be my baseline (score to beat)"
   ]
  },
  {
   "cell_type": "code",
   "execution_count": 9,
   "metadata": {},
   "outputs": [
    {
     "name": "stderr",
     "output_type": "stream",
     "text": [
      "[Parallel(n_jobs=1)]: Using backend SequentialBackend with 1 concurrent workers.\n",
      "[Parallel(n_jobs=1)]: Done   1 out of   1 | elapsed:    0.0s finished\n"
     ]
    },
    {
     "data": {
      "text/html": [
       "<style>#sk-container-id-1 {color: black;}#sk-container-id-1 pre{padding: 0;}#sk-container-id-1 div.sk-toggleable {background-color: white;}#sk-container-id-1 label.sk-toggleable__label {cursor: pointer;display: block;width: 100%;margin-bottom: 0;padding: 0.3em;box-sizing: border-box;text-align: center;}#sk-container-id-1 label.sk-toggleable__label-arrow:before {content: \"▸\";float: left;margin-right: 0.25em;color: #696969;}#sk-container-id-1 label.sk-toggleable__label-arrow:hover:before {color: black;}#sk-container-id-1 div.sk-estimator:hover label.sk-toggleable__label-arrow:before {color: black;}#sk-container-id-1 div.sk-toggleable__content {max-height: 0;max-width: 0;overflow: hidden;text-align: left;background-color: #f0f8ff;}#sk-container-id-1 div.sk-toggleable__content pre {margin: 0.2em;color: black;border-radius: 0.25em;background-color: #f0f8ff;}#sk-container-id-1 input.sk-toggleable__control:checked~div.sk-toggleable__content {max-height: 200px;max-width: 100%;overflow: auto;}#sk-container-id-1 input.sk-toggleable__control:checked~label.sk-toggleable__label-arrow:before {content: \"▾\";}#sk-container-id-1 div.sk-estimator input.sk-toggleable__control:checked~label.sk-toggleable__label {background-color: #d4ebff;}#sk-container-id-1 div.sk-label input.sk-toggleable__control:checked~label.sk-toggleable__label {background-color: #d4ebff;}#sk-container-id-1 input.sk-hidden--visually {border: 0;clip: rect(1px 1px 1px 1px);clip: rect(1px, 1px, 1px, 1px);height: 1px;margin: -1px;overflow: hidden;padding: 0;position: absolute;width: 1px;}#sk-container-id-1 div.sk-estimator {font-family: monospace;background-color: #f0f8ff;border: 1px dotted black;border-radius: 0.25em;box-sizing: border-box;margin-bottom: 0.5em;}#sk-container-id-1 div.sk-estimator:hover {background-color: #d4ebff;}#sk-container-id-1 div.sk-parallel-item::after {content: \"\";width: 100%;border-bottom: 1px solid gray;flex-grow: 1;}#sk-container-id-1 div.sk-label:hover label.sk-toggleable__label {background-color: #d4ebff;}#sk-container-id-1 div.sk-serial::before {content: \"\";position: absolute;border-left: 1px solid gray;box-sizing: border-box;top: 0;bottom: 0;left: 50%;z-index: 0;}#sk-container-id-1 div.sk-serial {display: flex;flex-direction: column;align-items: center;background-color: white;padding-right: 0.2em;padding-left: 0.2em;position: relative;}#sk-container-id-1 div.sk-item {position: relative;z-index: 1;}#sk-container-id-1 div.sk-parallel {display: flex;align-items: stretch;justify-content: center;background-color: white;position: relative;}#sk-container-id-1 div.sk-item::before, #sk-container-id-1 div.sk-parallel-item::before {content: \"\";position: absolute;border-left: 1px solid gray;box-sizing: border-box;top: 0;bottom: 0;left: 50%;z-index: -1;}#sk-container-id-1 div.sk-parallel-item {display: flex;flex-direction: column;z-index: 1;position: relative;background-color: white;}#sk-container-id-1 div.sk-parallel-item:first-child::after {align-self: flex-end;width: 50%;}#sk-container-id-1 div.sk-parallel-item:last-child::after {align-self: flex-start;width: 50%;}#sk-container-id-1 div.sk-parallel-item:only-child::after {width: 0;}#sk-container-id-1 div.sk-dashed-wrapped {border: 1px dashed gray;margin: 0 0.4em 0.5em 0.4em;box-sizing: border-box;padding-bottom: 0.4em;background-color: white;}#sk-container-id-1 div.sk-label label {font-family: monospace;font-weight: bold;display: inline-block;line-height: 1.2em;}#sk-container-id-1 div.sk-label-container {text-align: center;}#sk-container-id-1 div.sk-container {/* jupyter's `normalize.less` sets `[hidden] { display: none; }` but bootstrap.min.css set `[hidden] { display: none !important; }` so we also need the `!important` here to be able to override the default hidden behavior on the sphinx rendered scikit-learn.org. See: https://github.com/scikit-learn/scikit-learn/issues/21755 */display: inline-block !important;position: relative;}#sk-container-id-1 div.sk-text-repr-fallback {display: none;}</style><div id=\"sk-container-id-1\" class=\"sk-top-container\"><div class=\"sk-text-repr-fallback\"><pre>LogisticRegression(random_state=1, verbose=1)</pre><b>In a Jupyter environment, please rerun this cell to show the HTML representation or trust the notebook. <br />On GitHub, the HTML representation is unable to render, please try loading this page with nbviewer.org.</b></div><div class=\"sk-container\" hidden><div class=\"sk-item\"><div class=\"sk-estimator sk-toggleable\"><input class=\"sk-toggleable__control sk-hidden--visually\" id=\"sk-estimator-id-1\" type=\"checkbox\" checked><label for=\"sk-estimator-id-1\" class=\"sk-toggleable__label sk-toggleable__label-arrow\">LogisticRegression</label><div class=\"sk-toggleable__content\"><pre>LogisticRegression(random_state=1, verbose=1)</pre></div></div></div></div></div>"
      ],
      "text/plain": [
       "LogisticRegression(random_state=1, verbose=1)"
      ]
     },
     "execution_count": 9,
     "metadata": {},
     "output_type": "execute_result"
    }
   ],
   "source": [
    "log_reg_model = LogisticRegression(penalty='l2', random_state=RANDOM_STATE, max_iter=100, verbose=1)\n",
    "log_reg_model.fit(x_train, y_train)"
   ]
  },
  {
   "cell_type": "code",
   "execution_count": 10,
   "metadata": {},
   "outputs": [
    {
     "name": "stdout",
     "output_type": "stream",
     "text": [
      "Metrics\n",
      "Accuracy in the train dataset: 0.7165660051768766\n",
      "Accuracy in the cross validation dataset: 0.7295742232451093\n",
      "Accuracy in the test dataset: 0.7034482758620689\n",
      "Confusion matrix of the test dataset:\n",
      "[[326  95]\n",
      " [163 286]]\n",
      "Mean Squared Error: 0.296551724137931\n",
      "F1 Score: 0.689156626506024\n",
      "Precision Score: 0.7506561679790026\n",
      "Recall Score: 0.6369710467706013\n"
     ]
    }
   ],
   "source": [
    "print('Metrics')\n",
    "print(f'Accuracy in the train dataset: {accuracy_score(log_reg_model.predict(x_train), y_train)}')\n",
    "print(f'Accuracy in the cross validation dataset: {accuracy_score(log_reg_model.predict(x_cv), y_cv)}')\n",
    "print(f'Accuracy in the test dataset: {accuracy_score(log_reg_model.predict(x_test), y_test)}')\n",
    "print(f'Confusion matrix of the test dataset:\\n{confusion_matrix(y_test, log_reg_model.predict(x_test))}')\n",
    "print(f'Mean Squared Error: {mean_squared_error(y_test, log_reg_model.predict(x_test))}')\n",
    "print(f'F1 Score: {f1_score(y_test, log_reg_model.predict(x_test))}')\n",
    "print(f'Precision Score: {precision_score(y_test, log_reg_model.predict(x_test))}')\n",
    "print(f'Recall Score: {recall_score(y_test, log_reg_model.predict(x_test))}')"
   ]
  },
  {
   "cell_type": "markdown",
   "metadata": {},
   "source": [
    "XGBoost: \n",
    "\n",
    "Gonna try gradient boosting decision trees first. "
   ]
  },
  {
   "cell_type": "code",
   "execution_count": 11,
   "metadata": {},
   "outputs": [
    {
     "name": "stdout",
     "output_type": "stream",
     "text": [
      "[0]\tvalidation_0-logloss:0.51395\n",
      "[1]\tvalidation_0-logloss:0.49313\n",
      "[2]\tvalidation_0-logloss:0.49951\n",
      "[3]\tvalidation_0-logloss:0.50588\n",
      "[4]\tvalidation_0-logloss:0.50081\n",
      "[5]\tvalidation_0-logloss:0.49858\n",
      "[6]\tvalidation_0-logloss:0.50040\n",
      "[7]\tvalidation_0-logloss:0.50082\n",
      "[8]\tvalidation_0-logloss:0.50374\n",
      "[9]\tvalidation_0-logloss:0.50758\n",
      "[10]\tvalidation_0-logloss:0.50956\n",
      "[11]\tvalidation_0-logloss:0.50848\n",
      "[12]\tvalidation_0-logloss:0.51038\n",
      "[13]\tvalidation_0-logloss:0.50896\n",
      "[14]\tvalidation_0-logloss:0.51195\n",
      "[15]\tvalidation_0-logloss:0.51305\n",
      "[16]\tvalidation_0-logloss:0.51152\n",
      "[17]\tvalidation_0-logloss:0.51496\n",
      "[18]\tvalidation_0-logloss:0.51676\n",
      "[19]\tvalidation_0-logloss:0.51891\n",
      "[20]\tvalidation_0-logloss:0.51522\n",
      "[21]\tvalidation_0-logloss:0.51783\n",
      "[22]\tvalidation_0-logloss:0.52041\n",
      "[23]\tvalidation_0-logloss:0.52269\n",
      "[24]\tvalidation_0-logloss:0.52642\n",
      "[25]\tvalidation_0-logloss:0.52376\n",
      "[26]\tvalidation_0-logloss:0.52018\n",
      "[27]\tvalidation_0-logloss:0.52272\n",
      "[28]\tvalidation_0-logloss:0.52585\n",
      "[29]\tvalidation_0-logloss:0.52553\n",
      "[30]\tvalidation_0-logloss:0.53008\n",
      "[31]\tvalidation_0-logloss:0.53461\n",
      "[32]\tvalidation_0-logloss:0.53646\n",
      "[33]\tvalidation_0-logloss:0.53627\n",
      "[34]\tvalidation_0-logloss:0.53971\n",
      "[35]\tvalidation_0-logloss:0.54494\n",
      "[36]\tvalidation_0-logloss:0.54703\n",
      "[37]\tvalidation_0-logloss:0.54986\n",
      "[38]\tvalidation_0-logloss:0.54844\n",
      "[39]\tvalidation_0-logloss:0.54977\n",
      "[40]\tvalidation_0-logloss:0.54898\n",
      "[41]\tvalidation_0-logloss:0.55165\n",
      "[42]\tvalidation_0-logloss:0.55244\n",
      "[43]\tvalidation_0-logloss:0.55556\n",
      "[44]\tvalidation_0-logloss:0.55355\n",
      "[45]\tvalidation_0-logloss:0.55451\n",
      "[46]\tvalidation_0-logloss:0.55437\n",
      "[47]\tvalidation_0-logloss:0.55620\n",
      "[48]\tvalidation_0-logloss:0.55448\n",
      "[49]\tvalidation_0-logloss:0.55666\n"
     ]
    },
    {
     "name": "stderr",
     "output_type": "stream",
     "text": [
      "C:\\Users\\Brahyam Almonte Ruiz\\AppData\\Roaming\\Python\\Python311\\site-packages\\xgboost\\data.py:335: FutureWarning: is_sparse is deprecated and will be removed in a future version. Check `isinstance(dtype, pd.SparseDtype)` instead.\n",
      "  if is_sparse(dtype):\n",
      "C:\\Users\\Brahyam Almonte Ruiz\\AppData\\Roaming\\Python\\Python311\\site-packages\\xgboost\\data.py:338: FutureWarning: is_categorical_dtype is deprecated and will be removed in a future version. Use isinstance(dtype, CategoricalDtype) instead\n",
      "  is_categorical_dtype(dtype) or is_pa_ext_categorical_dtype(dtype)\n",
      "C:\\Users\\Brahyam Almonte Ruiz\\AppData\\Roaming\\Python\\Python311\\site-packages\\xgboost\\data.py:384: FutureWarning: is_categorical_dtype is deprecated and will be removed in a future version. Use isinstance(dtype, CategoricalDtype) instead\n",
      "  if is_categorical_dtype(dtype):\n",
      "C:\\Users\\Brahyam Almonte Ruiz\\AppData\\Roaming\\Python\\Python311\\site-packages\\xgboost\\data.py:359: FutureWarning: is_categorical_dtype is deprecated and will be removed in a future version. Use isinstance(dtype, CategoricalDtype) instead\n",
      "  return is_int or is_bool or is_float or is_categorical_dtype(dtype)\n",
      "C:\\Users\\Brahyam Almonte Ruiz\\AppData\\Roaming\\Python\\Python311\\site-packages\\xgboost\\data.py:520: FutureWarning: is_sparse is deprecated and will be removed in a future version. Check `isinstance(dtype, pd.SparseDtype)` instead.\n",
      "  if is_sparse(data):\n",
      "C:\\Users\\Brahyam Almonte Ruiz\\AppData\\Roaming\\Python\\Python311\\site-packages\\xgboost\\data.py:335: FutureWarning: is_sparse is deprecated and will be removed in a future version. Check `isinstance(dtype, pd.SparseDtype)` instead.\n",
      "  if is_sparse(dtype):\n",
      "C:\\Users\\Brahyam Almonte Ruiz\\AppData\\Roaming\\Python\\Python311\\site-packages\\xgboost\\data.py:338: FutureWarning: is_categorical_dtype is deprecated and will be removed in a future version. Use isinstance(dtype, CategoricalDtype) instead\n",
      "  is_categorical_dtype(dtype) or is_pa_ext_categorical_dtype(dtype)\n",
      "C:\\Users\\Brahyam Almonte Ruiz\\AppData\\Roaming\\Python\\Python311\\site-packages\\xgboost\\data.py:384: FutureWarning: is_categorical_dtype is deprecated and will be removed in a future version. Use isinstance(dtype, CategoricalDtype) instead\n",
      "  if is_categorical_dtype(dtype):\n",
      "C:\\Users\\Brahyam Almonte Ruiz\\AppData\\Roaming\\Python\\Python311\\site-packages\\xgboost\\data.py:359: FutureWarning: is_categorical_dtype is deprecated and will be removed in a future version. Use isinstance(dtype, CategoricalDtype) instead\n",
      "  return is_int or is_bool or is_float or is_categorical_dtype(dtype)\n",
      "C:\\Users\\Brahyam Almonte Ruiz\\AppData\\Roaming\\Python\\Python311\\site-packages\\xgboost\\data.py:520: FutureWarning: is_sparse is deprecated and will be removed in a future version. Check `isinstance(dtype, pd.SparseDtype)` instead.\n",
      "  if is_sparse(data):\n"
     ]
    },
    {
     "name": "stdout",
     "output_type": "stream",
     "text": [
      "[50]\tvalidation_0-logloss:0.55783\n",
      "[51]\tvalidation_0-logloss:0.55573\n",
      "[52]\tvalidation_0-logloss:0.55555\n",
      "[53]\tvalidation_0-logloss:0.55729\n",
      "[54]\tvalidation_0-logloss:0.55857\n",
      "[55]\tvalidation_0-logloss:0.56152\n",
      "[56]\tvalidation_0-logloss:0.56199\n",
      "[57]\tvalidation_0-logloss:0.56369\n",
      "[58]\tvalidation_0-logloss:0.56246\n",
      "[59]\tvalidation_0-logloss:0.56433\n",
      "[60]\tvalidation_0-logloss:0.56396\n",
      "[61]\tvalidation_0-logloss:0.56382\n",
      "[62]\tvalidation_0-logloss:0.56444\n",
      "[63]\tvalidation_0-logloss:0.56337\n",
      "[64]\tvalidation_0-logloss:0.56508\n",
      "[65]\tvalidation_0-logloss:0.56522\n",
      "[66]\tvalidation_0-logloss:0.56696\n",
      "[67]\tvalidation_0-logloss:0.56801\n",
      "[68]\tvalidation_0-logloss:0.56796\n",
      "[69]\tvalidation_0-logloss:0.56820\n",
      "[70]\tvalidation_0-logloss:0.56725\n",
      "[71]\tvalidation_0-logloss:0.56677\n"
     ]
    },
    {
     "data": {
      "text/html": [
       "<style>#sk-container-id-2 {color: black;}#sk-container-id-2 pre{padding: 0;}#sk-container-id-2 div.sk-toggleable {background-color: white;}#sk-container-id-2 label.sk-toggleable__label {cursor: pointer;display: block;width: 100%;margin-bottom: 0;padding: 0.3em;box-sizing: border-box;text-align: center;}#sk-container-id-2 label.sk-toggleable__label-arrow:before {content: \"▸\";float: left;margin-right: 0.25em;color: #696969;}#sk-container-id-2 label.sk-toggleable__label-arrow:hover:before {color: black;}#sk-container-id-2 div.sk-estimator:hover label.sk-toggleable__label-arrow:before {color: black;}#sk-container-id-2 div.sk-toggleable__content {max-height: 0;max-width: 0;overflow: hidden;text-align: left;background-color: #f0f8ff;}#sk-container-id-2 div.sk-toggleable__content pre {margin: 0.2em;color: black;border-radius: 0.25em;background-color: #f0f8ff;}#sk-container-id-2 input.sk-toggleable__control:checked~div.sk-toggleable__content {max-height: 200px;max-width: 100%;overflow: auto;}#sk-container-id-2 input.sk-toggleable__control:checked~label.sk-toggleable__label-arrow:before {content: \"▾\";}#sk-container-id-2 div.sk-estimator input.sk-toggleable__control:checked~label.sk-toggleable__label {background-color: #d4ebff;}#sk-container-id-2 div.sk-label input.sk-toggleable__control:checked~label.sk-toggleable__label {background-color: #d4ebff;}#sk-container-id-2 input.sk-hidden--visually {border: 0;clip: rect(1px 1px 1px 1px);clip: rect(1px, 1px, 1px, 1px);height: 1px;margin: -1px;overflow: hidden;padding: 0;position: absolute;width: 1px;}#sk-container-id-2 div.sk-estimator {font-family: monospace;background-color: #f0f8ff;border: 1px dotted black;border-radius: 0.25em;box-sizing: border-box;margin-bottom: 0.5em;}#sk-container-id-2 div.sk-estimator:hover {background-color: #d4ebff;}#sk-container-id-2 div.sk-parallel-item::after {content: \"\";width: 100%;border-bottom: 1px solid gray;flex-grow: 1;}#sk-container-id-2 div.sk-label:hover label.sk-toggleable__label {background-color: #d4ebff;}#sk-container-id-2 div.sk-serial::before {content: \"\";position: absolute;border-left: 1px solid gray;box-sizing: border-box;top: 0;bottom: 0;left: 50%;z-index: 0;}#sk-container-id-2 div.sk-serial {display: flex;flex-direction: column;align-items: center;background-color: white;padding-right: 0.2em;padding-left: 0.2em;position: relative;}#sk-container-id-2 div.sk-item {position: relative;z-index: 1;}#sk-container-id-2 div.sk-parallel {display: flex;align-items: stretch;justify-content: center;background-color: white;position: relative;}#sk-container-id-2 div.sk-item::before, #sk-container-id-2 div.sk-parallel-item::before {content: \"\";position: absolute;border-left: 1px solid gray;box-sizing: border-box;top: 0;bottom: 0;left: 50%;z-index: -1;}#sk-container-id-2 div.sk-parallel-item {display: flex;flex-direction: column;z-index: 1;position: relative;background-color: white;}#sk-container-id-2 div.sk-parallel-item:first-child::after {align-self: flex-end;width: 50%;}#sk-container-id-2 div.sk-parallel-item:last-child::after {align-self: flex-start;width: 50%;}#sk-container-id-2 div.sk-parallel-item:only-child::after {width: 0;}#sk-container-id-2 div.sk-dashed-wrapped {border: 1px dashed gray;margin: 0 0.4em 0.5em 0.4em;box-sizing: border-box;padding-bottom: 0.4em;background-color: white;}#sk-container-id-2 div.sk-label label {font-family: monospace;font-weight: bold;display: inline-block;line-height: 1.2em;}#sk-container-id-2 div.sk-label-container {text-align: center;}#sk-container-id-2 div.sk-container {/* jupyter's `normalize.less` sets `[hidden] { display: none; }` but bootstrap.min.css set `[hidden] { display: none !important; }` so we also need the `!important` here to be able to override the default hidden behavior on the sphinx rendered scikit-learn.org. See: https://github.com/scikit-learn/scikit-learn/issues/21755 */display: inline-block !important;position: relative;}#sk-container-id-2 div.sk-text-repr-fallback {display: none;}</style><div id=\"sk-container-id-2\" class=\"sk-top-container\"><div class=\"sk-text-repr-fallback\"><pre>XGBClassifier(base_score=None, booster=None, callbacks=None,\n",
       "              colsample_bylevel=None, colsample_bynode=None,\n",
       "              colsample_bytree=None, device=None, early_stopping_rounds=70,\n",
       "              enable_categorical=False, eval_metric=None, feature_types=None,\n",
       "              gamma=None, grow_policy=None, importance_type=None,\n",
       "              interaction_constraints=None, learning_rate=1, max_bin=None,\n",
       "              max_cat_threshold=None, max_cat_to_onehot=None,\n",
       "              max_delta_step=None, max_depth=None, max_leaves=None,\n",
       "              min_child_weight=None, missing=nan, monotone_constraints=None,\n",
       "              multi_strategy=None, n_estimators=150, n_jobs=None,\n",
       "              num_parallel_tree=None, random_state=1, ...)</pre><b>In a Jupyter environment, please rerun this cell to show the HTML representation or trust the notebook. <br />On GitHub, the HTML representation is unable to render, please try loading this page with nbviewer.org.</b></div><div class=\"sk-container\" hidden><div class=\"sk-item\"><div class=\"sk-estimator sk-toggleable\"><input class=\"sk-toggleable__control sk-hidden--visually\" id=\"sk-estimator-id-2\" type=\"checkbox\" checked><label for=\"sk-estimator-id-2\" class=\"sk-toggleable__label sk-toggleable__label-arrow\">XGBClassifier</label><div class=\"sk-toggleable__content\"><pre>XGBClassifier(base_score=None, booster=None, callbacks=None,\n",
       "              colsample_bylevel=None, colsample_bynode=None,\n",
       "              colsample_bytree=None, device=None, early_stopping_rounds=70,\n",
       "              enable_categorical=False, eval_metric=None, feature_types=None,\n",
       "              gamma=None, grow_policy=None, importance_type=None,\n",
       "              interaction_constraints=None, learning_rate=1, max_bin=None,\n",
       "              max_cat_threshold=None, max_cat_to_onehot=None,\n",
       "              max_delta_step=None, max_depth=None, max_leaves=None,\n",
       "              min_child_weight=None, missing=nan, monotone_constraints=None,\n",
       "              multi_strategy=None, n_estimators=150, n_jobs=None,\n",
       "              num_parallel_tree=None, random_state=1, ...)</pre></div></div></div></div></div>"
      ],
      "text/plain": [
       "XGBClassifier(base_score=None, booster=None, callbacks=None,\n",
       "              colsample_bylevel=None, colsample_bynode=None,\n",
       "              colsample_bytree=None, device=None, early_stopping_rounds=70,\n",
       "              enable_categorical=False, eval_metric=None, feature_types=None,\n",
       "              gamma=None, grow_policy=None, importance_type=None,\n",
       "              interaction_constraints=None, learning_rate=1, max_bin=None,\n",
       "              max_cat_threshold=None, max_cat_to_onehot=None,\n",
       "              max_delta_step=None, max_depth=None, max_leaves=None,\n",
       "              min_child_weight=None, missing=nan, monotone_constraints=None,\n",
       "              multi_strategy=None, n_estimators=150, n_jobs=None,\n",
       "              num_parallel_tree=None, random_state=1, ...)"
      ]
     },
     "execution_count": 11,
     "metadata": {},
     "output_type": "execute_result"
    }
   ],
   "source": [
    "xgb_model = XGBClassifier(n_estimators=150, learning_rate=1, verbosity=1, random_state=RANDOM_STATE, \n",
    "                            early_stopping_rounds=70, reg_lambda=8)\n",
    "xgb_model.fit(x_train, y_train, eval_set=[(x_cv, y_cv)])"
   ]
  },
  {
   "cell_type": "code",
   "execution_count": 12,
   "metadata": {},
   "outputs": [
    {
     "data": {
      "text/plain": [
       "{'validation_0': OrderedDict([('logloss',\n",
       "               [0.513949449663881,\n",
       "                0.49312558052986344,\n",
       "                0.499508988352276,\n",
       "                0.5058805346403216,\n",
       "                0.5008138137873823,\n",
       "                0.4985831440758642,\n",
       "                0.5003980612459993,\n",
       "                0.5008229241747693,\n",
       "                0.5037351668576825,\n",
       "                0.507580591331668,\n",
       "                0.5095571466819121,\n",
       "                0.5084756643655233,\n",
       "                0.51037580765559,\n",
       "                0.5089612454157194,\n",
       "                0.5119538813849115,\n",
       "                0.5130458001744793,\n",
       "                0.5115195670206919,\n",
       "                0.514957258432125,\n",
       "                0.5167626732620341,\n",
       "                0.5189051335206015,\n",
       "                0.5152164415577392,\n",
       "                0.5178280856350281,\n",
       "                0.5204056173471439,\n",
       "                0.5226940244032494,\n",
       "                0.5264238269430407,\n",
       "                0.5237552750990252,\n",
       "                0.5201782395538268,\n",
       "                0.5227186152627715,\n",
       "                0.5258472003620756,\n",
       "                0.5255314205228507,\n",
       "                0.5300834780028009,\n",
       "                0.5346074070708057,\n",
       "                0.5364565319262827,\n",
       "                0.5362674795661239,\n",
       "                0.5397142226514323,\n",
       "                0.5449444270432271,\n",
       "                0.5470266824712968,\n",
       "                0.5498596665374119,\n",
       "                0.5484445876329131,\n",
       "                0.5497706249718209,\n",
       "                0.5489829336444589,\n",
       "                0.5516546205132368,\n",
       "                0.5524351275879654,\n",
       "                0.5555638832959162,\n",
       "                0.5535527182793458,\n",
       "                0.5545060868777718,\n",
       "                0.5543656665502167,\n",
       "                0.5561990739401126,\n",
       "                0.5544753361155206,\n",
       "                0.5566645977366971,\n",
       "                0.5578335820123143,\n",
       "                0.5557268113022963,\n",
       "                0.55555327514393,\n",
       "                0.5572884671691611,\n",
       "                0.5585707517685772,\n",
       "                0.561515966587648,\n",
       "                0.5619855673578584,\n",
       "                0.5636945671709166,\n",
       "                0.5624614665797084,\n",
       "                0.5643268875318541,\n",
       "                0.5639597382957604,\n",
       "                0.563822242191169,\n",
       "                0.5644362518394971,\n",
       "                0.5633723394775062,\n",
       "                0.56508128106908,\n",
       "                0.565219174173438,\n",
       "                0.5669564978284943,\n",
       "                0.5680103057579763,\n",
       "                0.5679604666753102,\n",
       "                0.5681955633108928,\n",
       "                0.567253792528335,\n",
       "                0.5667690120794943])])}"
      ]
     },
     "execution_count": 12,
     "metadata": {},
     "output_type": "execute_result"
    }
   ],
   "source": [
    "xgb_model.evals_result()"
   ]
  },
  {
   "cell_type": "code",
   "execution_count": 13,
   "metadata": {},
   "outputs": [
    {
     "name": "stdout",
     "output_type": "stream",
     "text": [
      "Metrics\n",
      "Accuracy in the train dataset: 0.7635893011216566\n",
      "Accuracy in the cross validation dataset: 0.7422324510932106\n",
      "Accuracy in the test dataset: 0.7425287356321839\n",
      "Confusion matrix of the test dataset:\n",
      "[[353  68]\n",
      " [156 293]]\n",
      "Mean Squared Error: 0.2574712643678161\n",
      "F1 Score: 0.7234567901234569\n",
      "Precision Score: 0.8116343490304709\n",
      "Recall Score: 0.6525612472160356\n"
     ]
    },
    {
     "name": "stderr",
     "output_type": "stream",
     "text": [
      "C:\\Users\\Brahyam Almonte Ruiz\\AppData\\Roaming\\Python\\Python311\\site-packages\\xgboost\\data.py:335: FutureWarning: is_sparse is deprecated and will be removed in a future version. Check `isinstance(dtype, pd.SparseDtype)` instead.\n",
      "  if is_sparse(dtype):\n",
      "C:\\Users\\Brahyam Almonte Ruiz\\AppData\\Roaming\\Python\\Python311\\site-packages\\xgboost\\data.py:338: FutureWarning: is_categorical_dtype is deprecated and will be removed in a future version. Use isinstance(dtype, CategoricalDtype) instead\n",
      "  is_categorical_dtype(dtype) or is_pa_ext_categorical_dtype(dtype)\n",
      "C:\\Users\\Brahyam Almonte Ruiz\\AppData\\Roaming\\Python\\Python311\\site-packages\\xgboost\\data.py:384: FutureWarning: is_categorical_dtype is deprecated and will be removed in a future version. Use isinstance(dtype, CategoricalDtype) instead\n",
      "  if is_categorical_dtype(dtype):\n",
      "C:\\Users\\Brahyam Almonte Ruiz\\AppData\\Roaming\\Python\\Python311\\site-packages\\xgboost\\data.py:359: FutureWarning: is_categorical_dtype is deprecated and will be removed in a future version. Use isinstance(dtype, CategoricalDtype) instead\n",
      "  return is_int or is_bool or is_float or is_categorical_dtype(dtype)\n",
      "C:\\Users\\Brahyam Almonte Ruiz\\AppData\\Roaming\\Python\\Python311\\site-packages\\xgboost\\data.py:335: FutureWarning: is_sparse is deprecated and will be removed in a future version. Check `isinstance(dtype, pd.SparseDtype)` instead.\n",
      "  if is_sparse(dtype):\n",
      "C:\\Users\\Brahyam Almonte Ruiz\\AppData\\Roaming\\Python\\Python311\\site-packages\\xgboost\\data.py:338: FutureWarning: is_categorical_dtype is deprecated and will be removed in a future version. Use isinstance(dtype, CategoricalDtype) instead\n",
      "  is_categorical_dtype(dtype) or is_pa_ext_categorical_dtype(dtype)\n",
      "C:\\Users\\Brahyam Almonte Ruiz\\AppData\\Roaming\\Python\\Python311\\site-packages\\xgboost\\data.py:384: FutureWarning: is_categorical_dtype is deprecated and will be removed in a future version. Use isinstance(dtype, CategoricalDtype) instead\n",
      "  if is_categorical_dtype(dtype):\n",
      "C:\\Users\\Brahyam Almonte Ruiz\\AppData\\Roaming\\Python\\Python311\\site-packages\\xgboost\\data.py:359: FutureWarning: is_categorical_dtype is deprecated and will be removed in a future version. Use isinstance(dtype, CategoricalDtype) instead\n",
      "  return is_int or is_bool or is_float or is_categorical_dtype(dtype)\n",
      "C:\\Users\\Brahyam Almonte Ruiz\\AppData\\Roaming\\Python\\Python311\\site-packages\\xgboost\\data.py:335: FutureWarning: is_sparse is deprecated and will be removed in a future version. Check `isinstance(dtype, pd.SparseDtype)` instead.\n",
      "  if is_sparse(dtype):\n",
      "C:\\Users\\Brahyam Almonte Ruiz\\AppData\\Roaming\\Python\\Python311\\site-packages\\xgboost\\data.py:338: FutureWarning: is_categorical_dtype is deprecated and will be removed in a future version. Use isinstance(dtype, CategoricalDtype) instead\n",
      "  is_categorical_dtype(dtype) or is_pa_ext_categorical_dtype(dtype)\n",
      "C:\\Users\\Brahyam Almonte Ruiz\\AppData\\Roaming\\Python\\Python311\\site-packages\\xgboost\\data.py:384: FutureWarning: is_categorical_dtype is deprecated and will be removed in a future version. Use isinstance(dtype, CategoricalDtype) instead\n",
      "  if is_categorical_dtype(dtype):\n",
      "C:\\Users\\Brahyam Almonte Ruiz\\AppData\\Roaming\\Python\\Python311\\site-packages\\xgboost\\data.py:359: FutureWarning: is_categorical_dtype is deprecated and will be removed in a future version. Use isinstance(dtype, CategoricalDtype) instead\n",
      "  return is_int or is_bool or is_float or is_categorical_dtype(dtype)\n",
      "C:\\Users\\Brahyam Almonte Ruiz\\AppData\\Roaming\\Python\\Python311\\site-packages\\xgboost\\data.py:335: FutureWarning: is_sparse is deprecated and will be removed in a future version. Check `isinstance(dtype, pd.SparseDtype)` instead.\n",
      "  if is_sparse(dtype):\n",
      "C:\\Users\\Brahyam Almonte Ruiz\\AppData\\Roaming\\Python\\Python311\\site-packages\\xgboost\\data.py:338: FutureWarning: is_categorical_dtype is deprecated and will be removed in a future version. Use isinstance(dtype, CategoricalDtype) instead\n",
      "  is_categorical_dtype(dtype) or is_pa_ext_categorical_dtype(dtype)\n",
      "C:\\Users\\Brahyam Almonte Ruiz\\AppData\\Roaming\\Python\\Python311\\site-packages\\xgboost\\data.py:384: FutureWarning: is_categorical_dtype is deprecated and will be removed in a future version. Use isinstance(dtype, CategoricalDtype) instead\n",
      "  if is_categorical_dtype(dtype):\n",
      "C:\\Users\\Brahyam Almonte Ruiz\\AppData\\Roaming\\Python\\Python311\\site-packages\\xgboost\\data.py:359: FutureWarning: is_categorical_dtype is deprecated and will be removed in a future version. Use isinstance(dtype, CategoricalDtype) instead\n",
      "  return is_int or is_bool or is_float or is_categorical_dtype(dtype)\n",
      "C:\\Users\\Brahyam Almonte Ruiz\\AppData\\Roaming\\Python\\Python311\\site-packages\\xgboost\\data.py:335: FutureWarning: is_sparse is deprecated and will be removed in a future version. Check `isinstance(dtype, pd.SparseDtype)` instead.\n",
      "  if is_sparse(dtype):\n",
      "C:\\Users\\Brahyam Almonte Ruiz\\AppData\\Roaming\\Python\\Python311\\site-packages\\xgboost\\data.py:338: FutureWarning: is_categorical_dtype is deprecated and will be removed in a future version. Use isinstance(dtype, CategoricalDtype) instead\n",
      "  is_categorical_dtype(dtype) or is_pa_ext_categorical_dtype(dtype)\n",
      "C:\\Users\\Brahyam Almonte Ruiz\\AppData\\Roaming\\Python\\Python311\\site-packages\\xgboost\\data.py:384: FutureWarning: is_categorical_dtype is deprecated and will be removed in a future version. Use isinstance(dtype, CategoricalDtype) instead\n",
      "  if is_categorical_dtype(dtype):\n",
      "C:\\Users\\Brahyam Almonte Ruiz\\AppData\\Roaming\\Python\\Python311\\site-packages\\xgboost\\data.py:359: FutureWarning: is_categorical_dtype is deprecated and will be removed in a future version. Use isinstance(dtype, CategoricalDtype) instead\n",
      "  return is_int or is_bool or is_float or is_categorical_dtype(dtype)\n",
      "C:\\Users\\Brahyam Almonte Ruiz\\AppData\\Roaming\\Python\\Python311\\site-packages\\xgboost\\data.py:335: FutureWarning: is_sparse is deprecated and will be removed in a future version. Check `isinstance(dtype, pd.SparseDtype)` instead.\n",
      "  if is_sparse(dtype):\n",
      "C:\\Users\\Brahyam Almonte Ruiz\\AppData\\Roaming\\Python\\Python311\\site-packages\\xgboost\\data.py:338: FutureWarning: is_categorical_dtype is deprecated and will be removed in a future version. Use isinstance(dtype, CategoricalDtype) instead\n",
      "  is_categorical_dtype(dtype) or is_pa_ext_categorical_dtype(dtype)\n",
      "C:\\Users\\Brahyam Almonte Ruiz\\AppData\\Roaming\\Python\\Python311\\site-packages\\xgboost\\data.py:384: FutureWarning: is_categorical_dtype is deprecated and will be removed in a future version. Use isinstance(dtype, CategoricalDtype) instead\n",
      "  if is_categorical_dtype(dtype):\n",
      "C:\\Users\\Brahyam Almonte Ruiz\\AppData\\Roaming\\Python\\Python311\\site-packages\\xgboost\\data.py:359: FutureWarning: is_categorical_dtype is deprecated and will be removed in a future version. Use isinstance(dtype, CategoricalDtype) instead\n",
      "  return is_int or is_bool or is_float or is_categorical_dtype(dtype)\n",
      "C:\\Users\\Brahyam Almonte Ruiz\\AppData\\Roaming\\Python\\Python311\\site-packages\\xgboost\\data.py:335: FutureWarning: is_sparse is deprecated and will be removed in a future version. Check `isinstance(dtype, pd.SparseDtype)` instead.\n",
      "  if is_sparse(dtype):\n",
      "C:\\Users\\Brahyam Almonte Ruiz\\AppData\\Roaming\\Python\\Python311\\site-packages\\xgboost\\data.py:338: FutureWarning: is_categorical_dtype is deprecated and will be removed in a future version. Use isinstance(dtype, CategoricalDtype) instead\n",
      "  is_categorical_dtype(dtype) or is_pa_ext_categorical_dtype(dtype)\n",
      "C:\\Users\\Brahyam Almonte Ruiz\\AppData\\Roaming\\Python\\Python311\\site-packages\\xgboost\\data.py:384: FutureWarning: is_categorical_dtype is deprecated and will be removed in a future version. Use isinstance(dtype, CategoricalDtype) instead\n",
      "  if is_categorical_dtype(dtype):\n",
      "C:\\Users\\Brahyam Almonte Ruiz\\AppData\\Roaming\\Python\\Python311\\site-packages\\xgboost\\data.py:359: FutureWarning: is_categorical_dtype is deprecated and will be removed in a future version. Use isinstance(dtype, CategoricalDtype) instead\n",
      "  return is_int or is_bool or is_float or is_categorical_dtype(dtype)\n",
      "C:\\Users\\Brahyam Almonte Ruiz\\AppData\\Roaming\\Python\\Python311\\site-packages\\xgboost\\data.py:335: FutureWarning: is_sparse is deprecated and will be removed in a future version. Check `isinstance(dtype, pd.SparseDtype)` instead.\n",
      "  if is_sparse(dtype):\n",
      "C:\\Users\\Brahyam Almonte Ruiz\\AppData\\Roaming\\Python\\Python311\\site-packages\\xgboost\\data.py:338: FutureWarning: is_categorical_dtype is deprecated and will be removed in a future version. Use isinstance(dtype, CategoricalDtype) instead\n",
      "  is_categorical_dtype(dtype) or is_pa_ext_categorical_dtype(dtype)\n",
      "C:\\Users\\Brahyam Almonte Ruiz\\AppData\\Roaming\\Python\\Python311\\site-packages\\xgboost\\data.py:384: FutureWarning: is_categorical_dtype is deprecated and will be removed in a future version. Use isinstance(dtype, CategoricalDtype) instead\n",
      "  if is_categorical_dtype(dtype):\n",
      "C:\\Users\\Brahyam Almonte Ruiz\\AppData\\Roaming\\Python\\Python311\\site-packages\\xgboost\\data.py:359: FutureWarning: is_categorical_dtype is deprecated and will be removed in a future version. Use isinstance(dtype, CategoricalDtype) instead\n",
      "  return is_int or is_bool or is_float or is_categorical_dtype(dtype)\n"
     ]
    }
   ],
   "source": [
    "print('Metrics')\n",
    "print(f'Accuracy in the train dataset: {accuracy_score(xgb_model.predict(x_train), y_train)}')\n",
    "print(f'Accuracy in the cross validation dataset: {accuracy_score(xgb_model.predict(x_cv), y_cv)}')\n",
    "print(f'Accuracy in the test dataset: {accuracy_score(xgb_model.predict(x_test), y_test)}')\n",
    "print(f'Confusion matrix of the test dataset:\\n{confusion_matrix(y_test, xgb_model.predict(x_test))}')\n",
    "print(f'Mean Squared Error: {mean_squared_error(y_test, xgb_model.predict(x_test))}')\n",
    "print(f'F1 Score: {f1_score(y_test, xgb_model.predict(x_test))}')\n",
    "print(f'Precision Score: {precision_score(y_test, xgb_model.predict(x_test))}')\n",
    "print(f'Recall Score: {recall_score(y_test, xgb_model.predict(x_test))}')"
   ]
  },
  {
   "cell_type": "markdown",
   "metadata": {},
   "source": [
    "right now the model is overfitting, i'm still going to upload my first entry as is, in order to get some feedback on the real test data"
   ]
  },
  {
   "cell_type": "markdown",
   "metadata": {},
   "source": [
    "## Productionize code "
   ]
  },
  {
   "cell_type": "markdown",
   "metadata": {},
   "source": [
    "Now lets make a pipeline to chain the previous notebooks into simpler code"
   ]
  },
  {
   "cell_type": "markdown",
   "metadata": {},
   "source": [
    "Load the submission(test) dataset"
   ]
  },
  {
   "cell_type": "code",
   "execution_count": 14,
   "metadata": {},
   "outputs": [],
   "source": [
    "df = pd.read_csv('../data/raw/train.csv')\n",
    "test_df = pd.read_csv('../data/raw/test.csv')"
   ]
  },
  {
   "cell_type": "code",
   "execution_count": 15,
   "metadata": {},
   "outputs": [
    {
     "name": "stdout",
     "output_type": "stream",
     "text": [
      "<class 'pandas.core.frame.DataFrame'>\n",
      "RangeIndex: 8693 entries, 0 to 8692\n",
      "Data columns (total 14 columns):\n",
      " #   Column        Non-Null Count  Dtype  \n",
      "---  ------        --------------  -----  \n",
      " 0   PassengerId   8693 non-null   object \n",
      " 1   HomePlanet    8492 non-null   object \n",
      " 2   CryoSleep     8476 non-null   object \n",
      " 3   Cabin         8494 non-null   object \n",
      " 4   Destination   8511 non-null   object \n",
      " 5   Age           8514 non-null   float64\n",
      " 6   VIP           8490 non-null   object \n",
      " 7   RoomService   8512 non-null   float64\n",
      " 8   FoodCourt     8510 non-null   float64\n",
      " 9   ShoppingMall  8485 non-null   float64\n",
      " 10  Spa           8510 non-null   float64\n",
      " 11  VRDeck        8505 non-null   float64\n",
      " 12  Name          8493 non-null   object \n",
      " 13  Transported   8693 non-null   bool   \n",
      "dtypes: bool(1), float64(6), object(7)\n",
      "memory usage: 891.5+ KB\n"
     ]
    }
   ],
   "source": [
    "df.info()"
   ]
  },
  {
   "cell_type": "code",
   "execution_count": 16,
   "metadata": {},
   "outputs": [
    {
     "name": "stdout",
     "output_type": "stream",
     "text": [
      "X_train.shape (6954, 11) y_train.shape (6954,)\n",
      "X_cv.shape (869, 11) y_cv.shape (869,)\n",
      "X_test.shape (870, 11) y_test.shape (870,)\n"
     ]
    }
   ],
   "source": [
    "# features = ['Age', 'Luxury', 'GroupSize', 'CryoSleep', 'Side', 'TravelingAlone', 'Destination_55 Cancri e', \n",
    "            # 'Destination_PSO J318.5-22', 'Destination_TRAPPIST-1e', 'Group', 'VIP', 'Deck']\n",
    "features = ['Age', 'CryoSleep', 'Destination', 'HomePlanet', 'VIP', 'FoodCourt', 'ShoppingMall', 'Spa', 'VRDeck', 'RoomService', 'Cabin']\n",
    "label = 'Transported'\n",
    "x = df[features]\n",
    "y = df[label]\n",
    "x_train, x_, y_train, y_ = train_test_split(x, y, test_size=0.20, random_state=RANDOM_STATE, shuffle=True)\n",
    "x_cv, x_test, y_cv, y_test = train_test_split(x_, y_, test_size=0.50, random_state=RANDOM_STATE, shuffle=True)\n",
    "print(\"X_train.shape\", x_train.shape, \"y_train.shape\", y_train.shape)\n",
    "print(\"X_cv.shape\", x_cv.shape, \"y_cv.shape\", y_cv.shape)\n",
    "print(\"X_test.shape\", x_test.shape, \"y_test.shape\", y_test.shape)"
   ]
  },
  {
   "cell_type": "markdown",
   "metadata": {},
   "source": [
    "Prepare the Imputer_transformer"
   ]
  },
  {
   "cell_type": "code",
   "execution_count": 17,
   "metadata": {},
   "outputs": [],
   "source": [
    "s_imputer_median = SimpleImputer(strategy='median')\n",
    "s_imputer_mode = SimpleImputer(strategy='most_frequent')\n",
    "s_imputer_const = SimpleImputer(strategy='constant', fill_value=0)\n",
    "s_imputer_const_cab = SimpleImputer(strategy='constant', fill_value='0/0/0')\n",
    "median_features = ['Age']\n",
    "mode_features = ['HomePlanet', 'CryoSleep', 'Destination', 'VIP']\n",
    "const_features = ['FoodCourt', 'ShoppingMall', 'Spa', 'VRDeck', 'RoomService']\n",
    "const_cab_features = ['Cabin']"
   ]
  },
  {
   "cell_type": "code",
   "execution_count": 18,
   "metadata": {},
   "outputs": [],
   "source": [
    "# The ColumnTransformer class needs a list of transformers, these transformers are tuples of 3 values: \n",
    "# Name of the step, the transformer to run, the objects affected by the step\n",
    "# The remainder parameter controls what to do with the columns not involved in the ColumnTransformer\n",
    "# Remainder default value = 'drop', drop the others column in the output \n",
    "# The columns in the output are ordered by their step, first in first out \n",
    "# The verbose parameter makes the ColumnTransformer return the time required to complete their operations\n",
    "# The verbose_feature_names_out parameter adds a prefix to each column with the stepname that generated it\n",
    "imputer_transformer = ColumnTransformer([\n",
    "    ('Median', s_imputer_median, median_features), \n",
    "    ('Mode', s_imputer_mode, mode_features), \n",
    "    ('Const', s_imputer_const, const_features), \n",
    "    ('Cabin', s_imputer_const_cab, const_cab_features)],\n",
    "    remainder='passthrough',\n",
    "    verbose_feature_names_out=False\n",
    "    )"
   ]
  },
  {
   "cell_type": "code",
   "execution_count": 19,
   "metadata": {},
   "outputs": [],
   "source": [
    "float_features = ['Age', 'FoodCourt', 'ShoppingMall', 'Spa', 'VRDeck', 'RoomService']\n",
    "for cols in float_features: \n",
    "    df[cols] = df[cols].astype('float')"
   ]
  },
  {
   "cell_type": "markdown",
   "metadata": {},
   "source": [
    "Feature engineering"
   ]
  },
  {
   "cell_type": "markdown",
   "metadata": {},
   "source": [
    "df[['Deck', 'Num', 'Side']] = df['Cabin'].str.split('/', expand=True)\n",
    "df['Luxury'] = df['RoomService'] + df['FoodCourt'] + df['ShoppingMall'] + df['Spa'] + df['VRDeck']\n",
    "df['Group'] = df['PassengerId'].str.split('_', expand=True)[0]\n",
    "df_group = pd.DataFrame(df['Group'].value_counts()).reset_index()\n",
    "df_group = df_group.rename(columns={'count': 'GroupSize'})\n",
    "df = df.merge(df_group, how='left', on='Group')\n",
    "df['TravelingAlone'] = None\n",
    "df.loc[df['GroupSize'] > 1, 'TravelingAlone'] = False\n",
    "df.loc[df['GroupSize'] == 1, 'TravelingAlone'] = True\n",
    "df.drop(['RoomService', 'FoodCourt', 'ShoppingMall', 'Spa', 'VRDeck', 'Cabin', 'Name', 'PassengerId'], axis=1, inplace=True)"
   ]
  },
  {
   "cell_type": "markdown",
   "metadata": {},
   "source": [
    "Data Transformations"
   ]
  },
  {
   "cell_type": "code",
   "execution_count": 20,
   "metadata": {},
   "outputs": [],
   "source": [
    "# Prepare ColumnTransformer\n",
    "oh_encoder = OneHotEncoder(sparse_output=False)\n",
    "o_encoder = OrdinalEncoder()\n",
    "s_scaler = StandardScaler()\n",
    "# num_features = ['Age', 'Luxury', 'GroupSize']\n",
    "num_features = ['Age']\n",
    "# cat_features_ordinal = ['Deck', 'Transported', 'CryoSleep', 'Side', 'VIP', 'TravelingAlone']\n",
    "cat_features_ordinal = ['Transported', 'CryoSleep', 'VIP']\n",
    "cat_features_one_hot = ['HomePlanet','Destination']"
   ]
  },
  {
   "cell_type": "code",
   "execution_count": 21,
   "metadata": {},
   "outputs": [],
   "source": [
    "# The ColumnTransformer class needs a list of transformers, these transformers are tuples of 3 values: \n",
    "# Name of the step, the transformer to run, the objects affected by the step\n",
    "# The remainder parameter controls what to do with the columns not involved in the ColumnTransformer\n",
    "# Remainder default value = 'drop', drop the others column in the output \n",
    "# The columns in the output are ordered by their step, first in first out \n",
    "# The verbose parameter makes the ColumnTransformer return the time required to complete their operations\n",
    "# The verbose_feature_names_out parameter adds a prefix to each column with the stepname that generated it\n",
    "transformation_transformer = ColumnTransformer([\n",
    "    ('Scaler', s_scaler, num_features),\n",
    "    ('OrdinalEncoder', o_encoder, cat_features_ordinal),\n",
    "    ('OneHotEncoder', oh_encoder, cat_features_one_hot)],\n",
    "    remainder='passthrough', \n",
    "    verbose_feature_names_out=False\n",
    "    )"
   ]
  },
  {
   "cell_type": "markdown",
   "metadata": {},
   "source": [
    "XGBoost model"
   ]
  },
  {
   "cell_type": "code",
   "execution_count": 22,
   "metadata": {},
   "outputs": [],
   "source": [
    "xgb_model = XGBClassifier(n_estimators=150, learning_rate=1, verbosity=0, random_state=RANDOM_STATE, \n",
    "                            early_stopping_rounds=70, reg_lambda=8)"
   ]
  },
  {
   "cell_type": "markdown",
   "metadata": {},
   "source": [
    "Create the pipeline"
   ]
  },
  {
   "cell_type": "markdown",
   "metadata": {},
   "source": [
    "space_pipeline = Pipeline([\n",
    "    ('Imputation', imputer_transformer),\n",
    "    ('FeatureTransformation', transformation_transformer), \n",
    "    ('XGBoostModel', xgb_model)\n",
    "])"
   ]
  },
  {
   "cell_type": "code",
   "execution_count": 23,
   "metadata": {},
   "outputs": [],
   "source": [
    "# The ColumnTransformer class needs a list of transformers, these transformers are tuples of 3 values: \n",
    "# Name of the step, the transformer to run, the objects affected by the step\n",
    "# The remainder parameter controls what to do with the columns not involved in the ColumnTransformer\n",
    "# Remainder default value = 'drop', drop the others column in the output \n",
    "# The columns in the output are ordered by their step, first in first out \n",
    "# The verbose parameter makes the ColumnTransformer return the time required to complete their operations\n",
    "# The verbose_feature_names_out parameter adds a prefix to each column with the stepname that generated it\n",
    "transformation_transformer = ColumnTransformer([\n",
    "    ('Median', s_imputer_median, median_features), \n",
    "    ('Mode', s_imputer_mode, mode_features), \n",
    "    ('Const', s_imputer_const, const_features), \n",
    "    ('Cabin', s_imputer_const_cab, const_cab_features),\n",
    "    ('Scaler', s_scaler, num_features),\n",
    "    ('OrdinalEncoder', o_encoder, cat_features_ordinal),\n",
    "    ('OneHotEncoder', oh_encoder, cat_features_one_hot)],\n",
    "    remainder='passthrough', \n",
    "    verbose_feature_names_out=False\n",
    "    )"
   ]
  },
  {
   "cell_type": "code",
   "execution_count": 24,
   "metadata": {},
   "outputs": [],
   "source": [
    "space_pipeline = Pipeline([\n",
    "    ('ColumnTransformer', transformation_transformer), \n",
    "    ('XGBoostModel', xgb_model)\n",
    "])"
   ]
  },
  {
   "cell_type": "code",
   "execution_count": 25,
   "metadata": {},
   "outputs": [],
   "source": [
    "# space_pipeline.fit(X=x_train, y=y_train)"
   ]
  },
  {
   "cell_type": "code",
   "execution_count": 26,
   "metadata": {},
   "outputs": [
    {
     "data": {
      "text/plain": [
       "Index(['Age', 'CryoSleep', 'Destination', 'HomePlanet', 'VIP', 'FoodCourt',\n",
       "       'ShoppingMall', 'Spa', 'VRDeck', 'RoomService', 'Cabin'],\n",
       "      dtype='object')"
      ]
     },
     "execution_count": 26,
     "metadata": {},
     "output_type": "execute_result"
    }
   ],
   "source": [
    "x_train.columns"
   ]
  },
  {
   "cell_type": "code",
   "execution_count": null,
   "metadata": {},
   "outputs": [],
   "source": []
  }
 ],
 "metadata": {
  "kernelspec": {
   "display_name": "Python 3",
   "language": "python",
   "name": "python3"
  },
  "language_info": {
   "codemirror_mode": {
    "name": "ipython",
    "version": 3
   },
   "file_extension": ".py",
   "mimetype": "text/x-python",
   "name": "python",
   "nbconvert_exporter": "python",
   "pygments_lexer": "ipython3",
   "version": "3.11.0"
  },
  "orig_nbformat": 4
 },
 "nbformat": 4,
 "nbformat_minor": 2
}
