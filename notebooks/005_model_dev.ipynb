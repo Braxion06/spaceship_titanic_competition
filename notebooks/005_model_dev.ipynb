{
 "cells": [
  {
   "cell_type": "markdown",
   "metadata": {},
   "source": [
    "# Model Developement"
   ]
  },
  {
   "cell_type": "markdown",
   "metadata": {},
   "source": [
    "This is the model development notebook  "
   ]
  },
  {
   "cell_type": "markdown",
   "metadata": {},
   "source": [
    "Import the required libraries"
   ]
  },
  {
   "cell_type": "code",
   "execution_count": null,
   "metadata": {},
   "outputs": [
    {
     "name": "stderr",
     "output_type": "stream",
     "text": [
      "C:\\Users\\Brahyam Almonte Ruiz\\AppData\\Roaming\\Python\\Python311\\site-packages\\scipy\\__init__.py:169: UserWarning: A NumPy version >=1.18.5 and <1.26.0 is required for this version of SciPy (detected version 1.26.0\n",
      "  warnings.warn(f\"A NumPy version >={np_minversion} and <{np_maxversion}\"\n"
     ]
    }
   ],
   "source": [
    "import numpy as np\n",
    "import pandas as pd\n",
    "import os\n",
    "import re\n",
    "from xgboost import XGBClassifier\n",
    "from sklearn import set_config\n",
    "from sklearn.pipeline import Pipeline\n",
    "from sklearn.compose import ColumnTransformer\n",
    "from sklearn.preprocessing import StandardScaler, LabelEncoder, OneHotEncoder, OrdinalEncoder, FunctionTransformer\n",
    "from sklearn.impute import SimpleImputer\n",
    "from sklearn.linear_model import LogisticRegression\n",
    "from sklearn.tree import DecisionTreeClassifier\n",
    "from sklearn.ensemble import RandomForestClassifier\n",
    "from sklearn.model_selection import train_test_split, GridSearchCV, cross_val_score\n",
    "from sklearn.metrics import confusion_matrix, mean_squared_error, accuracy_score, precision_score, recall_score, f1_score"
   ]
  },
  {
   "cell_type": "code",
   "execution_count": null,
   "metadata": {},
   "outputs": [
    {
     "name": "stdout",
     "output_type": "stream",
     "text": [
      "2.1.0\n",
      "1.26.0\n"
     ]
    }
   ],
   "source": [
    "print(pd.__version__)\n",
    "print(np.__version__)"
   ]
  },
  {
   "cell_type": "markdown",
   "metadata": {},
   "source": [
    "Setup contant values and config"
   ]
  },
  {
   "cell_type": "code",
   "execution_count": null,
   "metadata": {},
   "outputs": [],
   "source": [
    "# Set a static a homogeneus random state\n",
    "# Set every estimator or pipeline in sklearn to output a graphical representation of itself instad of pure text\n",
    "RANDOM_STATE = 1\n",
    "set_config(display='diagram')"
   ]
  },
  {
   "cell_type": "markdown",
   "metadata": {},
   "source": [
    "## Data dictionary\n",
    "\n",
    "- **PassengerId** - A unique Id for each passenger. Each Id takes the form ```gggg_pp``` where ```gggg``` indicates a group the passenger is travelling with and ```pp``` is their number within the group. People in a group are often family members, but not always.\n",
    "- **HomePlanet** - The planet the passenger departed from, typically their planet of permanent residence.\n",
    "- **CryoSleep** - Indicates whether the passenger elected to be put into suspended animation for the duration of the voyage. Passengers in cryosleep are confined to their cabins.\n",
    "- **Cabin** - The cabin number where the passenger is staying. Takes the form deck/num/side, where side can be either P for Port or S for Starboard.\n",
    "- **Destination** - The planet the passenger will be debarking to.\n",
    "- **Age** - The age of the passenger.\n",
    "- **VIP** - Whether the passenger has paid for special VIP service during the voyage.\n",
    "- **RoomService, FoodCourt, ShoppingMall, Spa, VRDeck** - Amount the passenger has billed at each of the Spaceship Titanic's many luxury amenities.\n",
    "- **Name** - The first and last names of the passenger.\n",
    "- **Transported** - Whether the passenger was transported to another dimension. This is the target, the column you are trying to predict."
   ]
  },
  {
   "cell_type": "markdown",
   "metadata": {},
   "source": [
    "## Check the dataframe"
   ]
  },
  {
   "cell_type": "markdown",
   "metadata": {},
   "source": [
    "let's load the data"
   ]
  },
  {
   "cell_type": "code",
   "execution_count": null,
   "metadata": {},
   "outputs": [],
   "source": [
    "df = pd.read_csv('../data/processed/train.csv')\n",
    "# df = pd.read_csv('../data/train.csv', dtype_backend='pyarrow')"
   ]
  },
  {
   "cell_type": "code",
   "execution_count": null,
   "metadata": {},
   "outputs": [
    {
     "data": {
      "text/html": [
       "<div>\n",
       "<style scoped>\n",
       "    .dataframe tbody tr th:only-of-type {\n",
       "        vertical-align: middle;\n",
       "    }\n",
       "\n",
       "    .dataframe tbody tr th {\n",
       "        vertical-align: top;\n",
       "    }\n",
       "\n",
       "    .dataframe thead th {\n",
       "        text-align: right;\n",
       "    }\n",
       "</style>\n",
       "<table border=\"1\" class=\"dataframe\">\n",
       "  <thead>\n",
       "    <tr style=\"text-align: right;\">\n",
       "      <th></th>\n",
       "      <th>Age</th>\n",
       "      <th>Luxury</th>\n",
       "      <th>GroupSize</th>\n",
       "      <th>Deck</th>\n",
       "      <th>CryoSleep</th>\n",
       "      <th>Side</th>\n",
       "      <th>VIP</th>\n",
       "      <th>TravelingAlone</th>\n",
       "      <th>HomePlanet_Earth</th>\n",
       "      <th>HomePlanet_Europa</th>\n",
       "      <th>HomePlanet_Mars</th>\n",
       "      <th>Destination_55 Cancri e</th>\n",
       "      <th>Destination_PSO J318.5-22</th>\n",
       "      <th>Destination_TRAPPIST-1e</th>\n",
       "      <th>PassengerId</th>\n",
       "      <th>Num</th>\n",
       "      <th>Group</th>\n",
       "      <th>Transported</th>\n",
       "    </tr>\n",
       "  </thead>\n",
       "  <tbody>\n",
       "    <tr>\n",
       "      <th>0</th>\n",
       "      <td>0.711945</td>\n",
       "      <td>-0.514066</td>\n",
       "      <td>-0.648735</td>\n",
       "      <td>2.0</td>\n",
       "      <td>0.0</td>\n",
       "      <td>1.0</td>\n",
       "      <td>0.0</td>\n",
       "      <td>1.0</td>\n",
       "      <td>0.0</td>\n",
       "      <td>1.0</td>\n",
       "      <td>0.0</td>\n",
       "      <td>0.0</td>\n",
       "      <td>0.0</td>\n",
       "      <td>1.0</td>\n",
       "      <td>0001_01</td>\n",
       "      <td>0</td>\n",
       "      <td>1</td>\n",
       "      <td>0.0</td>\n",
       "    </tr>\n",
       "    <tr>\n",
       "      <th>1</th>\n",
       "      <td>-0.334037</td>\n",
       "      <td>-0.251479</td>\n",
       "      <td>-0.648735</td>\n",
       "      <td>6.0</td>\n",
       "      <td>0.0</td>\n",
       "      <td>2.0</td>\n",
       "      <td>0.0</td>\n",
       "      <td>1.0</td>\n",
       "      <td>1.0</td>\n",
       "      <td>0.0</td>\n",
       "      <td>0.0</td>\n",
       "      <td>0.0</td>\n",
       "      <td>0.0</td>\n",
       "      <td>1.0</td>\n",
       "      <td>0002_01</td>\n",
       "      <td>0</td>\n",
       "      <td>2</td>\n",
       "      <td>1.0</td>\n",
       "    </tr>\n",
       "    <tr>\n",
       "      <th>2</th>\n",
       "      <td>2.036857</td>\n",
       "      <td>3.190333</td>\n",
       "      <td>-0.022268</td>\n",
       "      <td>1.0</td>\n",
       "      <td>0.0</td>\n",
       "      <td>2.0</td>\n",
       "      <td>1.0</td>\n",
       "      <td>0.0</td>\n",
       "      <td>0.0</td>\n",
       "      <td>1.0</td>\n",
       "      <td>0.0</td>\n",
       "      <td>0.0</td>\n",
       "      <td>0.0</td>\n",
       "      <td>1.0</td>\n",
       "      <td>0003_01</td>\n",
       "      <td>0</td>\n",
       "      <td>3</td>\n",
       "      <td>0.0</td>\n",
       "    </tr>\n",
       "    <tr>\n",
       "      <th>3</th>\n",
       "      <td>0.293552</td>\n",
       "      <td>1.332604</td>\n",
       "      <td>-0.022268</td>\n",
       "      <td>1.0</td>\n",
       "      <td>0.0</td>\n",
       "      <td>2.0</td>\n",
       "      <td>0.0</td>\n",
       "      <td>0.0</td>\n",
       "      <td>0.0</td>\n",
       "      <td>1.0</td>\n",
       "      <td>0.0</td>\n",
       "      <td>0.0</td>\n",
       "      <td>0.0</td>\n",
       "      <td>1.0</td>\n",
       "      <td>0003_02</td>\n",
       "      <td>0</td>\n",
       "      <td>3</td>\n",
       "      <td>0.0</td>\n",
       "    </tr>\n",
       "    <tr>\n",
       "      <th>4</th>\n",
       "      <td>-0.891895</td>\n",
       "      <td>-0.124824</td>\n",
       "      <td>-0.648735</td>\n",
       "      <td>6.0</td>\n",
       "      <td>0.0</td>\n",
       "      <td>2.0</td>\n",
       "      <td>0.0</td>\n",
       "      <td>1.0</td>\n",
       "      <td>1.0</td>\n",
       "      <td>0.0</td>\n",
       "      <td>0.0</td>\n",
       "      <td>0.0</td>\n",
       "      <td>0.0</td>\n",
       "      <td>1.0</td>\n",
       "      <td>0004_01</td>\n",
       "      <td>1</td>\n",
       "      <td>4</td>\n",
       "      <td>1.0</td>\n",
       "    </tr>\n",
       "  </tbody>\n",
       "</table>\n",
       "</div>"
      ],
      "text/plain": [
       "        Age    Luxury  GroupSize  Deck  CryoSleep  Side  VIP  TravelingAlone  \\\n",
       "0  0.711945 -0.514066  -0.648735   2.0        0.0   1.0  0.0             1.0   \n",
       "1 -0.334037 -0.251479  -0.648735   6.0        0.0   2.0  0.0             1.0   \n",
       "2  2.036857  3.190333  -0.022268   1.0        0.0   2.0  1.0             0.0   \n",
       "3  0.293552  1.332604  -0.022268   1.0        0.0   2.0  0.0             0.0   \n",
       "4 -0.891895 -0.124824  -0.648735   6.0        0.0   2.0  0.0             1.0   \n",
       "\n",
       "   HomePlanet_Earth  HomePlanet_Europa  HomePlanet_Mars  \\\n",
       "0               0.0                1.0              0.0   \n",
       "1               1.0                0.0              0.0   \n",
       "2               0.0                1.0              0.0   \n",
       "3               0.0                1.0              0.0   \n",
       "4               1.0                0.0              0.0   \n",
       "\n",
       "   Destination_55 Cancri e  Destination_PSO J318.5-22  \\\n",
       "0                      0.0                        0.0   \n",
       "1                      0.0                        0.0   \n",
       "2                      0.0                        0.0   \n",
       "3                      0.0                        0.0   \n",
       "4                      0.0                        0.0   \n",
       "\n",
       "   Destination_TRAPPIST-1e PassengerId  Num  Group  Transported  \n",
       "0                      1.0     0001_01    0      1          0.0  \n",
       "1                      1.0     0002_01    0      2          1.0  \n",
       "2                      1.0     0003_01    0      3          0.0  \n",
       "3                      1.0     0003_02    0      3          0.0  \n",
       "4                      1.0     0004_01    1      4          1.0  "
      ]
     },
     "execution_count": 5,
     "metadata": {},
     "output_type": "execute_result"
    }
   ],
   "source": [
    "df.head()"
   ]
  },
  {
   "cell_type": "code",
   "execution_count": null,
   "metadata": {},
   "outputs": [
    {
     "name": "stdout",
     "output_type": "stream",
     "text": [
      "<class 'pandas.core.frame.DataFrame'>\n",
      "RangeIndex: 8693 entries, 0 to 8692\n",
      "Data columns (total 18 columns):\n",
      " #   Column                     Non-Null Count  Dtype  \n",
      "---  ------                     --------------  -----  \n",
      " 0   Age                        8693 non-null   float64\n",
      " 1   Luxury                     8693 non-null   float64\n",
      " 2   GroupSize                  8693 non-null   float64\n",
      " 3   Deck                       8693 non-null   float64\n",
      " 4   CryoSleep                  8693 non-null   float64\n",
      " 5   Side                       8693 non-null   float64\n",
      " 6   VIP                        8693 non-null   float64\n",
      " 7   TravelingAlone             8693 non-null   float64\n",
      " 8   HomePlanet_Earth           8693 non-null   float64\n",
      " 9   HomePlanet_Europa          8693 non-null   float64\n",
      " 10  HomePlanet_Mars            8693 non-null   float64\n",
      " 11  Destination_55 Cancri e    8693 non-null   float64\n",
      " 12  Destination_PSO J318.5-22  8693 non-null   float64\n",
      " 13  Destination_TRAPPIST-1e    8693 non-null   float64\n",
      " 14  PassengerId                8693 non-null   object \n",
      " 15  Num                        8693 non-null   int64  \n",
      " 16  Group                      8693 non-null   int64  \n",
      " 17  Transported                8693 non-null   float64\n",
      "dtypes: float64(15), int64(2), object(1)\n",
      "memory usage: 1.2+ MB\n"
     ]
    }
   ],
   "source": [
    "df.info()"
   ]
  },
  {
   "cell_type": "markdown",
   "metadata": {},
   "source": [
    "## Separate the training data"
   ]
  },
  {
   "cell_type": "code",
   "execution_count": null,
   "metadata": {},
   "outputs": [
    {
     "name": "stdout",
     "output_type": "stream",
     "text": [
      "Features: ['Age', 'Luxury', 'GroupSize', 'CryoSleep', 'Side', 'TravelingAlone', 'Destination_55 Cancri e', 'Destination_PSO J318.5-22', 'Destination_TRAPPIST-1e', 'Group', 'VIP', 'Deck']\n",
      "Label or Target: Transported\n"
     ]
    }
   ],
   "source": [
    "# features = list(df.columns.values[:14]) + list(df.columns.values[15:-1])\n",
    "features = ['Age', 'Luxury', 'GroupSize', 'CryoSleep', 'Side', 'TravelingAlone', 'Destination_55 Cancri e', \n",
    "            'Destination_PSO J318.5-22', 'Destination_TRAPPIST-1e', 'Group', 'VIP', 'Deck']\n",
    "label = df.columns.values[-1]\n",
    "print(f'Features: {features}')\n",
    "print(f'Label or Target: {label}')"
   ]
  },
  {
   "cell_type": "markdown",
   "metadata": {},
   "source": [
    "Create the dataframes "
   ]
  },
  {
   "cell_type": "code",
   "execution_count": null,
   "metadata": {},
   "outputs": [],
   "source": [
    "x = df[features]    \n",
    "y = df[label]"
   ]
  },
  {
   "cell_type": "markdown",
   "metadata": {},
   "source": [
    "Split the dataframe into 3 parts, train, cross validation and test datasets"
   ]
  },
  {
   "cell_type": "code",
   "execution_count": null,
   "metadata": {},
   "outputs": [
    {
     "name": "stdout",
     "output_type": "stream",
     "text": [
      "X_train.shape (6954, 12) y_train.shape (6954,)\n",
      "X_cv.shape (869, 12) y_cv.shape (869,)\n",
      "X_test.shape (870, 12) y_test.shape (870,)\n"
     ]
    }
   ],
   "source": [
    "x_train, x_, y_train, y_ = train_test_split(x, y, test_size=0.20, random_state=RANDOM_STATE, shuffle=True)\n",
    "x_cv, x_test, y_cv, y_test = train_test_split(x_, y_, test_size=0.50, random_state=RANDOM_STATE, shuffle=True)\n",
    "print(\"X_train.shape\", x_train.shape, \"y_train.shape\", y_train.shape)\n",
    "print(\"X_cv.shape\", x_cv.shape, \"y_cv.shape\", y_cv.shape)\n",
    "print(\"X_test.shape\", x_test.shape, \"y_test.shape\", y_test.shape)"
   ]
  },
  {
   "cell_type": "markdown",
   "metadata": {},
   "source": [
    "## Model Building"
   ]
  },
  {
   "cell_type": "markdown",
   "metadata": {},
   "source": [
    "Baseline: \n",
    "\n",
    "A simple logistic regression model will be my baseline (score to beat)"
   ]
  },
  {
   "cell_type": "code",
   "execution_count": null,
   "metadata": {},
   "outputs": [
    {
     "name": "stderr",
     "output_type": "stream",
     "text": [
      "[Parallel(n_jobs=1)]: Using backend SequentialBackend with 1 concurrent workers.\n",
      "[Parallel(n_jobs=1)]: Done   1 out of   1 | elapsed:    0.0s finished\n"
     ]
    },
    {
     "data": {
      "text/html": [
       "<style>#sk-container-id-1 {color: black;}#sk-container-id-1 pre{padding: 0;}#sk-container-id-1 div.sk-toggleable {background-color: white;}#sk-container-id-1 label.sk-toggleable__label {cursor: pointer;display: block;width: 100%;margin-bottom: 0;padding: 0.3em;box-sizing: border-box;text-align: center;}#sk-container-id-1 label.sk-toggleable__label-arrow:before {content: \"▸\";float: left;margin-right: 0.25em;color: #696969;}#sk-container-id-1 label.sk-toggleable__label-arrow:hover:before {color: black;}#sk-container-id-1 div.sk-estimator:hover label.sk-toggleable__label-arrow:before {color: black;}#sk-container-id-1 div.sk-toggleable__content {max-height: 0;max-width: 0;overflow: hidden;text-align: left;background-color: #f0f8ff;}#sk-container-id-1 div.sk-toggleable__content pre {margin: 0.2em;color: black;border-radius: 0.25em;background-color: #f0f8ff;}#sk-container-id-1 input.sk-toggleable__control:checked~div.sk-toggleable__content {max-height: 200px;max-width: 100%;overflow: auto;}#sk-container-id-1 input.sk-toggleable__control:checked~label.sk-toggleable__label-arrow:before {content: \"▾\";}#sk-container-id-1 div.sk-estimator input.sk-toggleable__control:checked~label.sk-toggleable__label {background-color: #d4ebff;}#sk-container-id-1 div.sk-label input.sk-toggleable__control:checked~label.sk-toggleable__label {background-color: #d4ebff;}#sk-container-id-1 input.sk-hidden--visually {border: 0;clip: rect(1px 1px 1px 1px);clip: rect(1px, 1px, 1px, 1px);height: 1px;margin: -1px;overflow: hidden;padding: 0;position: absolute;width: 1px;}#sk-container-id-1 div.sk-estimator {font-family: monospace;background-color: #f0f8ff;border: 1px dotted black;border-radius: 0.25em;box-sizing: border-box;margin-bottom: 0.5em;}#sk-container-id-1 div.sk-estimator:hover {background-color: #d4ebff;}#sk-container-id-1 div.sk-parallel-item::after {content: \"\";width: 100%;border-bottom: 1px solid gray;flex-grow: 1;}#sk-container-id-1 div.sk-label:hover label.sk-toggleable__label {background-color: #d4ebff;}#sk-container-id-1 div.sk-serial::before {content: \"\";position: absolute;border-left: 1px solid gray;box-sizing: border-box;top: 0;bottom: 0;left: 50%;z-index: 0;}#sk-container-id-1 div.sk-serial {display: flex;flex-direction: column;align-items: center;background-color: white;padding-right: 0.2em;padding-left: 0.2em;position: relative;}#sk-container-id-1 div.sk-item {position: relative;z-index: 1;}#sk-container-id-1 div.sk-parallel {display: flex;align-items: stretch;justify-content: center;background-color: white;position: relative;}#sk-container-id-1 div.sk-item::before, #sk-container-id-1 div.sk-parallel-item::before {content: \"\";position: absolute;border-left: 1px solid gray;box-sizing: border-box;top: 0;bottom: 0;left: 50%;z-index: -1;}#sk-container-id-1 div.sk-parallel-item {display: flex;flex-direction: column;z-index: 1;position: relative;background-color: white;}#sk-container-id-1 div.sk-parallel-item:first-child::after {align-self: flex-end;width: 50%;}#sk-container-id-1 div.sk-parallel-item:last-child::after {align-self: flex-start;width: 50%;}#sk-container-id-1 div.sk-parallel-item:only-child::after {width: 0;}#sk-container-id-1 div.sk-dashed-wrapped {border: 1px dashed gray;margin: 0 0.4em 0.5em 0.4em;box-sizing: border-box;padding-bottom: 0.4em;background-color: white;}#sk-container-id-1 div.sk-label label {font-family: monospace;font-weight: bold;display: inline-block;line-height: 1.2em;}#sk-container-id-1 div.sk-label-container {text-align: center;}#sk-container-id-1 div.sk-container {/* jupyter's `normalize.less` sets `[hidden] { display: none; }` but bootstrap.min.css set `[hidden] { display: none !important; }` so we also need the `!important` here to be able to override the default hidden behavior on the sphinx rendered scikit-learn.org. See: https://github.com/scikit-learn/scikit-learn/issues/21755 */display: inline-block !important;position: relative;}#sk-container-id-1 div.sk-text-repr-fallback {display: none;}</style><div id=\"sk-container-id-1\" class=\"sk-top-container\"><div class=\"sk-text-repr-fallback\"><pre>LogisticRegression(random_state=1, verbose=1)</pre><b>In a Jupyter environment, please rerun this cell to show the HTML representation or trust the notebook. <br />On GitHub, the HTML representation is unable to render, please try loading this page with nbviewer.org.</b></div><div class=\"sk-container\" hidden><div class=\"sk-item\"><div class=\"sk-estimator sk-toggleable\"><input class=\"sk-toggleable__control sk-hidden--visually\" id=\"sk-estimator-id-1\" type=\"checkbox\" checked><label for=\"sk-estimator-id-1\" class=\"sk-toggleable__label sk-toggleable__label-arrow\">LogisticRegression</label><div class=\"sk-toggleable__content\"><pre>LogisticRegression(random_state=1, verbose=1)</pre></div></div></div></div></div>"
      ],
      "text/plain": [
       "LogisticRegression(random_state=1, verbose=1)"
      ]
     },
     "execution_count": 10,
     "metadata": {},
     "output_type": "execute_result"
    }
   ],
   "source": [
    "log_reg_model = LogisticRegression(penalty='l2', random_state=RANDOM_STATE, max_iter=100, verbose=1)\n",
    "log_reg_model.fit(x_train, y_train)"
   ]
  },
  {
   "cell_type": "code",
   "execution_count": null,
   "metadata": {},
   "outputs": [
    {
     "name": "stdout",
     "output_type": "stream",
     "text": [
      "Metrics\n",
      "Accuracy in the train dataset: 0.7165660051768766\n",
      "Accuracy in the cross validation dataset: 0.7295742232451093\n",
      "Accuracy in the test dataset: 0.7034482758620689\n",
      "Confusion matrix of the test dataset:\n",
      "[[326  95]\n",
      " [163 286]]\n",
      "Mean Squared Error: 0.296551724137931\n",
      "F1 Score: 0.689156626506024\n",
      "Precision Score: 0.7506561679790026\n",
      "Recall Score: 0.6369710467706013\n"
     ]
    }
   ],
   "source": [
    "print('Metrics')\n",
    "print(f'Accuracy in the train dataset: {accuracy_score(log_reg_model.predict(x_train), y_train)}')\n",
    "print(f'Accuracy in the cross validation dataset: {accuracy_score(log_reg_model.predict(x_cv), y_cv)}')\n",
    "print(f'Accuracy in the test dataset: {accuracy_score(log_reg_model.predict(x_test), y_test)}')\n",
    "print(f'Confusion matrix of the test dataset:\\n{confusion_matrix(y_test, log_reg_model.predict(x_test))}')\n",
    "print(f'Mean Squared Error: {mean_squared_error(y_test, log_reg_model.predict(x_test))}')\n",
    "print(f'F1 Score: {f1_score(y_test, log_reg_model.predict(x_test))}')\n",
    "print(f'Precision Score: {precision_score(y_test, log_reg_model.predict(x_test))}')\n",
    "print(f'Recall Score: {recall_score(y_test, log_reg_model.predict(x_test))}')"
   ]
  },
  {
   "cell_type": "markdown",
   "metadata": {},
   "source": [
    "XGBoost: \n",
    "\n",
    "Gonna try gradient boosting decision trees first. "
   ]
  },
  {
   "cell_type": "code",
   "execution_count": null,
   "metadata": {},
   "outputs": [
    {
     "name": "stdout",
     "output_type": "stream",
     "text": [
      "[0]\tvalidation_0-logloss:0.51672\n",
      "[1]\tvalidation_0-logloss:0.50162\n",
      "[2]\tvalidation_0-logloss:0.49304\n",
      "[3]\tvalidation_0-logloss:0.50719\n",
      "[4]\tvalidation_0-logloss:0.50688\n",
      "[5]\tvalidation_0-logloss:0.51640\n",
      "[6]\tvalidation_0-logloss:0.50683\n",
      "[7]\tvalidation_0-logloss:0.51178\n",
      "[8]\tvalidation_0-logloss:0.51603\n",
      "[9]\tvalidation_0-logloss:0.52412\n",
      "[10]\tvalidation_0-logloss:0.53143\n",
      "[11]\tvalidation_0-logloss:0.53499\n",
      "[12]\tvalidation_0-logloss:0.53557\n",
      "[13]\tvalidation_0-logloss:0.53426\n",
      "[14]\tvalidation_0-logloss:0.53677\n",
      "[15]\tvalidation_0-logloss:0.53960\n",
      "[16]\tvalidation_0-logloss:0.53744\n",
      "[17]\tvalidation_0-logloss:0.54614\n",
      "[18]\tvalidation_0-logloss:0.54499\n",
      "[19]\tvalidation_0-logloss:0.54458\n",
      "[20]\tvalidation_0-logloss:0.55184\n",
      "[21]\tvalidation_0-logloss:0.55467\n",
      "[22]\tvalidation_0-logloss:0.55711\n",
      "[23]\tvalidation_0-logloss:0.56153\n",
      "[24]\tvalidation_0-logloss:0.56107\n",
      "[25]\tvalidation_0-logloss:0.56381\n",
      "[26]\tvalidation_0-logloss:0.56643\n",
      "[27]\tvalidation_0-logloss:0.56825\n",
      "[28]\tvalidation_0-logloss:0.57382\n",
      "[29]\tvalidation_0-logloss:0.57160\n",
      "[30]\tvalidation_0-logloss:0.57464\n",
      "[31]\tvalidation_0-logloss:0.57549\n",
      "[32]\tvalidation_0-logloss:0.57759\n",
      "[33]\tvalidation_0-logloss:0.58337\n",
      "[34]\tvalidation_0-logloss:0.58103\n",
      "[35]\tvalidation_0-logloss:0.58487\n",
      "[36]\tvalidation_0-logloss:0.58729\n",
      "[37]\tvalidation_0-logloss:0.59422\n",
      "[38]\tvalidation_0-logloss:0.59337\n",
      "[39]\tvalidation_0-logloss:0.59760\n",
      "[40]\tvalidation_0-logloss:0.59569\n",
      "[41]\tvalidation_0-logloss:0.59613\n",
      "[42]\tvalidation_0-logloss:0.59650\n",
      "[43]\tvalidation_0-logloss:0.60744\n",
      "[44]\tvalidation_0-logloss:0.60396\n",
      "[45]\tvalidation_0-logloss:0.61058\n",
      "[46]\tvalidation_0-logloss:0.61366\n",
      "[47]\tvalidation_0-logloss:0.62102\n",
      "[48]\tvalidation_0-logloss:0.62303\n",
      "[49]\tvalidation_0-logloss:0.62504\n",
      "[50]\tvalidation_0-logloss:0.62720\n",
      "[51]\tvalidation_0-logloss:0.62970\n"
     ]
    },
    {
     "name": "stderr",
     "output_type": "stream",
     "text": [
      "C:\\Users\\Brahyam Almonte Ruiz\\AppData\\Roaming\\Python\\Python311\\site-packages\\xgboost\\data.py:335: FutureWarning: is_sparse is deprecated and will be removed in a future version. Check `isinstance(dtype, pd.SparseDtype)` instead.\n",
      "  if is_sparse(dtype):\n",
      "C:\\Users\\Brahyam Almonte Ruiz\\AppData\\Roaming\\Python\\Python311\\site-packages\\xgboost\\data.py:338: FutureWarning: is_categorical_dtype is deprecated and will be removed in a future version. Use isinstance(dtype, CategoricalDtype) instead\n",
      "  is_categorical_dtype(dtype) or is_pa_ext_categorical_dtype(dtype)\n",
      "C:\\Users\\Brahyam Almonte Ruiz\\AppData\\Roaming\\Python\\Python311\\site-packages\\xgboost\\data.py:384: FutureWarning: is_categorical_dtype is deprecated and will be removed in a future version. Use isinstance(dtype, CategoricalDtype) instead\n",
      "  if is_categorical_dtype(dtype):\n",
      "C:\\Users\\Brahyam Almonte Ruiz\\AppData\\Roaming\\Python\\Python311\\site-packages\\xgboost\\data.py:359: FutureWarning: is_categorical_dtype is deprecated and will be removed in a future version. Use isinstance(dtype, CategoricalDtype) instead\n",
      "  return is_int or is_bool or is_float or is_categorical_dtype(dtype)\n",
      "C:\\Users\\Brahyam Almonte Ruiz\\AppData\\Roaming\\Python\\Python311\\site-packages\\xgboost\\data.py:520: FutureWarning: is_sparse is deprecated and will be removed in a future version. Check `isinstance(dtype, pd.SparseDtype)` instead.\n",
      "  if is_sparse(data):\n",
      "C:\\Users\\Brahyam Almonte Ruiz\\AppData\\Roaming\\Python\\Python311\\site-packages\\xgboost\\data.py:335: FutureWarning: is_sparse is deprecated and will be removed in a future version. Check `isinstance(dtype, pd.SparseDtype)` instead.\n",
      "  if is_sparse(dtype):\n",
      "C:\\Users\\Brahyam Almonte Ruiz\\AppData\\Roaming\\Python\\Python311\\site-packages\\xgboost\\data.py:338: FutureWarning: is_categorical_dtype is deprecated and will be removed in a future version. Use isinstance(dtype, CategoricalDtype) instead\n",
      "  is_categorical_dtype(dtype) or is_pa_ext_categorical_dtype(dtype)\n",
      "C:\\Users\\Brahyam Almonte Ruiz\\AppData\\Roaming\\Python\\Python311\\site-packages\\xgboost\\data.py:384: FutureWarning: is_categorical_dtype is deprecated and will be removed in a future version. Use isinstance(dtype, CategoricalDtype) instead\n",
      "  if is_categorical_dtype(dtype):\n",
      "C:\\Users\\Brahyam Almonte Ruiz\\AppData\\Roaming\\Python\\Python311\\site-packages\\xgboost\\data.py:359: FutureWarning: is_categorical_dtype is deprecated and will be removed in a future version. Use isinstance(dtype, CategoricalDtype) instead\n",
      "  return is_int or is_bool or is_float or is_categorical_dtype(dtype)\n",
      "C:\\Users\\Brahyam Almonte Ruiz\\AppData\\Roaming\\Python\\Python311\\site-packages\\xgboost\\data.py:520: FutureWarning: is_sparse is deprecated and will be removed in a future version. Check `isinstance(dtype, pd.SparseDtype)` instead.\n",
      "  if is_sparse(data):\n"
     ]
    },
    {
     "name": "stdout",
     "output_type": "stream",
     "text": [
      "[52]\tvalidation_0-logloss:0.63030\n",
      "[53]\tvalidation_0-logloss:0.62893\n",
      "[54]\tvalidation_0-logloss:0.63441\n",
      "[55]\tvalidation_0-logloss:0.63677\n",
      "[56]\tvalidation_0-logloss:0.63756\n",
      "[57]\tvalidation_0-logloss:0.63630\n",
      "[58]\tvalidation_0-logloss:0.63722\n",
      "[59]\tvalidation_0-logloss:0.64026\n",
      "[60]\tvalidation_0-logloss:0.64268\n",
      "[61]\tvalidation_0-logloss:0.64211\n",
      "[62]\tvalidation_0-logloss:0.64083\n",
      "[63]\tvalidation_0-logloss:0.64391\n",
      "[64]\tvalidation_0-logloss:0.64496\n",
      "[65]\tvalidation_0-logloss:0.64326\n",
      "[66]\tvalidation_0-logloss:0.64470\n",
      "[67]\tvalidation_0-logloss:0.64267\n",
      "[68]\tvalidation_0-logloss:0.64464\n",
      "[69]\tvalidation_0-logloss:0.64425\n",
      "[70]\tvalidation_0-logloss:0.64298\n",
      "[71]\tvalidation_0-logloss:0.64582\n",
      "[72]\tvalidation_0-logloss:0.64349\n",
      "[73]\tvalidation_0-logloss:0.64559\n",
      "[74]\tvalidation_0-logloss:0.64590\n",
      "[75]\tvalidation_0-logloss:0.64478\n",
      "[76]\tvalidation_0-logloss:0.64742\n",
      "[77]\tvalidation_0-logloss:0.64695\n",
      "[78]\tvalidation_0-logloss:0.64825\n",
      "[79]\tvalidation_0-logloss:0.65195\n",
      "[80]\tvalidation_0-logloss:0.65964\n",
      "[81]\tvalidation_0-logloss:0.66061\n",
      "[82]\tvalidation_0-logloss:0.66238\n",
      "[83]\tvalidation_0-logloss:0.66706\n",
      "[84]\tvalidation_0-logloss:0.67031\n",
      "[85]\tvalidation_0-logloss:0.67098\n",
      "[86]\tvalidation_0-logloss:0.67143\n",
      "[87]\tvalidation_0-logloss:0.67174\n",
      "[88]\tvalidation_0-logloss:0.67629\n",
      "[89]\tvalidation_0-logloss:0.67845\n",
      "[90]\tvalidation_0-logloss:0.67842\n",
      "[91]\tvalidation_0-logloss:0.67903\n",
      "[92]\tvalidation_0-logloss:0.68039\n",
      "[93]\tvalidation_0-logloss:0.68235\n",
      "[94]\tvalidation_0-logloss:0.68273\n",
      "[95]\tvalidation_0-logloss:0.68418\n",
      "[96]\tvalidation_0-logloss:0.68599\n",
      "[97]\tvalidation_0-logloss:0.68652\n",
      "[98]\tvalidation_0-logloss:0.68758\n",
      "[99]\tvalidation_0-logloss:0.68924\n",
      "[100]\tvalidation_0-logloss:0.68834\n",
      "[101]\tvalidation_0-logloss:0.68845\n"
     ]
    },
    {
     "data": {
      "text/html": [
       "<style>#sk-container-id-2 {color: black;}#sk-container-id-2 pre{padding: 0;}#sk-container-id-2 div.sk-toggleable {background-color: white;}#sk-container-id-2 label.sk-toggleable__label {cursor: pointer;display: block;width: 100%;margin-bottom: 0;padding: 0.3em;box-sizing: border-box;text-align: center;}#sk-container-id-2 label.sk-toggleable__label-arrow:before {content: \"▸\";float: left;margin-right: 0.25em;color: #696969;}#sk-container-id-2 label.sk-toggleable__label-arrow:hover:before {color: black;}#sk-container-id-2 div.sk-estimator:hover label.sk-toggleable__label-arrow:before {color: black;}#sk-container-id-2 div.sk-toggleable__content {max-height: 0;max-width: 0;overflow: hidden;text-align: left;background-color: #f0f8ff;}#sk-container-id-2 div.sk-toggleable__content pre {margin: 0.2em;color: black;border-radius: 0.25em;background-color: #f0f8ff;}#sk-container-id-2 input.sk-toggleable__control:checked~div.sk-toggleable__content {max-height: 200px;max-width: 100%;overflow: auto;}#sk-container-id-2 input.sk-toggleable__control:checked~label.sk-toggleable__label-arrow:before {content: \"▾\";}#sk-container-id-2 div.sk-estimator input.sk-toggleable__control:checked~label.sk-toggleable__label {background-color: #d4ebff;}#sk-container-id-2 div.sk-label input.sk-toggleable__control:checked~label.sk-toggleable__label {background-color: #d4ebff;}#sk-container-id-2 input.sk-hidden--visually {border: 0;clip: rect(1px 1px 1px 1px);clip: rect(1px, 1px, 1px, 1px);height: 1px;margin: -1px;overflow: hidden;padding: 0;position: absolute;width: 1px;}#sk-container-id-2 div.sk-estimator {font-family: monospace;background-color: #f0f8ff;border: 1px dotted black;border-radius: 0.25em;box-sizing: border-box;margin-bottom: 0.5em;}#sk-container-id-2 div.sk-estimator:hover {background-color: #d4ebff;}#sk-container-id-2 div.sk-parallel-item::after {content: \"\";width: 100%;border-bottom: 1px solid gray;flex-grow: 1;}#sk-container-id-2 div.sk-label:hover label.sk-toggleable__label {background-color: #d4ebff;}#sk-container-id-2 div.sk-serial::before {content: \"\";position: absolute;border-left: 1px solid gray;box-sizing: border-box;top: 0;bottom: 0;left: 50%;z-index: 0;}#sk-container-id-2 div.sk-serial {display: flex;flex-direction: column;align-items: center;background-color: white;padding-right: 0.2em;padding-left: 0.2em;position: relative;}#sk-container-id-2 div.sk-item {position: relative;z-index: 1;}#sk-container-id-2 div.sk-parallel {display: flex;align-items: stretch;justify-content: center;background-color: white;position: relative;}#sk-container-id-2 div.sk-item::before, #sk-container-id-2 div.sk-parallel-item::before {content: \"\";position: absolute;border-left: 1px solid gray;box-sizing: border-box;top: 0;bottom: 0;left: 50%;z-index: -1;}#sk-container-id-2 div.sk-parallel-item {display: flex;flex-direction: column;z-index: 1;position: relative;background-color: white;}#sk-container-id-2 div.sk-parallel-item:first-child::after {align-self: flex-end;width: 50%;}#sk-container-id-2 div.sk-parallel-item:last-child::after {align-self: flex-start;width: 50%;}#sk-container-id-2 div.sk-parallel-item:only-child::after {width: 0;}#sk-container-id-2 div.sk-dashed-wrapped {border: 1px dashed gray;margin: 0 0.4em 0.5em 0.4em;box-sizing: border-box;padding-bottom: 0.4em;background-color: white;}#sk-container-id-2 div.sk-label label {font-family: monospace;font-weight: bold;display: inline-block;line-height: 1.2em;}#sk-container-id-2 div.sk-label-container {text-align: center;}#sk-container-id-2 div.sk-container {/* jupyter's `normalize.less` sets `[hidden] { display: none; }` but bootstrap.min.css set `[hidden] { display: none !important; }` so we also need the `!important` here to be able to override the default hidden behavior on the sphinx rendered scikit-learn.org. See: https://github.com/scikit-learn/scikit-learn/issues/21755 */display: inline-block !important;position: relative;}#sk-container-id-2 div.sk-text-repr-fallback {display: none;}</style><div id=\"sk-container-id-2\" class=\"sk-top-container\"><div class=\"sk-text-repr-fallback\"><pre>XGBClassifier(base_score=None, booster=None, callbacks=None,\n",
       "              colsample_bylevel=None, colsample_bynode=None,\n",
       "              colsample_bytree=None, device=None, early_stopping_rounds=100,\n",
       "              enable_categorical=True, eval_metric=None, feature_types=None,\n",
       "              gamma=None, grow_policy=None, importance_type=None,\n",
       "              interaction_constraints=None, learning_rate=1, max_bin=None,\n",
       "              max_cat_threshold=None, max_cat_to_onehot=None,\n",
       "              max_delta_step=None, max_depth=None, max_leaves=None,\n",
       "              min_child_weight=None, missing=nan, monotone_constraints=None,\n",
       "              multi_strategy=None, n_estimators=200, n_jobs=None,\n",
       "              num_parallel_tree=None, random_state=1, ...)</pre><b>In a Jupyter environment, please rerun this cell to show the HTML representation or trust the notebook. <br />On GitHub, the HTML representation is unable to render, please try loading this page with nbviewer.org.</b></div><div class=\"sk-container\" hidden><div class=\"sk-item\"><div class=\"sk-estimator sk-toggleable\"><input class=\"sk-toggleable__control sk-hidden--visually\" id=\"sk-estimator-id-2\" type=\"checkbox\" checked><label for=\"sk-estimator-id-2\" class=\"sk-toggleable__label sk-toggleable__label-arrow\">XGBClassifier</label><div class=\"sk-toggleable__content\"><pre>XGBClassifier(base_score=None, booster=None, callbacks=None,\n",
       "              colsample_bylevel=None, colsample_bynode=None,\n",
       "              colsample_bytree=None, device=None, early_stopping_rounds=100,\n",
       "              enable_categorical=True, eval_metric=None, feature_types=None,\n",
       "              gamma=None, grow_policy=None, importance_type=None,\n",
       "              interaction_constraints=None, learning_rate=1, max_bin=None,\n",
       "              max_cat_threshold=None, max_cat_to_onehot=None,\n",
       "              max_delta_step=None, max_depth=None, max_leaves=None,\n",
       "              min_child_weight=None, missing=nan, monotone_constraints=None,\n",
       "              multi_strategy=None, n_estimators=200, n_jobs=None,\n",
       "              num_parallel_tree=None, random_state=1, ...)</pre></div></div></div></div></div>"
      ],
      "text/plain": [
       "XGBClassifier(base_score=None, booster=None, callbacks=None,\n",
       "              colsample_bylevel=None, colsample_bynode=None,\n",
       "              colsample_bytree=None, device=None, early_stopping_rounds=100,\n",
       "              enable_categorical=True, eval_metric=None, feature_types=None,\n",
       "              gamma=None, grow_policy=None, importance_type=None,\n",
       "              interaction_constraints=None, learning_rate=1, max_bin=None,\n",
       "              max_cat_threshold=None, max_cat_to_onehot=None,\n",
       "              max_delta_step=None, max_depth=None, max_leaves=None,\n",
       "              min_child_weight=None, missing=nan, monotone_constraints=None,\n",
       "              multi_strategy=None, n_estimators=200, n_jobs=None,\n",
       "              num_parallel_tree=None, random_state=1, ...)"
      ]
     },
     "execution_count": 12,
     "metadata": {},
     "output_type": "execute_result"
    }
   ],
   "source": [
    "xgb_model = XGBClassifier(n_estimators=200, learning_rate=1, verbosity=1, random_state=RANDOM_STATE, \n",
    "                            early_stopping_rounds=100, reg_lambda=2, enable_categorical=True)\n",
    "xgb_model.fit(x_train, y_train, eval_set=[(x_cv, y_cv)])"
   ]
  },
  {
   "cell_type": "code",
   "execution_count": null,
   "metadata": {},
   "outputs": [
    {
     "data": {
      "text/plain": [
       "{'validation_0': OrderedDict([('logloss',\n",
       "               [0.5167241837953671,\n",
       "                0.5016192479018375,\n",
       "                0.49303551635118703,\n",
       "                0.5071913005786297,\n",
       "                0.5068849395361479,\n",
       "                0.5164013821374458,\n",
       "                0.5068306656691253,\n",
       "                0.5117842241820544,\n",
       "                0.5160256069184627,\n",
       "                0.524124786610138,\n",
       "                0.531434839955433,\n",
       "                0.5349926890727196,\n",
       "                0.5355679824129217,\n",
       "                0.5342568154318342,\n",
       "                0.5367707491340297,\n",
       "                0.5396036101204141,\n",
       "                0.5374438401703282,\n",
       "                0.5461403984706978,\n",
       "                0.5449907921195489,\n",
       "                0.5445774942245816,\n",
       "                0.5518354710081017,\n",
       "                0.5546707090942313,\n",
       "                0.5571121995135054,\n",
       "                0.5615257092604444,\n",
       "                0.5610731631278852,\n",
       "                0.5638145936109464,\n",
       "                0.5664338024843366,\n",
       "                0.5682525645508171,\n",
       "                0.5738221966721277,\n",
       "                0.5715998223485592,\n",
       "                0.5746380658208681,\n",
       "                0.5754902182314974,\n",
       "                0.5775942380684177,\n",
       "                0.5833714913688585,\n",
       "                0.5810311887240968,\n",
       "                0.5848725786585025,\n",
       "                0.5872942477898839,\n",
       "                0.5942168285518937,\n",
       "                0.5933708937254809,\n",
       "                0.5976026473596868,\n",
       "                0.5956910817078329,\n",
       "                0.5961331658968212,\n",
       "                0.5965048511277151,\n",
       "                0.6074433768852919,\n",
       "                0.6039636383768829,\n",
       "                0.6105810313694257,\n",
       "                0.6136558480495999,\n",
       "                0.6210248571105977,\n",
       "                0.6230311591945983,\n",
       "                0.6250434271055728,\n",
       "                0.6271953454690177,\n",
       "                0.6297012716418647,\n",
       "                0.6303048492713023,\n",
       "                0.6289340422879348,\n",
       "                0.6344145728024937,\n",
       "                0.636765091344718,\n",
       "                0.6375643456952048,\n",
       "                0.6363034933566636,\n",
       "                0.6372171142311245,\n",
       "                0.6402573039978434,\n",
       "                0.6426781806174564,\n",
       "                0.6421100524841935,\n",
       "                0.6408253351058337,\n",
       "                0.6439068333779941,\n",
       "                0.6449566713557758,\n",
       "                0.6432644248577187,\n",
       "                0.6446983958627153,\n",
       "                0.6426679052547927,\n",
       "                0.6446411969548373,\n",
       "                0.6442520697721407,\n",
       "                0.6429841148416415,\n",
       "                0.6458162193847378,\n",
       "                0.6434865462183982,\n",
       "                0.6455854714187544,\n",
       "                0.6458992973071792,\n",
       "                0.6447760693387548,\n",
       "                0.6474216093496292,\n",
       "                0.6469546946191712,\n",
       "                0.6482487708398851,\n",
       "                0.6519526392120888,\n",
       "                0.6596411561396847,\n",
       "                0.6606112150474627,\n",
       "                0.6623758319842322,\n",
       "                0.6670612513669358,\n",
       "                0.6703099308798086,\n",
       "                0.6709820052459894,\n",
       "                0.671434139911535,\n",
       "                0.6717365523463108,\n",
       "                0.6762865671581003,\n",
       "                0.6784479563932889,\n",
       "                0.6784198344964123,\n",
       "                0.6790301416497878,\n",
       "                0.6803867598432736,\n",
       "                0.6823510772846452,\n",
       "                0.6827261676841065,\n",
       "                0.684183674923186,\n",
       "                0.6859878274946972,\n",
       "                0.6865244944339702,\n",
       "                0.6875824138803196,\n",
       "                0.6892425065614692,\n",
       "                0.6883405132686647,\n",
       "                0.6884500364464442,\n",
       "                0.6900507408603392])])}"
      ]
     },
     "execution_count": 13,
     "metadata": {},
     "output_type": "execute_result"
    }
   ],
   "source": [
    "xgb_model.evals_result()"
   ]
  },
  {
   "cell_type": "code",
   "execution_count": null,
   "metadata": {},
   "outputs": [
    {
     "name": "stderr",
     "output_type": "stream",
     "text": [
      "C:\\Users\\Brahyam Almonte Ruiz\\AppData\\Roaming\\Python\\Python311\\site-packages\\xgboost\\data.py:335: FutureWarning: is_sparse is deprecated and will be removed in a future version. Check `isinstance(dtype, pd.SparseDtype)` instead.\n",
      "  if is_sparse(dtype):\n",
      "C:\\Users\\Brahyam Almonte Ruiz\\AppData\\Roaming\\Python\\Python311\\site-packages\\xgboost\\data.py:338: FutureWarning: is_categorical_dtype is deprecated and will be removed in a future version. Use isinstance(dtype, CategoricalDtype) instead\n",
      "  is_categorical_dtype(dtype) or is_pa_ext_categorical_dtype(dtype)\n",
      "C:\\Users\\Brahyam Almonte Ruiz\\AppData\\Roaming\\Python\\Python311\\site-packages\\xgboost\\data.py:384: FutureWarning: is_categorical_dtype is deprecated and will be removed in a future version. Use isinstance(dtype, CategoricalDtype) instead\n",
      "  if is_categorical_dtype(dtype):\n",
      "C:\\Users\\Brahyam Almonte Ruiz\\AppData\\Roaming\\Python\\Python311\\site-packages\\xgboost\\data.py:359: FutureWarning: is_categorical_dtype is deprecated and will be removed in a future version. Use isinstance(dtype, CategoricalDtype) instead\n",
      "  return is_int or is_bool or is_float or is_categorical_dtype(dtype)\n"
     ]
    },
    {
     "data": {
      "text/plain": [
       "0.7853034224906529"
      ]
     },
     "execution_count": 14,
     "metadata": {},
     "output_type": "execute_result"
    }
   ],
   "source": [
    "xgb_model.score(x_train, y_train)"
   ]
  },
  {
   "cell_type": "code",
   "execution_count": null,
   "metadata": {},
   "outputs": [
    {
     "name": "stdout",
     "output_type": "stream",
     "text": [
      "Metrics\n",
      "Accuracy in the train dataset: 0.7853034224906529\n",
      "Accuracy in the cross validation dataset: 0.7548906789413119\n",
      "Accuracy in the test dataset: 0.7344827586206897\n",
      "Confusion matrix of the test dataset:\n",
      "[[339  82]\n",
      " [149 300]]\n",
      "Mean Squared Error: 0.2655172413793103\n",
      "F1 Score: 0.7220216606498194\n",
      "Precision Score: 0.7853403141361257\n",
      "Recall Score: 0.6681514476614699\n"
     ]
    },
    {
     "name": "stderr",
     "output_type": "stream",
     "text": [
      "C:\\Users\\Brahyam Almonte Ruiz\\AppData\\Roaming\\Python\\Python311\\site-packages\\xgboost\\data.py:335: FutureWarning: is_sparse is deprecated and will be removed in a future version. Check `isinstance(dtype, pd.SparseDtype)` instead.\n",
      "  if is_sparse(dtype):\n",
      "C:\\Users\\Brahyam Almonte Ruiz\\AppData\\Roaming\\Python\\Python311\\site-packages\\xgboost\\data.py:338: FutureWarning: is_categorical_dtype is deprecated and will be removed in a future version. Use isinstance(dtype, CategoricalDtype) instead\n",
      "  is_categorical_dtype(dtype) or is_pa_ext_categorical_dtype(dtype)\n",
      "C:\\Users\\Brahyam Almonte Ruiz\\AppData\\Roaming\\Python\\Python311\\site-packages\\xgboost\\data.py:384: FutureWarning: is_categorical_dtype is deprecated and will be removed in a future version. Use isinstance(dtype, CategoricalDtype) instead\n",
      "  if is_categorical_dtype(dtype):\n",
      "C:\\Users\\Brahyam Almonte Ruiz\\AppData\\Roaming\\Python\\Python311\\site-packages\\xgboost\\data.py:359: FutureWarning: is_categorical_dtype is deprecated and will be removed in a future version. Use isinstance(dtype, CategoricalDtype) instead\n",
      "  return is_int or is_bool or is_float or is_categorical_dtype(dtype)\n",
      "C:\\Users\\Brahyam Almonte Ruiz\\AppData\\Roaming\\Python\\Python311\\site-packages\\xgboost\\data.py:335: FutureWarning: is_sparse is deprecated and will be removed in a future version. Check `isinstance(dtype, pd.SparseDtype)` instead.\n",
      "  if is_sparse(dtype):\n",
      "C:\\Users\\Brahyam Almonte Ruiz\\AppData\\Roaming\\Python\\Python311\\site-packages\\xgboost\\data.py:338: FutureWarning: is_categorical_dtype is deprecated and will be removed in a future version. Use isinstance(dtype, CategoricalDtype) instead\n",
      "  is_categorical_dtype(dtype) or is_pa_ext_categorical_dtype(dtype)\n",
      "C:\\Users\\Brahyam Almonte Ruiz\\AppData\\Roaming\\Python\\Python311\\site-packages\\xgboost\\data.py:384: FutureWarning: is_categorical_dtype is deprecated and will be removed in a future version. Use isinstance(dtype, CategoricalDtype) instead\n",
      "  if is_categorical_dtype(dtype):\n",
      "C:\\Users\\Brahyam Almonte Ruiz\\AppData\\Roaming\\Python\\Python311\\site-packages\\xgboost\\data.py:359: FutureWarning: is_categorical_dtype is deprecated and will be removed in a future version. Use isinstance(dtype, CategoricalDtype) instead\n",
      "  return is_int or is_bool or is_float or is_categorical_dtype(dtype)\n",
      "C:\\Users\\Brahyam Almonte Ruiz\\AppData\\Roaming\\Python\\Python311\\site-packages\\xgboost\\data.py:335: FutureWarning: is_sparse is deprecated and will be removed in a future version. Check `isinstance(dtype, pd.SparseDtype)` instead.\n",
      "  if is_sparse(dtype):\n",
      "C:\\Users\\Brahyam Almonte Ruiz\\AppData\\Roaming\\Python\\Python311\\site-packages\\xgboost\\data.py:338: FutureWarning: is_categorical_dtype is deprecated and will be removed in a future version. Use isinstance(dtype, CategoricalDtype) instead\n",
      "  is_categorical_dtype(dtype) or is_pa_ext_categorical_dtype(dtype)\n",
      "C:\\Users\\Brahyam Almonte Ruiz\\AppData\\Roaming\\Python\\Python311\\site-packages\\xgboost\\data.py:384: FutureWarning: is_categorical_dtype is deprecated and will be removed in a future version. Use isinstance(dtype, CategoricalDtype) instead\n",
      "  if is_categorical_dtype(dtype):\n",
      "C:\\Users\\Brahyam Almonte Ruiz\\AppData\\Roaming\\Python\\Python311\\site-packages\\xgboost\\data.py:359: FutureWarning: is_categorical_dtype is deprecated and will be removed in a future version. Use isinstance(dtype, CategoricalDtype) instead\n",
      "  return is_int or is_bool or is_float or is_categorical_dtype(dtype)\n",
      "C:\\Users\\Brahyam Almonte Ruiz\\AppData\\Roaming\\Python\\Python311\\site-packages\\xgboost\\data.py:335: FutureWarning: is_sparse is deprecated and will be removed in a future version. Check `isinstance(dtype, pd.SparseDtype)` instead.\n",
      "  if is_sparse(dtype):\n",
      "C:\\Users\\Brahyam Almonte Ruiz\\AppData\\Roaming\\Python\\Python311\\site-packages\\xgboost\\data.py:338: FutureWarning: is_categorical_dtype is deprecated and will be removed in a future version. Use isinstance(dtype, CategoricalDtype) instead\n",
      "  is_categorical_dtype(dtype) or is_pa_ext_categorical_dtype(dtype)\n",
      "C:\\Users\\Brahyam Almonte Ruiz\\AppData\\Roaming\\Python\\Python311\\site-packages\\xgboost\\data.py:384: FutureWarning: is_categorical_dtype is deprecated and will be removed in a future version. Use isinstance(dtype, CategoricalDtype) instead\n",
      "  if is_categorical_dtype(dtype):\n",
      "C:\\Users\\Brahyam Almonte Ruiz\\AppData\\Roaming\\Python\\Python311\\site-packages\\xgboost\\data.py:359: FutureWarning: is_categorical_dtype is deprecated and will be removed in a future version. Use isinstance(dtype, CategoricalDtype) instead\n",
      "  return is_int or is_bool or is_float or is_categorical_dtype(dtype)\n",
      "C:\\Users\\Brahyam Almonte Ruiz\\AppData\\Roaming\\Python\\Python311\\site-packages\\xgboost\\data.py:335: FutureWarning: is_sparse is deprecated and will be removed in a future version. Check `isinstance(dtype, pd.SparseDtype)` instead.\n",
      "  if is_sparse(dtype):\n",
      "C:\\Users\\Brahyam Almonte Ruiz\\AppData\\Roaming\\Python\\Python311\\site-packages\\xgboost\\data.py:338: FutureWarning: is_categorical_dtype is deprecated and will be removed in a future version. Use isinstance(dtype, CategoricalDtype) instead\n",
      "  is_categorical_dtype(dtype) or is_pa_ext_categorical_dtype(dtype)\n",
      "C:\\Users\\Brahyam Almonte Ruiz\\AppData\\Roaming\\Python\\Python311\\site-packages\\xgboost\\data.py:384: FutureWarning: is_categorical_dtype is deprecated and will be removed in a future version. Use isinstance(dtype, CategoricalDtype) instead\n",
      "  if is_categorical_dtype(dtype):\n",
      "C:\\Users\\Brahyam Almonte Ruiz\\AppData\\Roaming\\Python\\Python311\\site-packages\\xgboost\\data.py:359: FutureWarning: is_categorical_dtype is deprecated and will be removed in a future version. Use isinstance(dtype, CategoricalDtype) instead\n",
      "  return is_int or is_bool or is_float or is_categorical_dtype(dtype)\n",
      "C:\\Users\\Brahyam Almonte Ruiz\\AppData\\Roaming\\Python\\Python311\\site-packages\\xgboost\\data.py:335: FutureWarning: is_sparse is deprecated and will be removed in a future version. Check `isinstance(dtype, pd.SparseDtype)` instead.\n",
      "  if is_sparse(dtype):\n",
      "C:\\Users\\Brahyam Almonte Ruiz\\AppData\\Roaming\\Python\\Python311\\site-packages\\xgboost\\data.py:338: FutureWarning: is_categorical_dtype is deprecated and will be removed in a future version. Use isinstance(dtype, CategoricalDtype) instead\n",
      "  is_categorical_dtype(dtype) or is_pa_ext_categorical_dtype(dtype)\n",
      "C:\\Users\\Brahyam Almonte Ruiz\\AppData\\Roaming\\Python\\Python311\\site-packages\\xgboost\\data.py:384: FutureWarning: is_categorical_dtype is deprecated and will be removed in a future version. Use isinstance(dtype, CategoricalDtype) instead\n",
      "  if is_categorical_dtype(dtype):\n",
      "C:\\Users\\Brahyam Almonte Ruiz\\AppData\\Roaming\\Python\\Python311\\site-packages\\xgboost\\data.py:359: FutureWarning: is_categorical_dtype is deprecated and will be removed in a future version. Use isinstance(dtype, CategoricalDtype) instead\n",
      "  return is_int or is_bool or is_float or is_categorical_dtype(dtype)\n",
      "C:\\Users\\Brahyam Almonte Ruiz\\AppData\\Roaming\\Python\\Python311\\site-packages\\xgboost\\data.py:335: FutureWarning: is_sparse is deprecated and will be removed in a future version. Check `isinstance(dtype, pd.SparseDtype)` instead.\n",
      "  if is_sparse(dtype):\n",
      "C:\\Users\\Brahyam Almonte Ruiz\\AppData\\Roaming\\Python\\Python311\\site-packages\\xgboost\\data.py:338: FutureWarning: is_categorical_dtype is deprecated and will be removed in a future version. Use isinstance(dtype, CategoricalDtype) instead\n",
      "  is_categorical_dtype(dtype) or is_pa_ext_categorical_dtype(dtype)\n",
      "C:\\Users\\Brahyam Almonte Ruiz\\AppData\\Roaming\\Python\\Python311\\site-packages\\xgboost\\data.py:384: FutureWarning: is_categorical_dtype is deprecated and will be removed in a future version. Use isinstance(dtype, CategoricalDtype) instead\n",
      "  if is_categorical_dtype(dtype):\n",
      "C:\\Users\\Brahyam Almonte Ruiz\\AppData\\Roaming\\Python\\Python311\\site-packages\\xgboost\\data.py:359: FutureWarning: is_categorical_dtype is deprecated and will be removed in a future version. Use isinstance(dtype, CategoricalDtype) instead\n",
      "  return is_int or is_bool or is_float or is_categorical_dtype(dtype)\n",
      "C:\\Users\\Brahyam Almonte Ruiz\\AppData\\Roaming\\Python\\Python311\\site-packages\\xgboost\\data.py:335: FutureWarning: is_sparse is deprecated and will be removed in a future version. Check `isinstance(dtype, pd.SparseDtype)` instead.\n",
      "  if is_sparse(dtype):\n",
      "C:\\Users\\Brahyam Almonte Ruiz\\AppData\\Roaming\\Python\\Python311\\site-packages\\xgboost\\data.py:338: FutureWarning: is_categorical_dtype is deprecated and will be removed in a future version. Use isinstance(dtype, CategoricalDtype) instead\n",
      "  is_categorical_dtype(dtype) or is_pa_ext_categorical_dtype(dtype)\n",
      "C:\\Users\\Brahyam Almonte Ruiz\\AppData\\Roaming\\Python\\Python311\\site-packages\\xgboost\\data.py:384: FutureWarning: is_categorical_dtype is deprecated and will be removed in a future version. Use isinstance(dtype, CategoricalDtype) instead\n",
      "  if is_categorical_dtype(dtype):\n",
      "C:\\Users\\Brahyam Almonte Ruiz\\AppData\\Roaming\\Python\\Python311\\site-packages\\xgboost\\data.py:359: FutureWarning: is_categorical_dtype is deprecated and will be removed in a future version. Use isinstance(dtype, CategoricalDtype) instead\n",
      "  return is_int or is_bool or is_float or is_categorical_dtype(dtype)\n"
     ]
    }
   ],
   "source": [
    "print('Metrics')\n",
    "print(f'Accuracy in the train dataset: {accuracy_score(xgb_model.predict(x_train), y_train)}')\n",
    "print(f'Accuracy in the cross validation dataset: {accuracy_score(xgb_model.predict(x_cv), y_cv)}')\n",
    "print(f'Accuracy in the test dataset: {accuracy_score(xgb_model.predict(x_test), y_test)}')\n",
    "print(f'Confusion matrix of the test dataset:\\n{confusion_matrix(y_test, xgb_model.predict(x_test))}')\n",
    "print(f'Mean Squared Error: {mean_squared_error(y_test, xgb_model.predict(x_test))}')\n",
    "print(f'F1 Score: {f1_score(y_test, xgb_model.predict(x_test))}')\n",
    "print(f'Precision Score: {precision_score(y_test, xgb_model.predict(x_test))}')\n",
    "print(f'Recall Score: {recall_score(y_test, xgb_model.predict(x_test))}')"
   ]
  },
  {
   "cell_type": "markdown",
   "metadata": {},
   "source": [
    "right now the model is overfitting, i'm still going to upload my first entry as is, in order to get some feedback on the real test data"
   ]
  },
  {
   "cell_type": "markdown",
   "metadata": {},
   "source": [
    "## Productionize code "
   ]
  },
  {
   "cell_type": "markdown",
   "metadata": {},
   "source": [
    "Now lets make a pipeline to chain the previous notebooks into simpler code"
   ]
  },
  {
   "cell_type": "markdown",
   "metadata": {},
   "source": [
    "Load the submission(test) dataset"
   ]
  },
  {
   "cell_type": "code",
   "execution_count": null,
   "metadata": {},
   "outputs": [],
   "source": [
    "df = pd.read_csv('../data/raw/train.csv')\n",
    "test_df = pd.read_csv('../data/raw/test.csv')"
   ]
  },
  {
   "cell_type": "code",
   "execution_count": null,
   "metadata": {},
   "outputs": [
    {
     "name": "stdout",
     "output_type": "stream",
     "text": [
      "<class 'pandas.core.frame.DataFrame'>\n",
      "RangeIndex: 8693 entries, 0 to 8692\n",
      "Data columns (total 14 columns):\n",
      " #   Column        Non-Null Count  Dtype  \n",
      "---  ------        --------------  -----  \n",
      " 0   PassengerId   8693 non-null   object \n",
      " 1   HomePlanet    8492 non-null   object \n",
      " 2   CryoSleep     8476 non-null   object \n",
      " 3   Cabin         8494 non-null   object \n",
      " 4   Destination   8511 non-null   object \n",
      " 5   Age           8514 non-null   float64\n",
      " 6   VIP           8490 non-null   object \n",
      " 7   RoomService   8512 non-null   float64\n",
      " 8   FoodCourt     8510 non-null   float64\n",
      " 9   ShoppingMall  8485 non-null   float64\n",
      " 10  Spa           8510 non-null   float64\n",
      " 11  VRDeck        8505 non-null   float64\n",
      " 12  Name          8493 non-null   object \n",
      " 13  Transported   8693 non-null   bool   \n",
      "dtypes: bool(1), float64(6), object(7)\n",
      "memory usage: 891.5+ KB\n"
     ]
    }
   ],
   "source": [
    "df.info()"
   ]
  },
  {
   "cell_type": "code",
   "execution_count": null,
   "metadata": {},
   "outputs": [],
   "source": [
    "def change_type(dataframe: pd.DataFrame) -> pd.DataFrame:  \n",
    "    dataframe['PassengerId'] = dataframe['PassengerId'].astype(\"category\")\n",
    "    dataframe['HomePlanet'] = dataframe['HomePlanet'].astype('category')\n",
    "    dataframe['CryoSleep'] = dataframe['CryoSleep'].astype('bool')\n",
    "    dataframe['Cabin'] = dataframe['Cabin'].astype('category')\n",
    "    # dataframe['Destination'] = dataframe['Destination'].astype('category')\n",
    "    dataframe['VIP'] = dataframe['VIP'].astype('bool')\n",
    "    return dataframe"
   ]
  },
  {
   "cell_type": "code",
   "execution_count": null,
   "metadata": {},
   "outputs": [
    {
     "data": {
      "text/html": [
       "<div>\n",
       "<style scoped>\n",
       "    .dataframe tbody tr th:only-of-type {\n",
       "        vertical-align: middle;\n",
       "    }\n",
       "\n",
       "    .dataframe tbody tr th {\n",
       "        vertical-align: top;\n",
       "    }\n",
       "\n",
       "    .dataframe thead th {\n",
       "        text-align: right;\n",
       "    }\n",
       "</style>\n",
       "<table border=\"1\" class=\"dataframe\">\n",
       "  <thead>\n",
       "    <tr style=\"text-align: right;\">\n",
       "      <th></th>\n",
       "      <th>PassengerId</th>\n",
       "      <th>HomePlanet</th>\n",
       "      <th>CryoSleep</th>\n",
       "      <th>Cabin</th>\n",
       "      <th>Destination</th>\n",
       "      <th>Age</th>\n",
       "      <th>VIP</th>\n",
       "      <th>RoomService</th>\n",
       "      <th>FoodCourt</th>\n",
       "      <th>ShoppingMall</th>\n",
       "      <th>Spa</th>\n",
       "      <th>VRDeck</th>\n",
       "      <th>Name</th>\n",
       "      <th>Transported</th>\n",
       "    </tr>\n",
       "  </thead>\n",
       "  <tbody>\n",
       "    <tr>\n",
       "      <th>0</th>\n",
       "      <td>0001_01</td>\n",
       "      <td>Europa</td>\n",
       "      <td>False</td>\n",
       "      <td>B/0/P</td>\n",
       "      <td>TRAPPIST-1e</td>\n",
       "      <td>39.0</td>\n",
       "      <td>False</td>\n",
       "      <td>0.0</td>\n",
       "      <td>0.0</td>\n",
       "      <td>0.0</td>\n",
       "      <td>0.0</td>\n",
       "      <td>0.0</td>\n",
       "      <td>Maham Ofracculy</td>\n",
       "      <td>False</td>\n",
       "    </tr>\n",
       "    <tr>\n",
       "      <th>1</th>\n",
       "      <td>0002_01</td>\n",
       "      <td>Earth</td>\n",
       "      <td>False</td>\n",
       "      <td>F/0/S</td>\n",
       "      <td>TRAPPIST-1e</td>\n",
       "      <td>24.0</td>\n",
       "      <td>False</td>\n",
       "      <td>109.0</td>\n",
       "      <td>9.0</td>\n",
       "      <td>25.0</td>\n",
       "      <td>549.0</td>\n",
       "      <td>44.0</td>\n",
       "      <td>Juanna Vines</td>\n",
       "      <td>True</td>\n",
       "    </tr>\n",
       "    <tr>\n",
       "      <th>2</th>\n",
       "      <td>0003_01</td>\n",
       "      <td>Europa</td>\n",
       "      <td>False</td>\n",
       "      <td>A/0/S</td>\n",
       "      <td>TRAPPIST-1e</td>\n",
       "      <td>58.0</td>\n",
       "      <td>True</td>\n",
       "      <td>43.0</td>\n",
       "      <td>3576.0</td>\n",
       "      <td>0.0</td>\n",
       "      <td>6715.0</td>\n",
       "      <td>49.0</td>\n",
       "      <td>Altark Susent</td>\n",
       "      <td>False</td>\n",
       "    </tr>\n",
       "    <tr>\n",
       "      <th>3</th>\n",
       "      <td>0003_02</td>\n",
       "      <td>Europa</td>\n",
       "      <td>False</td>\n",
       "      <td>A/0/S</td>\n",
       "      <td>TRAPPIST-1e</td>\n",
       "      <td>33.0</td>\n",
       "      <td>False</td>\n",
       "      <td>0.0</td>\n",
       "      <td>1283.0</td>\n",
       "      <td>371.0</td>\n",
       "      <td>3329.0</td>\n",
       "      <td>193.0</td>\n",
       "      <td>Solam Susent</td>\n",
       "      <td>False</td>\n",
       "    </tr>\n",
       "    <tr>\n",
       "      <th>4</th>\n",
       "      <td>0004_01</td>\n",
       "      <td>Earth</td>\n",
       "      <td>False</td>\n",
       "      <td>F/1/S</td>\n",
       "      <td>TRAPPIST-1e</td>\n",
       "      <td>16.0</td>\n",
       "      <td>False</td>\n",
       "      <td>303.0</td>\n",
       "      <td>70.0</td>\n",
       "      <td>151.0</td>\n",
       "      <td>565.0</td>\n",
       "      <td>2.0</td>\n",
       "      <td>Willy Santantines</td>\n",
       "      <td>True</td>\n",
       "    </tr>\n",
       "    <tr>\n",
       "      <th>...</th>\n",
       "      <td>...</td>\n",
       "      <td>...</td>\n",
       "      <td>...</td>\n",
       "      <td>...</td>\n",
       "      <td>...</td>\n",
       "      <td>...</td>\n",
       "      <td>...</td>\n",
       "      <td>...</td>\n",
       "      <td>...</td>\n",
       "      <td>...</td>\n",
       "      <td>...</td>\n",
       "      <td>...</td>\n",
       "      <td>...</td>\n",
       "      <td>...</td>\n",
       "    </tr>\n",
       "    <tr>\n",
       "      <th>8688</th>\n",
       "      <td>9276_01</td>\n",
       "      <td>Europa</td>\n",
       "      <td>False</td>\n",
       "      <td>A/98/P</td>\n",
       "      <td>55 Cancri e</td>\n",
       "      <td>41.0</td>\n",
       "      <td>True</td>\n",
       "      <td>0.0</td>\n",
       "      <td>6819.0</td>\n",
       "      <td>0.0</td>\n",
       "      <td>1643.0</td>\n",
       "      <td>74.0</td>\n",
       "      <td>Gravior Noxnuther</td>\n",
       "      <td>False</td>\n",
       "    </tr>\n",
       "    <tr>\n",
       "      <th>8689</th>\n",
       "      <td>9278_01</td>\n",
       "      <td>Earth</td>\n",
       "      <td>True</td>\n",
       "      <td>G/1499/S</td>\n",
       "      <td>PSO J318.5-22</td>\n",
       "      <td>18.0</td>\n",
       "      <td>False</td>\n",
       "      <td>0.0</td>\n",
       "      <td>0.0</td>\n",
       "      <td>0.0</td>\n",
       "      <td>0.0</td>\n",
       "      <td>0.0</td>\n",
       "      <td>Kurta Mondalley</td>\n",
       "      <td>False</td>\n",
       "    </tr>\n",
       "    <tr>\n",
       "      <th>8690</th>\n",
       "      <td>9279_01</td>\n",
       "      <td>Earth</td>\n",
       "      <td>False</td>\n",
       "      <td>G/1500/S</td>\n",
       "      <td>TRAPPIST-1e</td>\n",
       "      <td>26.0</td>\n",
       "      <td>False</td>\n",
       "      <td>0.0</td>\n",
       "      <td>0.0</td>\n",
       "      <td>1872.0</td>\n",
       "      <td>1.0</td>\n",
       "      <td>0.0</td>\n",
       "      <td>Fayey Connon</td>\n",
       "      <td>True</td>\n",
       "    </tr>\n",
       "    <tr>\n",
       "      <th>8691</th>\n",
       "      <td>9280_01</td>\n",
       "      <td>Europa</td>\n",
       "      <td>False</td>\n",
       "      <td>E/608/S</td>\n",
       "      <td>55 Cancri e</td>\n",
       "      <td>32.0</td>\n",
       "      <td>False</td>\n",
       "      <td>0.0</td>\n",
       "      <td>1049.0</td>\n",
       "      <td>0.0</td>\n",
       "      <td>353.0</td>\n",
       "      <td>3235.0</td>\n",
       "      <td>Celeon Hontichre</td>\n",
       "      <td>False</td>\n",
       "    </tr>\n",
       "    <tr>\n",
       "      <th>8692</th>\n",
       "      <td>9280_02</td>\n",
       "      <td>Europa</td>\n",
       "      <td>False</td>\n",
       "      <td>E/608/S</td>\n",
       "      <td>TRAPPIST-1e</td>\n",
       "      <td>44.0</td>\n",
       "      <td>False</td>\n",
       "      <td>126.0</td>\n",
       "      <td>4688.0</td>\n",
       "      <td>0.0</td>\n",
       "      <td>0.0</td>\n",
       "      <td>12.0</td>\n",
       "      <td>Propsh Hontichre</td>\n",
       "      <td>True</td>\n",
       "    </tr>\n",
       "  </tbody>\n",
       "</table>\n",
       "<p>8693 rows × 14 columns</p>\n",
       "</div>"
      ],
      "text/plain": [
       "     PassengerId HomePlanet  CryoSleep     Cabin    Destination   Age    VIP  \\\n",
       "0        0001_01     Europa      False     B/0/P    TRAPPIST-1e  39.0  False   \n",
       "1        0002_01      Earth      False     F/0/S    TRAPPIST-1e  24.0  False   \n",
       "2        0003_01     Europa      False     A/0/S    TRAPPIST-1e  58.0   True   \n",
       "3        0003_02     Europa      False     A/0/S    TRAPPIST-1e  33.0  False   \n",
       "4        0004_01      Earth      False     F/1/S    TRAPPIST-1e  16.0  False   \n",
       "...          ...        ...        ...       ...            ...   ...    ...   \n",
       "8688     9276_01     Europa      False    A/98/P    55 Cancri e  41.0   True   \n",
       "8689     9278_01      Earth       True  G/1499/S  PSO J318.5-22  18.0  False   \n",
       "8690     9279_01      Earth      False  G/1500/S    TRAPPIST-1e  26.0  False   \n",
       "8691     9280_01     Europa      False   E/608/S    55 Cancri e  32.0  False   \n",
       "8692     9280_02     Europa      False   E/608/S    TRAPPIST-1e  44.0  False   \n",
       "\n",
       "      RoomService  FoodCourt  ShoppingMall     Spa  VRDeck               Name  \\\n",
       "0             0.0        0.0           0.0     0.0     0.0    Maham Ofracculy   \n",
       "1           109.0        9.0          25.0   549.0    44.0       Juanna Vines   \n",
       "2            43.0     3576.0           0.0  6715.0    49.0      Altark Susent   \n",
       "3             0.0     1283.0         371.0  3329.0   193.0       Solam Susent   \n",
       "4           303.0       70.0         151.0   565.0     2.0  Willy Santantines   \n",
       "...           ...        ...           ...     ...     ...                ...   \n",
       "8688          0.0     6819.0           0.0  1643.0    74.0  Gravior Noxnuther   \n",
       "8689          0.0        0.0           0.0     0.0     0.0    Kurta Mondalley   \n",
       "8690          0.0        0.0        1872.0     1.0     0.0       Fayey Connon   \n",
       "8691          0.0     1049.0           0.0   353.0  3235.0   Celeon Hontichre   \n",
       "8692        126.0     4688.0           0.0     0.0    12.0   Propsh Hontichre   \n",
       "\n",
       "      Transported  \n",
       "0           False  \n",
       "1            True  \n",
       "2           False  \n",
       "3           False  \n",
       "4            True  \n",
       "...           ...  \n",
       "8688        False  \n",
       "8689        False  \n",
       "8690         True  \n",
       "8691        False  \n",
       "8692         True  \n",
       "\n",
       "[8693 rows x 14 columns]"
      ]
     },
     "execution_count": 19,
     "metadata": {},
     "output_type": "execute_result"
    }
   ],
   "source": [
    "change_type(df)"
   ]
  },
  {
   "cell_type": "code",
   "execution_count": null,
   "metadata": {},
   "outputs": [],
   "source": [
    "df = change_type(df)\n",
    "test_df = change_type(test_df)"
   ]
  },
  {
   "cell_type": "code",
   "execution_count": null,
   "metadata": {},
   "outputs": [
    {
     "data": {
      "text/plain": [
       "HomePlanet\n",
       "Earth     4602\n",
       "Europa    2131\n",
       "Mars      1759\n",
       "Name: count, dtype: int64"
      ]
     },
     "execution_count": 21,
     "metadata": {},
     "output_type": "execute_result"
    }
   ],
   "source": [
    "df['HomePlanet'].value_counts()"
   ]
  },
  {
   "cell_type": "code",
   "execution_count": null,
   "metadata": {},
   "outputs": [
    {
     "name": "stdout",
     "output_type": "stream",
     "text": [
      "X_train.shape (6954, 12) y_train.shape (6954,)\n",
      "X_cv.shape (869, 12) y_cv.shape (869,)\n",
      "X_test.shape (870, 12) y_test.shape (870,)\n"
     ]
    }
   ],
   "source": [
    "# features = ['Age', 'Luxury', 'GroupSize', 'CryoSleep', 'Side', 'TravelingAlone', 'Destination_55 Cancri e', \n",
    "            # 'Destination_PSO J318.5-22', 'Destination_TRAPPIST-1e', 'Group', 'VIP', 'Deck']\n",
    "# features = ['PassengerId', 'HomePlanet', 'CryoSleep', 'Cabin', 'Destination', 'Age', \n",
    "#             'VIP', 'RoomService', 'FoodCourt', 'ShoppingMall', 'Spa', 'VRDeck']\n",
    "features = ['PassengerId', 'HomePlanet', 'CryoSleep', 'Cabin', 'Destination', 'Age', \n",
    "            'VIP', 'RoomService', 'FoodCourt', 'ShoppingMall', 'Spa', 'VRDeck']\n",
    "label = 'Transported'\n",
    "x = df[features]\n",
    "y = df[label]\n",
    "x_train, x_, y_train, y_ = train_test_split(x, y, test_size=0.20, random_state=RANDOM_STATE, shuffle=True)\n",
    "x_cv, x_test, y_cv, y_test = train_test_split(x_, y_, test_size=0.50, random_state=RANDOM_STATE, shuffle=True)\n",
    "print(\"X_train.shape\", x_train.shape, \"y_train.shape\", y_train.shape)\n",
    "print(\"X_cv.shape\", x_cv.shape, \"y_cv.shape\", y_cv.shape)\n",
    "print(\"X_test.shape\", x_test.shape, \"y_test.shape\", y_test.shape)"
   ]
  },
  {
   "cell_type": "markdown",
   "metadata": {},
   "source": [
    "Prepare the Imputer_transformer"
   ]
  },
  {
   "cell_type": "code",
   "execution_count": null,
   "metadata": {},
   "outputs": [],
   "source": [
    "s_imputer_median = SimpleImputer(strategy='median')\n",
    "s_imputer_mode = SimpleImputer(strategy='most_frequent')\n",
    "s_imputer_const = SimpleImputer(strategy='constant', fill_value=0)\n",
    "s_imputer_const_cab = SimpleImputer(strategy='constant', fill_value='0/0/0')\n",
    "median_features = ['Age']\n",
    "mode_features = ['HomePlanet', 'CryoSleep', 'Destination', 'VIP']\n",
    "# mode_features = ['CryoSleep', 'Destination', 'VIP']\n",
    "const_features = ['FoodCourt', 'ShoppingMall', 'Spa', 'VRDeck', 'RoomService']\n",
    "const_cab_features = ['Cabin']"
   ]
  },
  {
   "cell_type": "code",
   "execution_count": null,
   "metadata": {},
   "outputs": [],
   "source": [
    "# The ColumnTransformer class needs a list of transformers, these transformers are tuples of 3 values: \n",
    "# Name of the step, the transformer to run, the objects affected by the step\n",
    "# The remainder parameter controls what to do with the columns not involved in the ColumnTransformer\n",
    "# Remainder default value = 'drop', drop the others column in the output \n",
    "# The columns in the output are ordered by their step, first in first out \n",
    "# The verbose parameter makes the ColumnTransformer return the time required to complete their operations\n",
    "# The verbose_feature_names_out parameter adds a prefix to each column with the stepname that generated it"
   ]
  },
  {
   "cell_type": "markdown",
   "metadata": {},
   "source": [
    "float_features = ['Age', 'FoodCourt', 'ShoppingMall', 'Spa', 'VRDeck', 'RoomService']\n",
    "for cols in float_features: \n",
    "    df[cols] = df[cols].astype('float')"
   ]
  },
  {
   "cell_type": "markdown",
   "metadata": {},
   "source": [
    "Feature engineering"
   ]
  },
  {
   "cell_type": "markdown",
   "metadata": {},
   "source": [
    "Data Transformations"
   ]
  },
  {
   "cell_type": "code",
   "execution_count": null,
   "metadata": {},
   "outputs": [],
   "source": [
    "# Prepare ColumnTransformer\n",
    "oh_encoder = OneHotEncoder(sparse_output=False)\n",
    "o_encoder = OrdinalEncoder()\n",
    "s_scaler = StandardScaler()\n",
    "# num_features = ['Age', 'Luxury', 'GroupSize']\n",
    "num_features = ['Age']\n",
    "# cat_features_ordinal = ['Deck', 'Transported', 'CryoSleep', 'Side', 'VIP', 'TravelingAlone']\n",
    "cat_features_ordinal = ['CryoSleep', 'VIP']\n",
    "cat_features_one_hot = ['HomePlanet','Destination']"
   ]
  },
  {
   "cell_type": "markdown",
   "metadata": {},
   "source": [
    "XGBoost model"
   ]
  },
  {
   "cell_type": "code",
   "execution_count": null,
   "metadata": {},
   "outputs": [],
   "source": [
    "xgb_model = XGBClassifier(n_estimators=150, learning_rate=1, verbosity=0, random_state=RANDOM_STATE, \n",
    "                            early_stopping_rounds=70, reg_lambda=8)"
   ]
  },
  {
   "cell_type": "markdown",
   "metadata": {},
   "source": [
    "Create the pipeline"
   ]
  },
  {
   "cell_type": "code",
   "execution_count": null,
   "metadata": {},
   "outputs": [],
   "source": [
    "# Prepare LabelEncoder\n",
    "l_encoder = LabelEncoder()\n",
    "\n",
    "# Prepare the ColumnTransformer: Imputer\n",
    "s_imputer_median = SimpleImputer(strategy='median')\n",
    "s_imputer_mode = SimpleImputer(strategy='most_frequent')\n",
    "s_imputer_const = SimpleImputer(strategy='constant', fill_value=0)\n",
    "s_imputer_const_cab = SimpleImputer(strategy='constant', fill_value='0/0/0')\n",
    "median_features = ['Age']\n",
    "# mode_features = ['CryoSleep', 'Destination', 'VIP']\n",
    "mode_features = ['HomePlanet', 'CryoSleep', 'Destination', 'VIP']\n",
    "const_features = ['FoodCourt', 'ShoppingMall', 'Spa', 'VRDeck', 'RoomService']\n",
    "const_cab_features = ['Cabin']\n",
    "\n",
    "# Prepare ColumnTransformer: FeatureEngineering\n",
    "feat_eng_input = ['RoomService', 'FoodCourt', 'ShoppingMall', 'Spa', 'VRDeck', 'Cabin', 'PassengerId']\n",
    "\n",
    "def new_features(dataframe: pd.DataFrame) -> pd.DataFrame:\n",
    "    dataframe[['Deck', 'Num', 'Side']] = dataframe['Cabin'].str.split('/', expand=True)\n",
    "    dataframe['Luxury'] = dataframe['RoomService'] + dataframe['FoodCourt'] + dataframe['ShoppingMall'] + dataframe['Spa'] + dataframe['VRDeck']\n",
    "    dataframe['Group'] = dataframe['PassengerId'].str.split('_', expand=True)[0]\n",
    "    dataframe['Group'] = dataframe['Group'].astype(float)\n",
    "    dataframe_group = pd.DataFrame(dataframe['Group'].value_counts()).reset_index()\n",
    "    dataframe_group = dataframe_group.rename(columns={'count': 'GroupSize'})\n",
    "    dataframe = dataframe.merge(dataframe_group, how='left', on='Group')\n",
    "    dataframe['TravelingAlone'] = 0.0\n",
    "    dataframe.loc[dataframe['GroupSize'] > 1, 'TravelingAlone'] = 0\n",
    "    dataframe.loc[dataframe['GroupSize'] == 1, 'TravelingAlone'] = 1\n",
    "    dataframe.drop(['RoomService', 'FoodCourt', 'ShoppingMall', 'Spa', 'VRDeck', 'Cabin', 'PassengerId', 'Num'], axis=1, inplace=True)\n",
    "    # dataframe.reset_index(inplace=True)\n",
    "    return dataframe\n",
    "\n",
    "\n",
    "def new_features_cols(transformer: FunctionTransformer, input_features: list) -> list :\n",
    "    cols = [col for col in transformer.feature_names_in_ if col not in \n",
    "            ['RoomService', 'FoodCourt', 'ShoppingMall', 'Spa', 'VRDeck', 'Cabin', 'Name', 'PassengerId']]\n",
    "    cols = cols + [ 'GroupSize', 'TravelingAlone']\n",
    "    return cols\n",
    "\n",
    "feat_eng_transformer = FunctionTransformer(func=new_features)\n",
    "\n",
    "# Prepare ColumnTransformer: Scaler\n",
    "oh_encoder = OneHotEncoder(sparse_output=False)\n",
    "o_encoder = OrdinalEncoder()\n",
    "s_scaler = StandardScaler()\n",
    "num_features = ['Age', 'Luxury', 'GroupSize']\n",
    "# num_features = ['Age']\n",
    "cat_features_ordinal = ['Deck', 'CryoSleep', 'Side', 'VIP']\n",
    "# cat_features_ordinal = ['CryoSleep', 'VIP']\n",
    "# cat_features_one_hot = ['Destination']\n",
    "cat_features_one_hot = ['HomePlanet','Destination']\n",
    "\n",
    "# xgb_model = XGBClassifier(n_estimators=150, learning_rate=1, verbosity=0, random_state=RANDOM_STATE, \n",
    "                            # early_stopping_rounds=70, reg_lambda=8, enable_categorical=True)\n",
    "xgb_model = XGBClassifier(n_estimators=200, learning_rate=1, verbosity=1, random_state=RANDOM_STATE, \n",
    "                            early_stopping_rounds=50, reg_lambda=8, enable_categorical=True)"
   ]
  },
  {
   "cell_type": "code",
   "execution_count": null,
   "metadata": {},
   "outputs": [],
   "source": [
    "# feat_eng_transformer.fit_transform(df)"
   ]
  },
  {
   "cell_type": "code",
   "execution_count": null,
   "metadata": {},
   "outputs": [],
   "source": [
    "# feat_eng_transformer.feature_names_in_"
   ]
  },
  {
   "cell_type": "code",
   "execution_count": null,
   "metadata": {},
   "outputs": [],
   "source": [
    "# feat_eng_transformer.get_feature_names_out()"
   ]
  },
  {
   "cell_type": "code",
   "execution_count": null,
   "metadata": {},
   "outputs": [
    {
     "data": {
      "text/html": [
       "<div>\n",
       "<style scoped>\n",
       "    .dataframe tbody tr th:only-of-type {\n",
       "        vertical-align: middle;\n",
       "    }\n",
       "\n",
       "    .dataframe tbody tr th {\n",
       "        vertical-align: top;\n",
       "    }\n",
       "\n",
       "    .dataframe thead th {\n",
       "        text-align: right;\n",
       "    }\n",
       "</style>\n",
       "<table border=\"1\" class=\"dataframe\">\n",
       "  <thead>\n",
       "    <tr style=\"text-align: right;\">\n",
       "      <th></th>\n",
       "      <th>PassengerId</th>\n",
       "      <th>HomePlanet</th>\n",
       "      <th>CryoSleep</th>\n",
       "      <th>Cabin</th>\n",
       "      <th>Destination</th>\n",
       "      <th>Age</th>\n",
       "      <th>VIP</th>\n",
       "      <th>RoomService</th>\n",
       "      <th>FoodCourt</th>\n",
       "      <th>ShoppingMall</th>\n",
       "      <th>Spa</th>\n",
       "      <th>VRDeck</th>\n",
       "      <th>Name</th>\n",
       "      <th>Transported</th>\n",
       "    </tr>\n",
       "  </thead>\n",
       "  <tbody>\n",
       "    <tr>\n",
       "      <th>0</th>\n",
       "      <td>0001_01</td>\n",
       "      <td>Europa</td>\n",
       "      <td>False</td>\n",
       "      <td>B/0/P</td>\n",
       "      <td>TRAPPIST-1e</td>\n",
       "      <td>39.0</td>\n",
       "      <td>False</td>\n",
       "      <td>0.0</td>\n",
       "      <td>0.0</td>\n",
       "      <td>0.0</td>\n",
       "      <td>0.0</td>\n",
       "      <td>0.0</td>\n",
       "      <td>Maham Ofracculy</td>\n",
       "      <td>False</td>\n",
       "    </tr>\n",
       "    <tr>\n",
       "      <th>1</th>\n",
       "      <td>0002_01</td>\n",
       "      <td>Earth</td>\n",
       "      <td>False</td>\n",
       "      <td>F/0/S</td>\n",
       "      <td>TRAPPIST-1e</td>\n",
       "      <td>24.0</td>\n",
       "      <td>False</td>\n",
       "      <td>109.0</td>\n",
       "      <td>9.0</td>\n",
       "      <td>25.0</td>\n",
       "      <td>549.0</td>\n",
       "      <td>44.0</td>\n",
       "      <td>Juanna Vines</td>\n",
       "      <td>True</td>\n",
       "    </tr>\n",
       "    <tr>\n",
       "      <th>2</th>\n",
       "      <td>0003_01</td>\n",
       "      <td>Europa</td>\n",
       "      <td>False</td>\n",
       "      <td>A/0/S</td>\n",
       "      <td>TRAPPIST-1e</td>\n",
       "      <td>58.0</td>\n",
       "      <td>True</td>\n",
       "      <td>43.0</td>\n",
       "      <td>3576.0</td>\n",
       "      <td>0.0</td>\n",
       "      <td>6715.0</td>\n",
       "      <td>49.0</td>\n",
       "      <td>Altark Susent</td>\n",
       "      <td>False</td>\n",
       "    </tr>\n",
       "    <tr>\n",
       "      <th>3</th>\n",
       "      <td>0003_02</td>\n",
       "      <td>Europa</td>\n",
       "      <td>False</td>\n",
       "      <td>A/0/S</td>\n",
       "      <td>TRAPPIST-1e</td>\n",
       "      <td>33.0</td>\n",
       "      <td>False</td>\n",
       "      <td>0.0</td>\n",
       "      <td>1283.0</td>\n",
       "      <td>371.0</td>\n",
       "      <td>3329.0</td>\n",
       "      <td>193.0</td>\n",
       "      <td>Solam Susent</td>\n",
       "      <td>False</td>\n",
       "    </tr>\n",
       "    <tr>\n",
       "      <th>4</th>\n",
       "      <td>0004_01</td>\n",
       "      <td>Earth</td>\n",
       "      <td>False</td>\n",
       "      <td>F/1/S</td>\n",
       "      <td>TRAPPIST-1e</td>\n",
       "      <td>16.0</td>\n",
       "      <td>False</td>\n",
       "      <td>303.0</td>\n",
       "      <td>70.0</td>\n",
       "      <td>151.0</td>\n",
       "      <td>565.0</td>\n",
       "      <td>2.0</td>\n",
       "      <td>Willy Santantines</td>\n",
       "      <td>True</td>\n",
       "    </tr>\n",
       "  </tbody>\n",
       "</table>\n",
       "</div>"
      ],
      "text/plain": [
       "  PassengerId HomePlanet  CryoSleep  Cabin  Destination   Age    VIP  \\\n",
       "0     0001_01     Europa      False  B/0/P  TRAPPIST-1e  39.0  False   \n",
       "1     0002_01      Earth      False  F/0/S  TRAPPIST-1e  24.0  False   \n",
       "2     0003_01     Europa      False  A/0/S  TRAPPIST-1e  58.0   True   \n",
       "3     0003_02     Europa      False  A/0/S  TRAPPIST-1e  33.0  False   \n",
       "4     0004_01      Earth      False  F/1/S  TRAPPIST-1e  16.0  False   \n",
       "\n",
       "   RoomService  FoodCourt  ShoppingMall     Spa  VRDeck               Name  \\\n",
       "0          0.0        0.0           0.0     0.0     0.0    Maham Ofracculy   \n",
       "1        109.0        9.0          25.0   549.0    44.0       Juanna Vines   \n",
       "2         43.0     3576.0           0.0  6715.0    49.0      Altark Susent   \n",
       "3          0.0     1283.0         371.0  3329.0   193.0       Solam Susent   \n",
       "4        303.0       70.0         151.0   565.0     2.0  Willy Santantines   \n",
       "\n",
       "   Transported  \n",
       "0        False  \n",
       "1         True  \n",
       "2        False  \n",
       "3        False  \n",
       "4         True  "
      ]
     },
     "execution_count": 31,
     "metadata": {},
     "output_type": "execute_result"
    }
   ],
   "source": [
    "df.head()"
   ]
  },
  {
   "cell_type": "code",
   "execution_count": null,
   "metadata": {},
   "outputs": [],
   "source": [
    "# The ColumnTransformer class needs a list of transformers, these transformers are tuples of 3 values: \n",
    "# Name of the step, the transformer to run, the objects affected by the step\n",
    "# The remainder parameter controls what to do with the columns not involved in the ColumnTransformer\n",
    "# Remainder default value = 'drop', drop the others column in the output \n",
    "# The columns in the output are ordered by their step, first in first out \n",
    "# The verbose parameter makes the ColumnTransformer return the time required to complete their operations\n",
    "# The verbose_feature_names_out parameter adds a prefix to each column with the stepname that generated it\n",
    "imputer_transformer = ColumnTransformer([\n",
    "    ('Median', s_imputer_median, median_features), \n",
    "    ('Mode', s_imputer_mode, mode_features), \n",
    "    ('Const', s_imputer_const, const_features), \n",
    "    ('Cabin', s_imputer_const_cab, const_cab_features)],\n",
    "    remainder='passthrough',\n",
    "    verbose_feature_names_out=False\n",
    "    )\n",
    "\n",
    "# feature_c_transformer = ColumnTransformer([\n",
    "#     ('FeatureEngineering', feat_eng_transformer, feat_eng_input)],\n",
    "#     remainder='passthrough', \n",
    "#     verbose_feature_names_out=False\n",
    "#     )\n",
    "\n",
    "scaler_transformer = ColumnTransformer([\n",
    "    ('Scaler', s_scaler, num_features),\n",
    "    ('OrdinalEncoder', o_encoder, cat_features_ordinal),\n",
    "    ('OneHotEncoder', oh_encoder, cat_features_one_hot)],\n",
    "    remainder='passthrough', \n",
    "    verbose_feature_names_out=False\n",
    "    )\n",
    "\n",
    "# main_column_transformer = ColumnTransformer([('Imputers', imputer_transformer, median_features+mode_features+const_features+const_cab_features), \n",
    "#                                             ('Scalers', scaler_transformer, num_features+cat_features_one_hot+cat_features_ordinal)\n",
    "#                                             ], remainder='passthrough')\n"
   ]
  },
  {
   "cell_type": "code",
   "execution_count": null,
   "metadata": {},
   "outputs": [],
   "source": [
    "# df.columns"
   ]
  },
  {
   "cell_type": "code",
   "execution_count": null,
   "metadata": {},
   "outputs": [],
   "source": [
    "dimension_pipeline = Pipeline([\n",
    "    ('Imputation', imputer_transformer),\n",
    "    # ('FeatureEngineering', feature_c_transformer),\n",
    "    ('FeatureEngineering', feat_eng_transformer),\n",
    "    ('FeatureTransformation', scaler_transformer), \n",
    "    # ('Model', xgb_model)\n",
    "])"
   ]
  },
  {
   "cell_type": "code",
   "execution_count": null,
   "metadata": {},
   "outputs": [],
   "source": [
    "imputer_transformer.set_output(transform='pandas')\n",
    "# scaler_transformer.set_output(transform='pandas')\n",
    "# dimension_pipeline.set_output(transform='pandas')\n",
    "dimension_pipeline_cv = Pipeline([\n",
    "    ('Imputation', imputer_transformer),\n",
    "    ('FeatureEngineering', feat_eng_transformer),\n",
    "    ('FeatureTransformation', scaler_transformer), \n",
    "])"
   ]
  },
  {
   "cell_type": "code",
   "execution_count": null,
   "metadata": {},
   "outputs": [
    {
     "name": "stdout",
     "output_type": "stream",
     "text": [
      "<class 'pandas.core.frame.DataFrame'>\n",
      "Index: 869 entries, 2942 to 2305\n",
      "Data columns (total 12 columns):\n",
      " #   Column        Non-Null Count  Dtype   \n",
      "---  ------        --------------  -----   \n",
      " 0   PassengerId   869 non-null    category\n",
      " 1   HomePlanet    848 non-null    category\n",
      " 2   CryoSleep     869 non-null    bool    \n",
      " 3   Cabin         842 non-null    category\n",
      " 4   Destination   848 non-null    object  \n",
      " 5   Age           847 non-null    float64 \n",
      " 6   VIP           869 non-null    bool    \n",
      " 7   RoomService   852 non-null    float64 \n",
      " 8   FoodCourt     853 non-null    float64 \n",
      " 9   ShoppingMall  852 non-null    float64 \n",
      " 10  Spa           848 non-null    float64 \n",
      " 11  VRDeck        853 non-null    float64 \n",
      "dtypes: bool(2), category(3), float64(6), object(1)\n",
      "memory usage: 695.6+ KB\n"
     ]
    }
   ],
   "source": [
    "x_cv.info()"
   ]
  },
  {
   "cell_type": "code",
   "execution_count": null,
   "metadata": {},
   "outputs": [
    {
     "data": {
      "text/plain": [
       "array([[-6.04323658e-01, -4.57690568e-01, -2.91294026e-01, ...,\n",
       "         1.00000000e+00,  3.19200000e+03,  1.00000000e+00],\n",
       "       [ 1.98300238e+00, -2.95962366e-01, -2.91294026e-01, ...,\n",
       "         0.00000000e+00,  6.11000000e+03,  1.00000000e+00],\n",
       "       [-2.54685004e-01, -2.22122823e-01, -2.91294026e-01, ...,\n",
       "         1.00000000e+00,  7.87200000e+03,  1.00000000e+00],\n",
       "       ...,\n",
       "       [ 5.84447766e-01, -2.41726241e-01, -2.91294026e-01, ...,\n",
       "         1.00000000e+00,  9.10800000e+03,  1.00000000e+00],\n",
       "       [-3.94540465e-01, -2.81913249e-01, -2.91294026e-01, ...,\n",
       "         0.00000000e+00,  2.53700000e+03,  1.00000000e+00],\n",
       "       [-5.34395927e-01, -5.05718943e-01, -2.91294026e-01, ...,\n",
       "         0.00000000e+00,  2.47900000e+03,  1.00000000e+00]])"
      ]
     },
     "execution_count": 37,
     "metadata": {},
     "output_type": "execute_result"
    }
   ],
   "source": [
    "dimension_pipeline_cv.fit_transform(x_cv, y_cv)"
   ]
  },
  {
   "cell_type": "code",
   "execution_count": null,
   "metadata": {},
   "outputs": [],
   "source": [
    "# dimension_pipeline.fit(x_train, y_train, Model__eval_set=[(x_cv, y_cv)])\n",
    "# dimension_pipeline.fit(x_train, y_train)"
   ]
  },
  {
   "cell_type": "markdown",
   "metadata": {},
   "source": [
    "xgb_model = XGBClassifier(n_estimators=200, learning_rate=0.2, verbosity=0, random_state=RANDOM_STATE, \n",
    "                            early_stopping_rounds=80, reg_lambda=4)\n",
    "xgb_model.fit(x_train, y_train, eval_set=[(x_cv, y_cv)])"
   ]
  },
  {
   "cell_type": "markdown",
   "metadata": {},
   "source": [
    "print('Metrics')\n",
    "print(f'Accuracy in the train dataset: {accuracy_score(xgb_model.predict(x_train), y_train)}')\n",
    "print(f'Accuracy in the cross validation dataset: {accuracy_score(xgb_model.predict(x_cv), y_cv)}')\n",
    "print(f'Accuracy in the test dataset: {accuracy_score(xgb_model.predict(x_test), y_test)}')\n",
    "print(f'Confusion matrix of the test dataset:\\n{confusion_matrix(y_test, xgb_model.predict(x_test))}')\n",
    "print(f'Mean Squared Error: {mean_squared_error(y_test, xgb_model.predict(x_test))}')\n",
    "print(f'F1 Score: {f1_score(y_test, xgb_model.predict(x_test))}')\n",
    "print(f'Precision Score: {precision_score(y_test, xgb_model.predict(x_test))}')\n",
    "print(f'Recall Score: {recall_score(y_test, xgb_model.predict(x_test))}')"
   ]
  },
  {
   "cell_type": "markdown",
   "metadata": {},
   "source": [
    "dimension_pipeline.predict(x_train)"
   ]
  },
  {
   "cell_type": "markdown",
   "metadata": {},
   "source": [
    "print('Metrics')\n",
    "print(f'Accuracy in the train dataset: {accuracy_score(dimension_pipeline.predict(x_train), y_train)}')\n",
    "print(f'Accuracy in the cross validation dataset: {accuracy_score(dimension_pipeline.predict(x_cv), y_cv)}')\n",
    "print(f'Accuracy in the test dataset: {accuracy_score(dimension_pipeline.predict(x_test), y_test)}')\n",
    "print(f'Confusion matrix of the test dataset:\\n{confusion_matrix(y_test, dimension_pipeline.predict(x_test))}')\n",
    "print(f'Mean Squared Error: {mean_squared_error(y_test, dimension_pipeline.predict(x_test))}')\n",
    "print(f'F1 Score: {f1_score(y_test, dimension_pipeline.predict(x_test))}')\n",
    "print(f'Precision Score: {precision_score(y_test, dimension_pipeline.predict(x_test))}')\n",
    "print(f'Recall Score: {recall_score(y_test, dimension_pipeline.predict(x_test))}')"
   ]
  },
  {
   "cell_type": "code",
   "execution_count": null,
   "metadata": {},
   "outputs": [],
   "source": []
  },
  {
   "cell_type": "code",
   "execution_count": null,
   "metadata": {},
   "outputs": [
    {
     "data": {
      "text/html": [
       "<div>\n",
       "<style scoped>\n",
       "    .dataframe tbody tr th:only-of-type {\n",
       "        vertical-align: middle;\n",
       "    }\n",
       "\n",
       "    .dataframe tbody tr th {\n",
       "        vertical-align: top;\n",
       "    }\n",
       "\n",
       "    .dataframe thead th {\n",
       "        text-align: right;\n",
       "    }\n",
       "</style>\n",
       "<table border=\"1\" class=\"dataframe\">\n",
       "  <thead>\n",
       "    <tr style=\"text-align: right;\">\n",
       "      <th></th>\n",
       "      <th>PassengerId</th>\n",
       "      <th>HomePlanet</th>\n",
       "      <th>CryoSleep</th>\n",
       "      <th>Cabin</th>\n",
       "      <th>Destination</th>\n",
       "      <th>Age</th>\n",
       "      <th>VIP</th>\n",
       "      <th>RoomService</th>\n",
       "      <th>FoodCourt</th>\n",
       "      <th>ShoppingMall</th>\n",
       "      <th>Spa</th>\n",
       "      <th>VRDeck</th>\n",
       "    </tr>\n",
       "  </thead>\n",
       "  <tbody>\n",
       "    <tr>\n",
       "      <th>5776</th>\n",
       "      <td>6118_02</td>\n",
       "      <td>Mars</td>\n",
       "      <td>True</td>\n",
       "      <td>E/391/P</td>\n",
       "      <td>TRAPPIST-1e</td>\n",
       "      <td>39.0</td>\n",
       "      <td>False</td>\n",
       "      <td>0.0</td>\n",
       "      <td>0.0</td>\n",
       "      <td>0.0</td>\n",
       "      <td>0.0</td>\n",
       "      <td>0.0</td>\n",
       "    </tr>\n",
       "    <tr>\n",
       "      <th>220</th>\n",
       "      <td>0234_01</td>\n",
       "      <td>Earth</td>\n",
       "      <td>False</td>\n",
       "      <td>F/50/P</td>\n",
       "      <td>TRAPPIST-1e</td>\n",
       "      <td>43.0</td>\n",
       "      <td>False</td>\n",
       "      <td>NaN</td>\n",
       "      <td>888.0</td>\n",
       "      <td>0.0</td>\n",
       "      <td>0.0</td>\n",
       "      <td>0.0</td>\n",
       "    </tr>\n",
       "    <tr>\n",
       "      <th>2398</th>\n",
       "      <td>2580_01</td>\n",
       "      <td>Earth</td>\n",
       "      <td>False</td>\n",
       "      <td>G/412/S</td>\n",
       "      <td>TRAPPIST-1e</td>\n",
       "      <td>24.0</td>\n",
       "      <td>False</td>\n",
       "      <td>19.0</td>\n",
       "      <td>676.0</td>\n",
       "      <td>0.0</td>\n",
       "      <td>26.0</td>\n",
       "      <td>0.0</td>\n",
       "    </tr>\n",
       "    <tr>\n",
       "      <th>5876</th>\n",
       "      <td>6224_01</td>\n",
       "      <td>Earth</td>\n",
       "      <td>False</td>\n",
       "      <td>F/1191/S</td>\n",
       "      <td>TRAPPIST-1e</td>\n",
       "      <td>16.0</td>\n",
       "      <td>False</td>\n",
       "      <td>0.0</td>\n",
       "      <td>0.0</td>\n",
       "      <td>60.0</td>\n",
       "      <td>0.0</td>\n",
       "      <td>1963.0</td>\n",
       "    </tr>\n",
       "    <tr>\n",
       "      <th>192</th>\n",
       "      <td>0213_01</td>\n",
       "      <td>Earth</td>\n",
       "      <td>False</td>\n",
       "      <td>F/46/P</td>\n",
       "      <td>TRAPPIST-1e</td>\n",
       "      <td>21.0</td>\n",
       "      <td>False</td>\n",
       "      <td>367.0</td>\n",
       "      <td>281.0</td>\n",
       "      <td>0.0</td>\n",
       "      <td>0.0</td>\n",
       "      <td>146.0</td>\n",
       "    </tr>\n",
       "  </tbody>\n",
       "</table>\n",
       "</div>"
      ],
      "text/plain": [
       "     PassengerId HomePlanet  CryoSleep     Cabin  Destination   Age    VIP  \\\n",
       "5776     6118_02       Mars       True   E/391/P  TRAPPIST-1e  39.0  False   \n",
       "220      0234_01      Earth      False    F/50/P  TRAPPIST-1e  43.0  False   \n",
       "2398     2580_01      Earth      False   G/412/S  TRAPPIST-1e  24.0  False   \n",
       "5876     6224_01      Earth      False  F/1191/S  TRAPPIST-1e  16.0  False   \n",
       "192      0213_01      Earth      False    F/46/P  TRAPPIST-1e  21.0  False   \n",
       "\n",
       "      RoomService  FoodCourt  ShoppingMall   Spa  VRDeck  \n",
       "5776          0.0        0.0           0.0   0.0     0.0  \n",
       "220           NaN      888.0           0.0   0.0     0.0  \n",
       "2398         19.0      676.0           0.0  26.0     0.0  \n",
       "5876          0.0        0.0          60.0   0.0  1963.0  \n",
       "192         367.0      281.0           0.0   0.0   146.0  "
      ]
     },
     "execution_count": 39,
     "metadata": {},
     "output_type": "execute_result"
    }
   ],
   "source": [
    "x_train.head()"
   ]
  },
  {
   "cell_type": "code",
   "execution_count": null,
   "metadata": {},
   "outputs": [],
   "source": [
    "xgb_model_fn = XGBClassifier(n_estimators=200, learning_rate=0.2, verbosity=1, random_state=RANDOM_STATE, \n",
    "                            reg_lambda=4, enable_categorical=True)\n",
    "final_pipeline = Pipeline([\n",
    "                        # ('TransformPipeline', dimension_pipeline),\n",
    "                        ('Model', xgb_model_fn)\n",
    "                        ])"
   ]
  },
  {
   "cell_type": "code",
   "execution_count": null,
   "metadata": {},
   "outputs": [],
   "source": [
    "# final_pipeline.fit(x_cv, y_cv)\n",
    "# final_pipeline.transform(x_cv)\n",
    "# final_pipeline.fit(x_train, y_train)\n",
    "y_train = l_encoder.fit_transform(y_train)\n",
    "y_cv = l_encoder.transform(y_cv)\n",
    "y_test = l_encoder.transform(y_test)\n",
    "x_train = dimension_pipeline.fit_transform(x_train)\n",
    "x_cv = dimension_pipeline.transform(x_cv)\n",
    "x_test = dimension_pipeline.transform(x_test)\n",
    "# final_pipeline.fit(x_train, y_train, Model__eval_set=[(x_cv, y_cv)])\n",
    "y = l_encoder.fit_transform(y)\n",
    "x = dimension_pipeline.fit_transform(x)"
   ]
  },
  {
   "cell_type": "code",
   "execution_count": null,
   "metadata": {},
   "outputs": [],
   "source": [
    "# plot_tree(final_pipeline.named_steps['Model'])\n",
    "# trees = final_pipeline.named_steps['Model'].get_booster().get_dump()"
   ]
  },
  {
   "cell_type": "code",
   "execution_count": null,
   "metadata": {},
   "outputs": [],
   "source": [
    "# for i, tree in enumerate(trees):\n",
    "    # print(f'TRee {i+1}:\\n{tree}')"
   ]
  },
  {
   "cell_type": "markdown",
   "metadata": {},
   "source": [
    "print('Metrics')\n",
    "print(f'Accuracy in the train dataset: {accuracy_score(final_pipeline.predict(x_train), y_train)}')\n",
    "print(f'Accuracy in the cross validation dataset: {accuracy_score(final_pipeline.predict(x_cv), y_cv)}')\n",
    "print(f'Accuracy in the test dataset: {accuracy_score(final_pipeline.predict(x_test), y_test)}')\n",
    "print(f'Confusion matrix of the test dataset:\\n{confusion_matrix(y_test, final_pipeline.predict(x_test))}')\n",
    "print(f'Mean Squared Error: {mean_squared_error(y_test, final_pipeline.predict(x_test))}')\n",
    "print(f'F1 Score: {f1_score(y_test, final_pipeline.predict(x_test))}')\n",
    "print(f'Precision Score: {precision_score(y_test, final_pipeline.predict(x_test))}')\n",
    "print(f'Recall Score: {recall_score(y_test, final_pipeline.predict(x_test))}')"
   ]
  },
  {
   "cell_type": "markdown",
   "metadata": {},
   "source": [
    "final_pipeline.named_steps['Model']"
   ]
  },
  {
   "cell_type": "code",
   "execution_count": null,
   "metadata": {},
   "outputs": [],
   "source": [
    "# cross_val_score(final_pipeline, x_train, y_train, cv=4, scoring='accuracy').mean()"
   ]
  },
  {
   "cell_type": "code",
   "execution_count": null,
   "metadata": {},
   "outputs": [
    {
     "data": {
      "text/plain": [
       "array([0.2, 0.3, 0.4, 0.5, 0.6, 0.7, 0.8])"
      ]
     },
     "execution_count": 45,
     "metadata": {},
     "output_type": "execute_result"
    }
   ],
   "source": [
    "np.arange(0.2, 0.8, 0.1)"
   ]
  },
  {
   "cell_type": "code",
   "execution_count": null,
   "metadata": {},
   "outputs": [],
   "source": []
  },
  {
   "cell_type": "code",
   "execution_count": null,
   "metadata": {},
   "outputs": [],
   "source": [
    "cv_params = {\n",
    "    'Model__n_estimators': list(range(50, 100, 5)),\n",
    "    'Model__learning_rate': list(np.arange(0.00, 0.5, 0.05)),\n",
    "    'Model__reg_lambda': list(np.arange(0.0, 8.0, 0.5)), \n",
    "    'Model__reg_alpha': list(np.arange(0.0, 8.0, 0.5)),\n",
    "    'Model__tree_method': ['hist', 'approx'],\n",
    "    'Model__random_state': [RANDOM_STATE],\n",
    "    'Model__enable_categorical': [True],\n",
    "    'Model__device': ['cpu'],\n",
    "    'Model__n_jobs': [-1]\n",
    "    }\n",
    "grid_search = GridSearchCV(final_pipeline, param_grid=cv_params, n_jobs=-1)\n",
    "# grid_search.fit(x, y)"
   ]
  },
  {
   "cell_type": "markdown",
   "metadata": {},
   "source": [
    "cv_params = {\n",
    "    'Model__n_estimators': list(range(20, 100, 5)),\n",
    "    'Model__learning_rate': list(np.arange(0.00, 0.5, 0.05)),\n",
    "    'Model__reg_lambda': list(np.arange(0.0, 8.0, 0.5)), \n",
    "    'Model__reg_alpha': list(np.arange(0.0, 8.0, 0.5)),\n",
    "    'Model__tree_method': ['hist', 'approx'],\n",
    "    'Model__random_state': [RANDOM_STATE],\n",
    "    # 'Model__enable_categorical': [True],\n",
    "    'Model__device': ['cpu'],\n",
    "    'Model__n_jobs': [-1]\n",
    "    }\n",
    "grid_search = GridSearchCV(final_pipeline, param_grid=cv_params, n_jobs=-1)\n",
    "# grid_search.fit(x, y)"
   ]
  },
  {
   "cell_type": "code",
   "execution_count": null,
   "metadata": {},
   "outputs": [],
   "source": [
    "# grid_search.best_params_"
   ]
  },
  {
   "cell_type": "code",
   "execution_count": null,
   "metadata": {},
   "outputs": [],
   "source": [
    "# grid_search.best_score_"
   ]
  },
  {
   "cell_type": "markdown",
   "metadata": {},
   "source": [
    "{'Model__device': 'cpu',\n",
    " 'Model__enable_categorical': True,\n",
    " 'Model__learning_rate': 0.1,\n",
    " 'Model__n_estimators': 50,\n",
    " 'Model__n_jobs': -1,\n",
    " 'Model__objective': 'binary:logistic',\n",
    " 'Model__random_state': 1,\n",
    " 'Model__reg_alpha': 5.5,\n",
    " 'Model__reg_lambda': 6.5,\n",
    " 'Model__tree_method': 'approx'}\n",
    " With 0.743 in the test dataset and 0.76 in kaggle "
   ]
  },
  {
   "cell_type": "code",
   "execution_count": null,
   "metadata": {},
   "outputs": [
    {
     "name": "stdout",
     "output_type": "stream",
     "text": [
      "[0]\tvalidation_0-logloss:0.66355\n",
      "[1]\tvalidation_0-logloss:0.63872\n",
      "[2]\tvalidation_0-logloss:0.61895\n",
      "[3]\tvalidation_0-logloss:0.60260\n",
      "[4]\tvalidation_0-logloss:0.58935\n",
      "[5]\tvalidation_0-logloss:0.57623\n",
      "[6]\tvalidation_0-logloss:0.56551\n",
      "[7]\tvalidation_0-logloss:0.55678\n",
      "[8]\tvalidation_0-logloss:0.54825\n",
      "[9]\tvalidation_0-logloss:0.54109\n",
      "[10]\tvalidation_0-logloss:0.53505\n",
      "[11]\tvalidation_0-logloss:0.52884\n",
      "[12]\tvalidation_0-logloss:0.52362\n",
      "[13]\tvalidation_0-logloss:0.51845\n",
      "[14]\tvalidation_0-logloss:0.51426\n",
      "[15]\tvalidation_0-logloss:0.51032\n",
      "[16]\tvalidation_0-logloss:0.50671\n",
      "[17]\tvalidation_0-logloss:0.50364\n",
      "[18]\tvalidation_0-logloss:0.50087\n",
      "[19]\tvalidation_0-logloss:0.49819\n",
      "[20]\tvalidation_0-logloss:0.49589\n",
      "[21]\tvalidation_0-logloss:0.49380\n",
      "[22]\tvalidation_0-logloss:0.49210\n",
      "[23]\tvalidation_0-logloss:0.49048\n",
      "[24]\tvalidation_0-logloss:0.48893\n",
      "[25]\tvalidation_0-logloss:0.48781\n",
      "[26]\tvalidation_0-logloss:0.48669\n",
      "[27]\tvalidation_0-logloss:0.48576\n",
      "[28]\tvalidation_0-logloss:0.48491\n",
      "[29]\tvalidation_0-logloss:0.48441\n",
      "[30]\tvalidation_0-logloss:0.48396\n",
      "[31]\tvalidation_0-logloss:0.48353\n",
      "[32]\tvalidation_0-logloss:0.48260\n",
      "[33]\tvalidation_0-logloss:0.48224\n",
      "[34]\tvalidation_0-logloss:0.48169\n",
      "[35]\tvalidation_0-logloss:0.48076\n",
      "[36]\tvalidation_0-logloss:0.48026\n",
      "[37]\tvalidation_0-logloss:0.47993\n",
      "[38]\tvalidation_0-logloss:0.47949\n",
      "[39]\tvalidation_0-logloss:0.47922\n",
      "[40]\tvalidation_0-logloss:0.47932\n",
      "[41]\tvalidation_0-logloss:0.47889\n",
      "[42]\tvalidation_0-logloss:0.47834\n",
      "[43]\tvalidation_0-logloss:0.47839\n",
      "[44]\tvalidation_0-logloss:0.47820\n",
      "[45]\tvalidation_0-logloss:0.47800\n",
      "[46]\tvalidation_0-logloss:0.47726\n",
      "[47]\tvalidation_0-logloss:0.47700\n",
      "[48]\tvalidation_0-logloss:0.47625\n",
      "[49]\tvalidation_0-logloss:0.47581\n"
     ]
    },
    {
     "data": {
      "text/html": [
       "<style>#sk-container-id-3 {color: black;}#sk-container-id-3 pre{padding: 0;}#sk-container-id-3 div.sk-toggleable {background-color: white;}#sk-container-id-3 label.sk-toggleable__label {cursor: pointer;display: block;width: 100%;margin-bottom: 0;padding: 0.3em;box-sizing: border-box;text-align: center;}#sk-container-id-3 label.sk-toggleable__label-arrow:before {content: \"▸\";float: left;margin-right: 0.25em;color: #696969;}#sk-container-id-3 label.sk-toggleable__label-arrow:hover:before {color: black;}#sk-container-id-3 div.sk-estimator:hover label.sk-toggleable__label-arrow:before {color: black;}#sk-container-id-3 div.sk-toggleable__content {max-height: 0;max-width: 0;overflow: hidden;text-align: left;background-color: #f0f8ff;}#sk-container-id-3 div.sk-toggleable__content pre {margin: 0.2em;color: black;border-radius: 0.25em;background-color: #f0f8ff;}#sk-container-id-3 input.sk-toggleable__control:checked~div.sk-toggleable__content {max-height: 200px;max-width: 100%;overflow: auto;}#sk-container-id-3 input.sk-toggleable__control:checked~label.sk-toggleable__label-arrow:before {content: \"▾\";}#sk-container-id-3 div.sk-estimator input.sk-toggleable__control:checked~label.sk-toggleable__label {background-color: #d4ebff;}#sk-container-id-3 div.sk-label input.sk-toggleable__control:checked~label.sk-toggleable__label {background-color: #d4ebff;}#sk-container-id-3 input.sk-hidden--visually {border: 0;clip: rect(1px 1px 1px 1px);clip: rect(1px, 1px, 1px, 1px);height: 1px;margin: -1px;overflow: hidden;padding: 0;position: absolute;width: 1px;}#sk-container-id-3 div.sk-estimator {font-family: monospace;background-color: #f0f8ff;border: 1px dotted black;border-radius: 0.25em;box-sizing: border-box;margin-bottom: 0.5em;}#sk-container-id-3 div.sk-estimator:hover {background-color: #d4ebff;}#sk-container-id-3 div.sk-parallel-item::after {content: \"\";width: 100%;border-bottom: 1px solid gray;flex-grow: 1;}#sk-container-id-3 div.sk-label:hover label.sk-toggleable__label {background-color: #d4ebff;}#sk-container-id-3 div.sk-serial::before {content: \"\";position: absolute;border-left: 1px solid gray;box-sizing: border-box;top: 0;bottom: 0;left: 50%;z-index: 0;}#sk-container-id-3 div.sk-serial {display: flex;flex-direction: column;align-items: center;background-color: white;padding-right: 0.2em;padding-left: 0.2em;position: relative;}#sk-container-id-3 div.sk-item {position: relative;z-index: 1;}#sk-container-id-3 div.sk-parallel {display: flex;align-items: stretch;justify-content: center;background-color: white;position: relative;}#sk-container-id-3 div.sk-item::before, #sk-container-id-3 div.sk-parallel-item::before {content: \"\";position: absolute;border-left: 1px solid gray;box-sizing: border-box;top: 0;bottom: 0;left: 50%;z-index: -1;}#sk-container-id-3 div.sk-parallel-item {display: flex;flex-direction: column;z-index: 1;position: relative;background-color: white;}#sk-container-id-3 div.sk-parallel-item:first-child::after {align-self: flex-end;width: 50%;}#sk-container-id-3 div.sk-parallel-item:last-child::after {align-self: flex-start;width: 50%;}#sk-container-id-3 div.sk-parallel-item:only-child::after {width: 0;}#sk-container-id-3 div.sk-dashed-wrapped {border: 1px dashed gray;margin: 0 0.4em 0.5em 0.4em;box-sizing: border-box;padding-bottom: 0.4em;background-color: white;}#sk-container-id-3 div.sk-label label {font-family: monospace;font-weight: bold;display: inline-block;line-height: 1.2em;}#sk-container-id-3 div.sk-label-container {text-align: center;}#sk-container-id-3 div.sk-container {/* jupyter's `normalize.less` sets `[hidden] { display: none; }` but bootstrap.min.css set `[hidden] { display: none !important; }` so we also need the `!important` here to be able to override the default hidden behavior on the sphinx rendered scikit-learn.org. See: https://github.com/scikit-learn/scikit-learn/issues/21755 */display: inline-block !important;position: relative;}#sk-container-id-3 div.sk-text-repr-fallback {display: none;}</style><div id=\"sk-container-id-3\" class=\"sk-top-container\"><div class=\"sk-text-repr-fallback\"><pre>XGBClassifier(base_score=None, booster=None, callbacks=None,\n",
       "              colsample_bylevel=None, colsample_bynode=None,\n",
       "              colsample_bytree=None, device=&#x27;cpu&#x27;, early_stopping_rounds=None,\n",
       "              enable_categorical=False, eval_metric=None, feature_types=None,\n",
       "              gamma=None, grow_policy=None, importance_type=None,\n",
       "              interaction_constraints=None, learning_rate=0.1, max_bin=None,\n",
       "              max_cat_threshold=None, max_cat_to_onehot=None,\n",
       "              max_delta_step=None, max_depth=None, max_leaves=None,\n",
       "              min_child_weight=None, missing=nan, monotone_constraints=None,\n",
       "              multi_strategy=None, n_estimators=50, n_jobs=-1,\n",
       "              num_parallel_tree=None, random_state=1, ...)</pre><b>In a Jupyter environment, please rerun this cell to show the HTML representation or trust the notebook. <br />On GitHub, the HTML representation is unable to render, please try loading this page with nbviewer.org.</b></div><div class=\"sk-container\" hidden><div class=\"sk-item\"><div class=\"sk-estimator sk-toggleable\"><input class=\"sk-toggleable__control sk-hidden--visually\" id=\"sk-estimator-id-3\" type=\"checkbox\" checked><label for=\"sk-estimator-id-3\" class=\"sk-toggleable__label sk-toggleable__label-arrow\">XGBClassifier</label><div class=\"sk-toggleable__content\"><pre>XGBClassifier(base_score=None, booster=None, callbacks=None,\n",
       "              colsample_bylevel=None, colsample_bynode=None,\n",
       "              colsample_bytree=None, device=&#x27;cpu&#x27;, early_stopping_rounds=None,\n",
       "              enable_categorical=False, eval_metric=None, feature_types=None,\n",
       "              gamma=None, grow_policy=None, importance_type=None,\n",
       "              interaction_constraints=None, learning_rate=0.1, max_bin=None,\n",
       "              max_cat_threshold=None, max_cat_to_onehot=None,\n",
       "              max_delta_step=None, max_depth=None, max_leaves=None,\n",
       "              min_child_weight=None, missing=nan, monotone_constraints=None,\n",
       "              multi_strategy=None, n_estimators=50, n_jobs=-1,\n",
       "              num_parallel_tree=None, random_state=1, ...)</pre></div></div></div></div></div>"
      ],
      "text/plain": [
       "XGBClassifier(base_score=None, booster=None, callbacks=None,\n",
       "              colsample_bylevel=None, colsample_bynode=None,\n",
       "              colsample_bytree=None, device='cpu', early_stopping_rounds=None,\n",
       "              enable_categorical=False, eval_metric=None, feature_types=None,\n",
       "              gamma=None, grow_policy=None, importance_type=None,\n",
       "              interaction_constraints=None, learning_rate=0.1, max_bin=None,\n",
       "              max_cat_threshold=None, max_cat_to_onehot=None,\n",
       "              max_delta_step=None, max_depth=None, max_leaves=None,\n",
       "              min_child_weight=None, missing=nan, monotone_constraints=None,\n",
       "              multi_strategy=None, n_estimators=50, n_jobs=-1,\n",
       "              num_parallel_tree=None, random_state=1, ...)"
      ]
     },
     "execution_count": 49,
     "metadata": {},
     "output_type": "execute_result"
    }
   ],
   "source": [
    "best_model = XGBClassifier(n_estimators=50, learning_rate=0.1, verbosity=1, random_state=RANDOM_STATE,\n",
    "                        reg_lambda=6.5, reg_alpha=5.5, device='cpu', tree_method='approx', n_jobs=-1)\n",
    "best_model.fit(x_train, y_train, eval_set=[(x_cv, y_cv)])"
   ]
  },
  {
   "cell_type": "code",
   "execution_count": null,
   "metadata": {},
   "outputs": [
    {
     "name": "stdout",
     "output_type": "stream",
     "text": [
      "Metrics\n",
      "Accuracy in the train dataset: 0.7850158182341098\n",
      "Accuracy in the cross validation dataset: 0.7560414269275029\n",
      "Accuracy in the test dataset: 0.7436781609195402\n",
      "Confusion matrix of the test dataset:\n",
      "[[350  71]\n",
      " [152 297]]\n",
      "Mean Squared Error: 0.25632183908045975\n",
      "F1 Score: 0.7270501835985311\n",
      "Precision Score: 0.8070652173913043\n",
      "Recall Score: 0.6614699331848553\n"
     ]
    }
   ],
   "source": [
    "print('Metrics')\n",
    "print(f'Accuracy in the train dataset: {accuracy_score(best_model.predict(x_train), y_train)}')\n",
    "print(f'Accuracy in the cross validation dataset: {accuracy_score(best_model.predict(x_cv), y_cv)}')\n",
    "print(f'Accuracy in the test dataset: {accuracy_score(best_model.predict(x_test), y_test)}')\n",
    "print(f'Confusion matrix of the test dataset:\\n{confusion_matrix(y_test, best_model.predict(x_test))}')\n",
    "print(f'Mean Squared Error: {mean_squared_error(y_test, best_model.predict(x_test))}')\n",
    "print(f'F1 Score: {f1_score(y_test, best_model.predict(x_test))}')\n",
    "print(f'Precision Score: {precision_score(y_test, best_model.predict(x_test))}')\n",
    "print(f'Recall Score: {recall_score(y_test, best_model.predict(x_test))}')"
   ]
  },
  {
   "cell_type": "code",
   "execution_count": null,
   "metadata": {},
   "outputs": [
    {
     "data": {
      "text/plain": [
       "array([0.01540554, 0.32621124, 0.00664581, 0.05600733, 0.04044646,\n",
       "       0.03442273, 0.01106942, 0.40377322, 0.02690349, 0.01884208,\n",
       "       0.01673163, 0.00596844, 0.01822541, 0.01934709, 0.        ],\n",
       "      dtype=float32)"
      ]
     },
     "execution_count": 51,
     "metadata": {},
     "output_type": "execute_result"
    }
   ],
   "source": [
    "best_model.feature_importances_"
   ]
  },
  {
   "cell_type": "code",
   "execution_count": null,
   "metadata": {},
   "outputs": [
    {
     "data": {
      "text/plain": [
       "array([[ 7.06771440e-01, -5.10399804e-01,  1.14454690e-01, ...,\n",
       "         1.00000000e+00,  6.11800000e+03,  0.00000000e+00],\n",
       "       [ 9.85951128e-01, -1.97177089e-01, -6.26623443e-01, ...,\n",
       "         1.00000000e+00,  2.34000000e+02,  1.00000000e+00],\n",
       "       [-3.40152386e-01, -2.56082712e-01, -6.26623443e-01, ...,\n",
       "         1.00000000e+00,  2.58000000e+03,  1.00000000e+00],\n",
       "       ...,\n",
       "       [-3.40152386e-01, -4.96290673e-01, -6.26623443e-01, ...,\n",
       "         1.00000000e+00,  9.78000000e+02,  1.00000000e+00],\n",
       "       [ 1.26513081e+00, -5.10399804e-01,  1.14454690e-01, ...,\n",
       "         1.00000000e+00,  5.53800000e+03,  0.00000000e+00],\n",
       "       [ 7.86171444e-02,  4.37363289e-02, -6.26623443e-01, ...,\n",
       "         1.00000000e+00,  2.52000000e+02,  1.00000000e+00]])"
      ]
     },
     "execution_count": 52,
     "metadata": {},
     "output_type": "execute_result"
    }
   ],
   "source": [
    "x_train"
   ]
  },
  {
   "cell_type": "markdown",
   "metadata": {},
   "source": [
    "## Predict using the real test data"
   ]
  },
  {
   "cell_type": "code",
   "execution_count": null,
   "metadata": {},
   "outputs": [
    {
     "name": "stdout",
     "output_type": "stream",
     "text": [
      "<class 'pandas.core.frame.DataFrame'>\n",
      "RangeIndex: 4277 entries, 0 to 4276\n",
      "Data columns (total 13 columns):\n",
      " #   Column        Non-Null Count  Dtype   \n",
      "---  ------        --------------  -----   \n",
      " 0   PassengerId   4277 non-null   category\n",
      " 1   HomePlanet    4190 non-null   category\n",
      " 2   CryoSleep     4277 non-null   bool    \n",
      " 3   Cabin         4177 non-null   category\n",
      " 4   Destination   4185 non-null   object  \n",
      " 5   Age           4186 non-null   float64 \n",
      " 6   VIP           4277 non-null   bool    \n",
      " 7   RoomService   4195 non-null   float64 \n",
      " 8   FoodCourt     4171 non-null   float64 \n",
      " 9   ShoppingMall  4179 non-null   float64 \n",
      " 10  Spa           4176 non-null   float64 \n",
      " 11  VRDeck        4197 non-null   float64 \n",
      " 12  Name          4183 non-null   object  \n",
      "dtypes: bool(2), category(3), float64(6), object(2)\n",
      "memory usage: 613.8+ KB\n"
     ]
    }
   ],
   "source": [
    "test_df.info()"
   ]
  },
  {
   "cell_type": "code",
   "execution_count": null,
   "metadata": {},
   "outputs": [],
   "source": [
    "test_df_processed = dimension_pipeline.transform(test_df)"
   ]
  },
  {
   "cell_type": "code",
   "execution_count": null,
   "metadata": {},
   "outputs": [],
   "source": [
    "transported = pd.DataFrame(data=best_model.predict(test_df_processed), columns=['Transported'])"
   ]
  },
  {
   "cell_type": "code",
   "execution_count": null,
   "metadata": {},
   "outputs": [
    {
     "data": {
      "text/plain": [
       "(4277, 1)"
      ]
     },
     "execution_count": 56,
     "metadata": {},
     "output_type": "execute_result"
    }
   ],
   "source": [
    "transported.shape"
   ]
  },
  {
   "cell_type": "code",
   "execution_count": null,
   "metadata": {},
   "outputs": [
    {
     "name": "stdout",
     "output_type": "stream",
     "text": [
      "<class 'pandas.core.frame.DataFrame'>\n",
      "RangeIndex: 4277 entries, 0 to 4276\n",
      "Data columns (total 1 columns):\n",
      " #   Column       Non-Null Count  Dtype\n",
      "---  ------       --------------  -----\n",
      " 0   Transported  4277 non-null   int32\n",
      "dtypes: int32(1)\n",
      "memory usage: 16.8 KB\n"
     ]
    }
   ],
   "source": [
    "transported.info()"
   ]
  },
  {
   "cell_type": "code",
   "execution_count": null,
   "metadata": {},
   "outputs": [
    {
     "name": "stdout",
     "output_type": "stream",
     "text": [
      "<class 'pandas.core.frame.DataFrame'>\n",
      "RangeIndex: 4277 entries, 0 to 4276\n",
      "Data columns (total 1 columns):\n",
      " #   Column       Non-Null Count  Dtype\n",
      "---  ------       --------------  -----\n",
      " 0   Transported  4277 non-null   bool \n",
      "dtypes: bool(1)\n",
      "memory usage: 4.3 KB\n"
     ]
    }
   ],
   "source": [
    "transported = transported.astype('bool')\n",
    "transported.info()"
   ]
  },
  {
   "cell_type": "code",
   "execution_count": null,
   "metadata": {},
   "outputs": [],
   "source": [
    "submission = test_df.merge(transported, left_index=True, right_index=True, how='inner')"
   ]
  },
  {
   "cell_type": "markdown",
   "metadata": {},
   "source": [
    "Save the predictions"
   ]
  },
  {
   "cell_type": "code",
   "execution_count": null,
   "metadata": {},
   "outputs": [],
   "source": [
    "submission[['PassengerId', 'Transported']].to_csv('../data/processed/submission.csv', index=False)"
   ]
  },
  {
   "cell_type": "markdown",
   "metadata": {},
   "source": [
    "Save the model"
   ]
  },
  {
   "cell_type": "code",
   "execution_count": null,
   "metadata": {},
   "outputs": [],
   "source": [
    "best_model.save_model('../model/spaceship_xgboost_classifier.json')"
   ]
  }
 ],
 "metadata": {
  "kernelspec": {
   "display_name": "Python 3",
   "language": "python",
   "name": "python3"
  },
  "language_info": {
   "codemirror_mode": {
    "name": "ipython",
    "version": 3
   },
   "file_extension": ".py",
   "mimetype": "text/x-python",
   "name": "python",
   "nbconvert_exporter": "python",
   "pygments_lexer": "ipython3",
   "version": "3.11.0"
  },
  "orig_nbformat": 4
 },
 "nbformat": 4,
 "nbformat_minor": 2
}
