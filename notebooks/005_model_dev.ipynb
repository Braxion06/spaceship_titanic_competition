{
 "cells": [
  {
   "cell_type": "markdown",
   "metadata": {},
   "source": [
    "# Model Developement"
   ]
  },
  {
   "cell_type": "markdown",
   "metadata": {},
   "source": [
    "This is the model development notebook  "
   ]
  },
  {
   "cell_type": "markdown",
   "metadata": {},
   "source": [
    "Import the required libraries"
   ]
  },
  {
   "cell_type": "code",
   "execution_count": 1,
   "metadata": {},
   "outputs": [],
   "source": [
    "import numpy as np\n",
    "import pandas as pd\n",
    "import os\n",
    "import matplotlib.pyplot as plt\n",
    "import re\n",
    "from xgboost import XGBClassifier\n",
    "from sklearn.pipeline import Pipeline, make_pipeline\n",
    "from sklearn.compose import ColumnTransformer, make_column_transformer\n",
    "from sklearn.preprocessing import StandardScaler, LabelEncoder, OneHotEncoder, OrdinalEncoder, FunctionTransformer\n",
    "from sklearn.impute import SimpleImputer\n",
    "from sklearn.linear_model import LogisticRegression\n",
    "from sklearn.tree import DecisionTreeClassifier\n",
    "from sklearn.ensemble import RandomForestClassifier\n",
    "from sklearn.model_selection import train_test_split\n",
    "from sklearn.metrics import confusion_matrix, mean_squared_error, accuracy_score, precision_score, recall_score, f1_score"
   ]
  },
  {
   "cell_type": "markdown",
   "metadata": {},
   "source": [
    "Setup contant values"
   ]
  },
  {
   "cell_type": "code",
   "execution_count": 2,
   "metadata": {},
   "outputs": [],
   "source": [
    "RANDOM_STATE = 1"
   ]
  },
  {
   "cell_type": "markdown",
   "metadata": {},
   "source": [
    "## Data dictionary\n",
    "\n",
    "- **PassengerId** - A unique Id for each passenger. Each Id takes the form ```gggg_pp``` where ```gggg``` indicates a group the passenger is travelling with and ```pp``` is their number within the group. People in a group are often family members, but not always.\n",
    "- **HomePlanet** - The planet the passenger departed from, typically their planet of permanent residence.\n",
    "- **CryoSleep** - Indicates whether the passenger elected to be put into suspended animation for the duration of the voyage. Passengers in cryosleep are confined to their cabins.\n",
    "- **Cabin** - The cabin number where the passenger is staying. Takes the form deck/num/side, where side can be either P for Port or S for Starboard.\n",
    "- **Destination** - The planet the passenger will be debarking to.\n",
    "- **Age** - The age of the passenger.\n",
    "- **VIP** - Whether the passenger has paid for special VIP service during the voyage.\n",
    "- **RoomService, FoodCourt, ShoppingMall, Spa, VRDeck** - Amount the passenger has billed at each of the Spaceship Titanic's many luxury amenities.\n",
    "- **Name** - The first and last names of the passenger.\n",
    "- **Transported** - Whether the passenger was transported to another dimension. This is the target, the column you are trying to predict."
   ]
  },
  {
   "cell_type": "markdown",
   "metadata": {},
   "source": [
    "## Check the dataframe"
   ]
  },
  {
   "cell_type": "markdown",
   "metadata": {},
   "source": [
    "let's load the data"
   ]
  },
  {
   "cell_type": "code",
   "execution_count": 3,
   "metadata": {},
   "outputs": [],
   "source": [
    "df = pd.read_csv('../data/processed/train.csv')\n",
    "# df = pd.read_csv('../data/train.csv', dtype_backend='pyarrow')"
   ]
  },
  {
   "cell_type": "code",
   "execution_count": 4,
   "metadata": {},
   "outputs": [
    {
     "data": {
      "text/html": [
       "<div>\n",
       "<style scoped>\n",
       "    .dataframe tbody tr th:only-of-type {\n",
       "        vertical-align: middle;\n",
       "    }\n",
       "\n",
       "    .dataframe tbody tr th {\n",
       "        vertical-align: top;\n",
       "    }\n",
       "\n",
       "    .dataframe thead th {\n",
       "        text-align: right;\n",
       "    }\n",
       "</style>\n",
       "<table border=\"1\" class=\"dataframe\">\n",
       "  <thead>\n",
       "    <tr style=\"text-align: right;\">\n",
       "      <th></th>\n",
       "      <th>Age</th>\n",
       "      <th>Luxury</th>\n",
       "      <th>GroupSize</th>\n",
       "      <th>Deck</th>\n",
       "      <th>CryoSleep</th>\n",
       "      <th>Side</th>\n",
       "      <th>VIP</th>\n",
       "      <th>TravelingAlone</th>\n",
       "      <th>HomePlanet_Earth</th>\n",
       "      <th>HomePlanet_Europa</th>\n",
       "      <th>HomePlanet_Mars</th>\n",
       "      <th>Destination_55 Cancri e</th>\n",
       "      <th>Destination_PSO J318.5-22</th>\n",
       "      <th>Destination_TRAPPIST-1e</th>\n",
       "      <th>PassengerId</th>\n",
       "      <th>Num</th>\n",
       "      <th>Group</th>\n",
       "      <th>Transported</th>\n",
       "    </tr>\n",
       "  </thead>\n",
       "  <tbody>\n",
       "    <tr>\n",
       "      <th>0</th>\n",
       "      <td>0.711945</td>\n",
       "      <td>-0.514066</td>\n",
       "      <td>-0.648735</td>\n",
       "      <td>2.0</td>\n",
       "      <td>0.0</td>\n",
       "      <td>1.0</td>\n",
       "      <td>0.0</td>\n",
       "      <td>1.0</td>\n",
       "      <td>0.0</td>\n",
       "      <td>1.0</td>\n",
       "      <td>0.0</td>\n",
       "      <td>0.0</td>\n",
       "      <td>0.0</td>\n",
       "      <td>1.0</td>\n",
       "      <td>0001_01</td>\n",
       "      <td>0</td>\n",
       "      <td>1</td>\n",
       "      <td>0.0</td>\n",
       "    </tr>\n",
       "    <tr>\n",
       "      <th>1</th>\n",
       "      <td>-0.334037</td>\n",
       "      <td>-0.251479</td>\n",
       "      <td>-0.648735</td>\n",
       "      <td>6.0</td>\n",
       "      <td>0.0</td>\n",
       "      <td>2.0</td>\n",
       "      <td>0.0</td>\n",
       "      <td>1.0</td>\n",
       "      <td>1.0</td>\n",
       "      <td>0.0</td>\n",
       "      <td>0.0</td>\n",
       "      <td>0.0</td>\n",
       "      <td>0.0</td>\n",
       "      <td>1.0</td>\n",
       "      <td>0002_01</td>\n",
       "      <td>0</td>\n",
       "      <td>2</td>\n",
       "      <td>1.0</td>\n",
       "    </tr>\n",
       "    <tr>\n",
       "      <th>2</th>\n",
       "      <td>2.036857</td>\n",
       "      <td>3.190333</td>\n",
       "      <td>-0.022268</td>\n",
       "      <td>1.0</td>\n",
       "      <td>0.0</td>\n",
       "      <td>2.0</td>\n",
       "      <td>1.0</td>\n",
       "      <td>0.0</td>\n",
       "      <td>0.0</td>\n",
       "      <td>1.0</td>\n",
       "      <td>0.0</td>\n",
       "      <td>0.0</td>\n",
       "      <td>0.0</td>\n",
       "      <td>1.0</td>\n",
       "      <td>0003_01</td>\n",
       "      <td>0</td>\n",
       "      <td>3</td>\n",
       "      <td>0.0</td>\n",
       "    </tr>\n",
       "    <tr>\n",
       "      <th>3</th>\n",
       "      <td>0.293552</td>\n",
       "      <td>1.332604</td>\n",
       "      <td>-0.022268</td>\n",
       "      <td>1.0</td>\n",
       "      <td>0.0</td>\n",
       "      <td>2.0</td>\n",
       "      <td>0.0</td>\n",
       "      <td>0.0</td>\n",
       "      <td>0.0</td>\n",
       "      <td>1.0</td>\n",
       "      <td>0.0</td>\n",
       "      <td>0.0</td>\n",
       "      <td>0.0</td>\n",
       "      <td>1.0</td>\n",
       "      <td>0003_02</td>\n",
       "      <td>0</td>\n",
       "      <td>3</td>\n",
       "      <td>0.0</td>\n",
       "    </tr>\n",
       "    <tr>\n",
       "      <th>4</th>\n",
       "      <td>-0.891895</td>\n",
       "      <td>-0.124824</td>\n",
       "      <td>-0.648735</td>\n",
       "      <td>6.0</td>\n",
       "      <td>0.0</td>\n",
       "      <td>2.0</td>\n",
       "      <td>0.0</td>\n",
       "      <td>1.0</td>\n",
       "      <td>1.0</td>\n",
       "      <td>0.0</td>\n",
       "      <td>0.0</td>\n",
       "      <td>0.0</td>\n",
       "      <td>0.0</td>\n",
       "      <td>1.0</td>\n",
       "      <td>0004_01</td>\n",
       "      <td>1</td>\n",
       "      <td>4</td>\n",
       "      <td>1.0</td>\n",
       "    </tr>\n",
       "  </tbody>\n",
       "</table>\n",
       "</div>"
      ],
      "text/plain": [
       "        Age    Luxury  GroupSize  Deck  CryoSleep  Side  VIP  TravelingAlone  \\\n",
       "0  0.711945 -0.514066  -0.648735   2.0        0.0   1.0  0.0             1.0   \n",
       "1 -0.334037 -0.251479  -0.648735   6.0        0.0   2.0  0.0             1.0   \n",
       "2  2.036857  3.190333  -0.022268   1.0        0.0   2.0  1.0             0.0   \n",
       "3  0.293552  1.332604  -0.022268   1.0        0.0   2.0  0.0             0.0   \n",
       "4 -0.891895 -0.124824  -0.648735   6.0        0.0   2.0  0.0             1.0   \n",
       "\n",
       "   HomePlanet_Earth  HomePlanet_Europa  HomePlanet_Mars  \\\n",
       "0               0.0                1.0              0.0   \n",
       "1               1.0                0.0              0.0   \n",
       "2               0.0                1.0              0.0   \n",
       "3               0.0                1.0              0.0   \n",
       "4               1.0                0.0              0.0   \n",
       "\n",
       "   Destination_55 Cancri e  Destination_PSO J318.5-22  \\\n",
       "0                      0.0                        0.0   \n",
       "1                      0.0                        0.0   \n",
       "2                      0.0                        0.0   \n",
       "3                      0.0                        0.0   \n",
       "4                      0.0                        0.0   \n",
       "\n",
       "   Destination_TRAPPIST-1e PassengerId  Num  Group  Transported  \n",
       "0                      1.0     0001_01    0      1          0.0  \n",
       "1                      1.0     0002_01    0      2          1.0  \n",
       "2                      1.0     0003_01    0      3          0.0  \n",
       "3                      1.0     0003_02    0      3          0.0  \n",
       "4                      1.0     0004_01    1      4          1.0  "
      ]
     },
     "execution_count": 4,
     "metadata": {},
     "output_type": "execute_result"
    }
   ],
   "source": [
    "df.head()"
   ]
  },
  {
   "cell_type": "code",
   "execution_count": 5,
   "metadata": {},
   "outputs": [
    {
     "name": "stdout",
     "output_type": "stream",
     "text": [
      "<class 'pandas.core.frame.DataFrame'>\n",
      "RangeIndex: 8693 entries, 0 to 8692\n",
      "Data columns (total 18 columns):\n",
      " #   Column                     Non-Null Count  Dtype  \n",
      "---  ------                     --------------  -----  \n",
      " 0   Age                        8693 non-null   float64\n",
      " 1   Luxury                     8693 non-null   float64\n",
      " 2   GroupSize                  8693 non-null   float64\n",
      " 3   Deck                       8693 non-null   float64\n",
      " 4   CryoSleep                  8693 non-null   float64\n",
      " 5   Side                       8693 non-null   float64\n",
      " 6   VIP                        8693 non-null   float64\n",
      " 7   TravelingAlone             8693 non-null   float64\n",
      " 8   HomePlanet_Earth           8693 non-null   float64\n",
      " 9   HomePlanet_Europa          8693 non-null   float64\n",
      " 10  HomePlanet_Mars            8693 non-null   float64\n",
      " 11  Destination_55 Cancri e    8693 non-null   float64\n",
      " 12  Destination_PSO J318.5-22  8693 non-null   float64\n",
      " 13  Destination_TRAPPIST-1e    8693 non-null   float64\n",
      " 14  PassengerId                8693 non-null   object \n",
      " 15  Num                        8693 non-null   int64  \n",
      " 16  Group                      8693 non-null   int64  \n",
      " 17  Transported                8693 non-null   float64\n",
      "dtypes: float64(15), int64(2), object(1)\n",
      "memory usage: 1.2+ MB\n"
     ]
    }
   ],
   "source": [
    "df.info()"
   ]
  },
  {
   "cell_type": "markdown",
   "metadata": {},
   "source": [
    "## Separate the training data"
   ]
  },
  {
   "cell_type": "code",
   "execution_count": 6,
   "metadata": {},
   "outputs": [
    {
     "name": "stdout",
     "output_type": "stream",
     "text": [
      "Features: ['Age', 'Luxury', 'GroupSize', 'CryoSleep', 'Side', 'TravelingAlone', 'Destination_55 Cancri e', 'Destination_PSO J318.5-22', 'Destination_TRAPPIST-1e', 'Group', 'VIP', 'Deck']\n",
      "Label or Target: Transported\n"
     ]
    }
   ],
   "source": [
    "# features = list(df.columns.values[:14]) + list(df.columns.values[15:-1])\n",
    "features = ['Age', 'Luxury', 'GroupSize', 'CryoSleep', 'Side', 'TravelingAlone', 'Destination_55 Cancri e', \n",
    "            'Destination_PSO J318.5-22', 'Destination_TRAPPIST-1e', 'Group', 'VIP', 'Deck']\n",
    "label = df.columns.values[-1]\n",
    "print(f'Features: {features}')\n",
    "print(f'Label or Target: {label}')"
   ]
  },
  {
   "cell_type": "markdown",
   "metadata": {},
   "source": [
    "Create the dataframes "
   ]
  },
  {
   "cell_type": "code",
   "execution_count": 7,
   "metadata": {},
   "outputs": [],
   "source": [
    "x = df[features]\n",
    "y = df[label]"
   ]
  },
  {
   "cell_type": "markdown",
   "metadata": {},
   "source": [
    "Split the dataframe into 3 parts, train, cross validation and test datasets"
   ]
  },
  {
   "cell_type": "code",
   "execution_count": 8,
   "metadata": {},
   "outputs": [
    {
     "name": "stdout",
     "output_type": "stream",
     "text": [
      "X_train.shape (6954, 12) y_train.shape (6954,)\n",
      "X_cv.shape (4346, 12) y_cv.shape (4346,)\n",
      "X_test.shape (4347, 12) y_test.shape (4347,)\n"
     ]
    }
   ],
   "source": [
    "x_train, x_, y_train, y_ = train_test_split(x, y, test_size=0.20, random_state=RANDOM_STATE, shuffle=True)\n",
    "x_cv, x_test, y_cv, y_test = train_test_split(x, y, test_size=0.50, random_state=RANDOM_STATE, shuffle=True)\n",
    "print(\"X_train.shape\", x_train.shape, \"y_train.shape\", y_train.shape)\n",
    "print(\"X_cv.shape\", x_cv.shape, \"y_cv.shape\", y_cv.shape)\n",
    "print(\"X_test.shape\", x_test.shape, \"y_test.shape\", y_test.shape)"
   ]
  },
  {
   "cell_type": "markdown",
   "metadata": {},
   "source": [
    "## Model Building"
   ]
  },
  {
   "cell_type": "markdown",
   "metadata": {},
   "source": [
    "Baseline: \n",
    "\n",
    "A simple logistic regression model will be my baseline (score to beat)"
   ]
  },
  {
   "cell_type": "code",
   "execution_count": 9,
   "metadata": {},
   "outputs": [
    {
     "name": "stderr",
     "output_type": "stream",
     "text": [
      "[Parallel(n_jobs=1)]: Using backend SequentialBackend with 1 concurrent workers.\n",
      "[Parallel(n_jobs=1)]: Done   1 out of   1 | elapsed:    0.0s finished\n"
     ]
    },
    {
     "data": {
      "text/html": [
       "<style>#sk-container-id-1 {color: black;}#sk-container-id-1 pre{padding: 0;}#sk-container-id-1 div.sk-toggleable {background-color: white;}#sk-container-id-1 label.sk-toggleable__label {cursor: pointer;display: block;width: 100%;margin-bottom: 0;padding: 0.3em;box-sizing: border-box;text-align: center;}#sk-container-id-1 label.sk-toggleable__label-arrow:before {content: \"▸\";float: left;margin-right: 0.25em;color: #696969;}#sk-container-id-1 label.sk-toggleable__label-arrow:hover:before {color: black;}#sk-container-id-1 div.sk-estimator:hover label.sk-toggleable__label-arrow:before {color: black;}#sk-container-id-1 div.sk-toggleable__content {max-height: 0;max-width: 0;overflow: hidden;text-align: left;background-color: #f0f8ff;}#sk-container-id-1 div.sk-toggleable__content pre {margin: 0.2em;color: black;border-radius: 0.25em;background-color: #f0f8ff;}#sk-container-id-1 input.sk-toggleable__control:checked~div.sk-toggleable__content {max-height: 200px;max-width: 100%;overflow: auto;}#sk-container-id-1 input.sk-toggleable__control:checked~label.sk-toggleable__label-arrow:before {content: \"▾\";}#sk-container-id-1 div.sk-estimator input.sk-toggleable__control:checked~label.sk-toggleable__label {background-color: #d4ebff;}#sk-container-id-1 div.sk-label input.sk-toggleable__control:checked~label.sk-toggleable__label {background-color: #d4ebff;}#sk-container-id-1 input.sk-hidden--visually {border: 0;clip: rect(1px 1px 1px 1px);clip: rect(1px, 1px, 1px, 1px);height: 1px;margin: -1px;overflow: hidden;padding: 0;position: absolute;width: 1px;}#sk-container-id-1 div.sk-estimator {font-family: monospace;background-color: #f0f8ff;border: 1px dotted black;border-radius: 0.25em;box-sizing: border-box;margin-bottom: 0.5em;}#sk-container-id-1 div.sk-estimator:hover {background-color: #d4ebff;}#sk-container-id-1 div.sk-parallel-item::after {content: \"\";width: 100%;border-bottom: 1px solid gray;flex-grow: 1;}#sk-container-id-1 div.sk-label:hover label.sk-toggleable__label {background-color: #d4ebff;}#sk-container-id-1 div.sk-serial::before {content: \"\";position: absolute;border-left: 1px solid gray;box-sizing: border-box;top: 0;bottom: 0;left: 50%;z-index: 0;}#sk-container-id-1 div.sk-serial {display: flex;flex-direction: column;align-items: center;background-color: white;padding-right: 0.2em;padding-left: 0.2em;position: relative;}#sk-container-id-1 div.sk-item {position: relative;z-index: 1;}#sk-container-id-1 div.sk-parallel {display: flex;align-items: stretch;justify-content: center;background-color: white;position: relative;}#sk-container-id-1 div.sk-item::before, #sk-container-id-1 div.sk-parallel-item::before {content: \"\";position: absolute;border-left: 1px solid gray;box-sizing: border-box;top: 0;bottom: 0;left: 50%;z-index: -1;}#sk-container-id-1 div.sk-parallel-item {display: flex;flex-direction: column;z-index: 1;position: relative;background-color: white;}#sk-container-id-1 div.sk-parallel-item:first-child::after {align-self: flex-end;width: 50%;}#sk-container-id-1 div.sk-parallel-item:last-child::after {align-self: flex-start;width: 50%;}#sk-container-id-1 div.sk-parallel-item:only-child::after {width: 0;}#sk-container-id-1 div.sk-dashed-wrapped {border: 1px dashed gray;margin: 0 0.4em 0.5em 0.4em;box-sizing: border-box;padding-bottom: 0.4em;background-color: white;}#sk-container-id-1 div.sk-label label {font-family: monospace;font-weight: bold;display: inline-block;line-height: 1.2em;}#sk-container-id-1 div.sk-label-container {text-align: center;}#sk-container-id-1 div.sk-container {/* jupyter's `normalize.less` sets `[hidden] { display: none; }` but bootstrap.min.css set `[hidden] { display: none !important; }` so we also need the `!important` here to be able to override the default hidden behavior on the sphinx rendered scikit-learn.org. See: https://github.com/scikit-learn/scikit-learn/issues/21755 */display: inline-block !important;position: relative;}#sk-container-id-1 div.sk-text-repr-fallback {display: none;}</style><div id=\"sk-container-id-1\" class=\"sk-top-container\"><div class=\"sk-text-repr-fallback\"><pre>LogisticRegression(random_state=1, verbose=1)</pre><b>In a Jupyter environment, please rerun this cell to show the HTML representation or trust the notebook. <br />On GitHub, the HTML representation is unable to render, please try loading this page with nbviewer.org.</b></div><div class=\"sk-container\" hidden><div class=\"sk-item\"><div class=\"sk-estimator sk-toggleable\"><input class=\"sk-toggleable__control sk-hidden--visually\" id=\"sk-estimator-id-1\" type=\"checkbox\" checked><label for=\"sk-estimator-id-1\" class=\"sk-toggleable__label sk-toggleable__label-arrow\">LogisticRegression</label><div class=\"sk-toggleable__content\"><pre>LogisticRegression(random_state=1, verbose=1)</pre></div></div></div></div></div>"
      ],
      "text/plain": [
       "LogisticRegression(random_state=1, verbose=1)"
      ]
     },
     "execution_count": 9,
     "metadata": {},
     "output_type": "execute_result"
    }
   ],
   "source": [
    "log_reg_model = LogisticRegression(penalty='l2', random_state=RANDOM_STATE, max_iter=100, verbose=1)\n",
    "log_reg_model.fit(x_train, y_train)"
   ]
  },
  {
   "cell_type": "code",
   "execution_count": 10,
   "metadata": {},
   "outputs": [
    {
     "name": "stdout",
     "output_type": "stream",
     "text": [
      "Metrics\n",
      "Accuracy in the train dataset: 0.7165660051768766\n",
      "Accuracy in the cross validation dataset: 0.7229636447307869\n",
      "Accuracy in the test dataset: 0.7101449275362319\n",
      "Confusion matrix of the test dataset:\n",
      "[[1659  488]\n",
      " [ 772 1428]]\n",
      "Mean Squared Error: 0.2898550724637681\n",
      "F1 Score: 0.6938775510204082\n",
      "Precision Score: 0.7453027139874739\n",
      "Recall Score: 0.649090909090909\n"
     ]
    }
   ],
   "source": [
    "print('Metrics')\n",
    "print(f'Accuracy in the train dataset: {accuracy_score(log_reg_model.predict(x_train), y_train)}')\n",
    "print(f'Accuracy in the cross validation dataset: {accuracy_score(log_reg_model.predict(x_cv), y_cv)}')\n",
    "print(f'Accuracy in the test dataset: {accuracy_score(log_reg_model.predict(x_test), y_test)}')\n",
    "print(f'Confusion matrix of the test dataset:\\n{confusion_matrix(y_test, log_reg_model.predict(x_test))}')\n",
    "print(f'Mean Squared Error: {mean_squared_error(y_test, log_reg_model.predict(x_test))}')\n",
    "print(f'F1 Score: {f1_score(y_test, log_reg_model.predict(x_test))}')\n",
    "print(f'Precision Score: {precision_score(y_test, log_reg_model.predict(x_test))}')\n",
    "print(f'Recall Score: {recall_score(y_test, log_reg_model.predict(x_test))}')"
   ]
  },
  {
   "cell_type": "markdown",
   "metadata": {},
   "source": [
    "XGBoost: \n",
    "\n",
    "Gonna try gradient boosting decision trees first. "
   ]
  },
  {
   "cell_type": "code",
   "execution_count": 11,
   "metadata": {},
   "outputs": [
    {
     "name": "stdout",
     "output_type": "stream",
     "text": [
      "[0]\tvalidation_0-logloss:0.50617\n",
      "[1]\tvalidation_0-logloss:0.47900\n",
      "[2]\tvalidation_0-logloss:0.46239\n",
      "[3]\tvalidation_0-logloss:0.44550\n",
      "[4]\tvalidation_0-logloss:0.43433\n",
      "[5]\tvalidation_0-logloss:0.42272\n",
      "[6]\tvalidation_0-logloss:0.41531\n",
      "[7]\tvalidation_0-logloss:0.40617\n",
      "[8]\tvalidation_0-logloss:0.40124\n",
      "[9]\tvalidation_0-logloss:0.39141\n",
      "[10]\tvalidation_0-logloss:0.38876\n",
      "[11]\tvalidation_0-logloss:0.38316\n",
      "[12]\tvalidation_0-logloss:0.37897\n",
      "[13]\tvalidation_0-logloss:0.37296\n",
      "[14]\tvalidation_0-logloss:0.36963\n",
      "[15]\tvalidation_0-logloss:0.36496\n",
      "[16]\tvalidation_0-logloss:0.36105\n",
      "[17]\tvalidation_0-logloss:0.35673\n",
      "[18]\tvalidation_0-logloss:0.35211\n",
      "[19]\tvalidation_0-logloss:0.34808\n",
      "[20]\tvalidation_0-logloss:0.34472\n",
      "[21]\tvalidation_0-logloss:0.34167\n",
      "[22]\tvalidation_0-logloss:0.33908\n",
      "[23]\tvalidation_0-logloss:0.33460\n",
      "[24]\tvalidation_0-logloss:0.33115\n",
      "[25]\tvalidation_0-logloss:0.32669\n",
      "[26]\tvalidation_0-logloss:0.32233\n",
      "[27]\tvalidation_0-logloss:0.32141\n",
      "[28]\tvalidation_0-logloss:0.31653\n",
      "[29]\tvalidation_0-logloss:0.31433\n",
      "[30]\tvalidation_0-logloss:0.31020\n",
      "[31]\tvalidation_0-logloss:0.30690\n",
      "[32]\tvalidation_0-logloss:0.30397\n",
      "[33]\tvalidation_0-logloss:0.30228\n",
      "[34]\tvalidation_0-logloss:0.30048\n",
      "[35]\tvalidation_0-logloss:0.29730\n",
      "[36]\tvalidation_0-logloss:0.29500\n",
      "[37]\tvalidation_0-logloss:0.29333\n",
      "[38]\tvalidation_0-logloss:0.29253\n",
      "[39]\tvalidation_0-logloss:0.29041\n",
      "[40]\tvalidation_0-logloss:0.28575\n",
      "[41]\tvalidation_0-logloss:0.28413\n",
      "[42]\tvalidation_0-logloss:0.28134\n",
      "[43]\tvalidation_0-logloss:0.27913\n",
      "[44]\tvalidation_0-logloss:0.27580\n",
      "[45]\tvalidation_0-logloss:0.27305\n",
      "[46]\tvalidation_0-logloss:0.27071\n",
      "[47]\tvalidation_0-logloss:0.26807\n",
      "[48]\tvalidation_0-logloss:0.26608\n",
      "[49]\tvalidation_0-logloss:0.26403\n",
      "[50]\tvalidation_0-logloss:0.26240\n",
      "[51]\tvalidation_0-logloss:0.26062\n",
      "[52]\tvalidation_0-logloss:0.25877\n",
      "[53]\tvalidation_0-logloss:0.25539\n",
      "[54]\tvalidation_0-logloss:0.25389\n",
      "[55]\tvalidation_0-logloss:0.25144\n",
      "[56]\tvalidation_0-logloss:0.24880\n",
      "[57]\tvalidation_0-logloss:0.24652\n",
      "[58]\tvalidation_0-logloss:0.24344\n",
      "[59]\tvalidation_0-logloss:0.24214\n",
      "[60]\tvalidation_0-logloss:0.24183\n",
      "[61]\tvalidation_0-logloss:0.23946\n",
      "[62]\tvalidation_0-logloss:0.23590\n",
      "[63]\tvalidation_0-logloss:0.23376\n",
      "[64]\tvalidation_0-logloss:0.23294\n",
      "[65]\tvalidation_0-logloss:0.23161\n",
      "[66]\tvalidation_0-logloss:0.23027\n",
      "[67]\tvalidation_0-logloss:0.22919\n",
      "[68]\tvalidation_0-logloss:0.22837\n",
      "[69]\tvalidation_0-logloss:0.22703\n",
      "[70]\tvalidation_0-logloss:0.22432\n",
      "[71]\tvalidation_0-logloss:0.22290\n",
      "[72]\tvalidation_0-logloss:0.22159\n",
      "[73]\tvalidation_0-logloss:0.21997\n",
      "[74]\tvalidation_0-logloss:0.21913\n",
      "[75]\tvalidation_0-logloss:0.21723\n",
      "[76]\tvalidation_0-logloss:0.21641\n",
      "[77]\tvalidation_0-logloss:0.21562\n",
      "[78]\tvalidation_0-logloss:0.21463\n",
      "[79]\tvalidation_0-logloss:0.21208\n",
      "[80]\tvalidation_0-logloss:0.20952\n",
      "[81]\tvalidation_0-logloss:0.20737\n",
      "[82]\tvalidation_0-logloss:0.20526\n",
      "[83]\tvalidation_0-logloss:0.20356\n",
      "[84]\tvalidation_0-logloss:0.20118\n",
      "[85]\tvalidation_0-logloss:0.20039\n",
      "[86]\tvalidation_0-logloss:0.19828\n",
      "[87]\tvalidation_0-logloss:0.19657\n",
      "[88]\tvalidation_0-logloss:0.19495\n",
      "[89]\tvalidation_0-logloss:0.19430\n",
      "[90]\tvalidation_0-logloss:0.19313\n",
      "[91]\tvalidation_0-logloss:0.19217\n",
      "[92]\tvalidation_0-logloss:0.18995\n",
      "[93]\tvalidation_0-logloss:0.18881\n",
      "[94]\tvalidation_0-logloss:0.18704\n",
      "[95]\tvalidation_0-logloss:0.18533\n",
      "[96]\tvalidation_0-logloss:0.18431\n",
      "[97]\tvalidation_0-logloss:0.18287\n",
      "[98]\tvalidation_0-logloss:0.18169\n",
      "[99]\tvalidation_0-logloss:0.18071\n",
      "[100]\tvalidation_0-logloss:0.17965\n",
      "[101]\tvalidation_0-logloss:0.17828\n",
      "[102]\tvalidation_0-logloss:0.17677\n",
      "[103]\tvalidation_0-logloss:0.17548\n",
      "[104]\tvalidation_0-logloss:0.17454\n",
      "[105]\tvalidation_0-logloss:0.17328\n",
      "[106]\tvalidation_0-logloss:0.17223\n",
      "[107]\tvalidation_0-logloss:0.17115\n",
      "[108]\tvalidation_0-logloss:0.17015\n",
      "[109]\tvalidation_0-logloss:0.16957\n",
      "[110]\tvalidation_0-logloss:0.16855\n",
      "[111]\tvalidation_0-logloss:0.16750\n",
      "[112]\tvalidation_0-logloss:0.16710\n",
      "[113]\tvalidation_0-logloss:0.16610\n"
     ]
    },
    {
     "name": "stderr",
     "output_type": "stream",
     "text": [
      "C:\\Users\\Brahyam Almonte Ruiz\\AppData\\Roaming\\Python\\Python311\\site-packages\\xgboost\\data.py:335: FutureWarning: is_sparse is deprecated and will be removed in a future version. Check `isinstance(dtype, pd.SparseDtype)` instead.\n",
      "  if is_sparse(dtype):\n",
      "C:\\Users\\Brahyam Almonte Ruiz\\AppData\\Roaming\\Python\\Python311\\site-packages\\xgboost\\data.py:338: FutureWarning: is_categorical_dtype is deprecated and will be removed in a future version. Use isinstance(dtype, CategoricalDtype) instead\n",
      "  is_categorical_dtype(dtype) or is_pa_ext_categorical_dtype(dtype)\n",
      "C:\\Users\\Brahyam Almonte Ruiz\\AppData\\Roaming\\Python\\Python311\\site-packages\\xgboost\\data.py:384: FutureWarning: is_categorical_dtype is deprecated and will be removed in a future version. Use isinstance(dtype, CategoricalDtype) instead\n",
      "  if is_categorical_dtype(dtype):\n",
      "C:\\Users\\Brahyam Almonte Ruiz\\AppData\\Roaming\\Python\\Python311\\site-packages\\xgboost\\data.py:359: FutureWarning: is_categorical_dtype is deprecated and will be removed in a future version. Use isinstance(dtype, CategoricalDtype) instead\n",
      "  return is_int or is_bool or is_float or is_categorical_dtype(dtype)\n",
      "C:\\Users\\Brahyam Almonte Ruiz\\AppData\\Roaming\\Python\\Python311\\site-packages\\xgboost\\data.py:520: FutureWarning: is_sparse is deprecated and will be removed in a future version. Check `isinstance(dtype, pd.SparseDtype)` instead.\n",
      "  if is_sparse(data):\n",
      "C:\\Users\\Brahyam Almonte Ruiz\\AppData\\Roaming\\Python\\Python311\\site-packages\\xgboost\\data.py:335: FutureWarning: is_sparse is deprecated and will be removed in a future version. Check `isinstance(dtype, pd.SparseDtype)` instead.\n",
      "  if is_sparse(dtype):\n",
      "C:\\Users\\Brahyam Almonte Ruiz\\AppData\\Roaming\\Python\\Python311\\site-packages\\xgboost\\data.py:338: FutureWarning: is_categorical_dtype is deprecated and will be removed in a future version. Use isinstance(dtype, CategoricalDtype) instead\n",
      "  is_categorical_dtype(dtype) or is_pa_ext_categorical_dtype(dtype)\n",
      "C:\\Users\\Brahyam Almonte Ruiz\\AppData\\Roaming\\Python\\Python311\\site-packages\\xgboost\\data.py:384: FutureWarning: is_categorical_dtype is deprecated and will be removed in a future version. Use isinstance(dtype, CategoricalDtype) instead\n",
      "  if is_categorical_dtype(dtype):\n",
      "C:\\Users\\Brahyam Almonte Ruiz\\AppData\\Roaming\\Python\\Python311\\site-packages\\xgboost\\data.py:359: FutureWarning: is_categorical_dtype is deprecated and will be removed in a future version. Use isinstance(dtype, CategoricalDtype) instead\n",
      "  return is_int or is_bool or is_float or is_categorical_dtype(dtype)\n",
      "C:\\Users\\Brahyam Almonte Ruiz\\AppData\\Roaming\\Python\\Python311\\site-packages\\xgboost\\data.py:520: FutureWarning: is_sparse is deprecated and will be removed in a future version. Check `isinstance(dtype, pd.SparseDtype)` instead.\n",
      "  if is_sparse(data):\n"
     ]
    },
    {
     "name": "stdout",
     "output_type": "stream",
     "text": [
      "[114]\tvalidation_0-logloss:0.16496\n",
      "[115]\tvalidation_0-logloss:0.16455\n",
      "[116]\tvalidation_0-logloss:0.16396\n",
      "[117]\tvalidation_0-logloss:0.16298\n",
      "[118]\tvalidation_0-logloss:0.16216\n",
      "[119]\tvalidation_0-logloss:0.16076\n",
      "[120]\tvalidation_0-logloss:0.15949\n",
      "[121]\tvalidation_0-logloss:0.15841\n",
      "[122]\tvalidation_0-logloss:0.15799\n",
      "[123]\tvalidation_0-logloss:0.15683\n",
      "[124]\tvalidation_0-logloss:0.15606\n",
      "[125]\tvalidation_0-logloss:0.15498\n",
      "[126]\tvalidation_0-logloss:0.15431\n",
      "[127]\tvalidation_0-logloss:0.15345\n",
      "[128]\tvalidation_0-logloss:0.15237\n",
      "[129]\tvalidation_0-logloss:0.15134\n",
      "[130]\tvalidation_0-logloss:0.15010\n",
      "[131]\tvalidation_0-logloss:0.14931\n",
      "[132]\tvalidation_0-logloss:0.14810\n",
      "[133]\tvalidation_0-logloss:0.14701\n",
      "[134]\tvalidation_0-logloss:0.14568\n",
      "[135]\tvalidation_0-logloss:0.14440\n",
      "[136]\tvalidation_0-logloss:0.14395\n",
      "[137]\tvalidation_0-logloss:0.14322\n",
      "[138]\tvalidation_0-logloss:0.14229\n",
      "[139]\tvalidation_0-logloss:0.14217\n",
      "[140]\tvalidation_0-logloss:0.14109\n",
      "[141]\tvalidation_0-logloss:0.13978\n",
      "[142]\tvalidation_0-logloss:0.13891\n",
      "[143]\tvalidation_0-logloss:0.13834\n",
      "[144]\tvalidation_0-logloss:0.13766\n",
      "[145]\tvalidation_0-logloss:0.13663\n",
      "[146]\tvalidation_0-logloss:0.13579\n",
      "[147]\tvalidation_0-logloss:0.13517\n",
      "[148]\tvalidation_0-logloss:0.13431\n",
      "[149]\tvalidation_0-logloss:0.13360\n"
     ]
    },
    {
     "data": {
      "text/html": [
       "<style>#sk-container-id-2 {color: black;}#sk-container-id-2 pre{padding: 0;}#sk-container-id-2 div.sk-toggleable {background-color: white;}#sk-container-id-2 label.sk-toggleable__label {cursor: pointer;display: block;width: 100%;margin-bottom: 0;padding: 0.3em;box-sizing: border-box;text-align: center;}#sk-container-id-2 label.sk-toggleable__label-arrow:before {content: \"▸\";float: left;margin-right: 0.25em;color: #696969;}#sk-container-id-2 label.sk-toggleable__label-arrow:hover:before {color: black;}#sk-container-id-2 div.sk-estimator:hover label.sk-toggleable__label-arrow:before {color: black;}#sk-container-id-2 div.sk-toggleable__content {max-height: 0;max-width: 0;overflow: hidden;text-align: left;background-color: #f0f8ff;}#sk-container-id-2 div.sk-toggleable__content pre {margin: 0.2em;color: black;border-radius: 0.25em;background-color: #f0f8ff;}#sk-container-id-2 input.sk-toggleable__control:checked~div.sk-toggleable__content {max-height: 200px;max-width: 100%;overflow: auto;}#sk-container-id-2 input.sk-toggleable__control:checked~label.sk-toggleable__label-arrow:before {content: \"▾\";}#sk-container-id-2 div.sk-estimator input.sk-toggleable__control:checked~label.sk-toggleable__label {background-color: #d4ebff;}#sk-container-id-2 div.sk-label input.sk-toggleable__control:checked~label.sk-toggleable__label {background-color: #d4ebff;}#sk-container-id-2 input.sk-hidden--visually {border: 0;clip: rect(1px 1px 1px 1px);clip: rect(1px, 1px, 1px, 1px);height: 1px;margin: -1px;overflow: hidden;padding: 0;position: absolute;width: 1px;}#sk-container-id-2 div.sk-estimator {font-family: monospace;background-color: #f0f8ff;border: 1px dotted black;border-radius: 0.25em;box-sizing: border-box;margin-bottom: 0.5em;}#sk-container-id-2 div.sk-estimator:hover {background-color: #d4ebff;}#sk-container-id-2 div.sk-parallel-item::after {content: \"\";width: 100%;border-bottom: 1px solid gray;flex-grow: 1;}#sk-container-id-2 div.sk-label:hover label.sk-toggleable__label {background-color: #d4ebff;}#sk-container-id-2 div.sk-serial::before {content: \"\";position: absolute;border-left: 1px solid gray;box-sizing: border-box;top: 0;bottom: 0;left: 50%;z-index: 0;}#sk-container-id-2 div.sk-serial {display: flex;flex-direction: column;align-items: center;background-color: white;padding-right: 0.2em;padding-left: 0.2em;position: relative;}#sk-container-id-2 div.sk-item {position: relative;z-index: 1;}#sk-container-id-2 div.sk-parallel {display: flex;align-items: stretch;justify-content: center;background-color: white;position: relative;}#sk-container-id-2 div.sk-item::before, #sk-container-id-2 div.sk-parallel-item::before {content: \"\";position: absolute;border-left: 1px solid gray;box-sizing: border-box;top: 0;bottom: 0;left: 50%;z-index: -1;}#sk-container-id-2 div.sk-parallel-item {display: flex;flex-direction: column;z-index: 1;position: relative;background-color: white;}#sk-container-id-2 div.sk-parallel-item:first-child::after {align-self: flex-end;width: 50%;}#sk-container-id-2 div.sk-parallel-item:last-child::after {align-self: flex-start;width: 50%;}#sk-container-id-2 div.sk-parallel-item:only-child::after {width: 0;}#sk-container-id-2 div.sk-dashed-wrapped {border: 1px dashed gray;margin: 0 0.4em 0.5em 0.4em;box-sizing: border-box;padding-bottom: 0.4em;background-color: white;}#sk-container-id-2 div.sk-label label {font-family: monospace;font-weight: bold;display: inline-block;line-height: 1.2em;}#sk-container-id-2 div.sk-label-container {text-align: center;}#sk-container-id-2 div.sk-container {/* jupyter's `normalize.less` sets `[hidden] { display: none; }` but bootstrap.min.css set `[hidden] { display: none !important; }` so we also need the `!important` here to be able to override the default hidden behavior on the sphinx rendered scikit-learn.org. See: https://github.com/scikit-learn/scikit-learn/issues/21755 */display: inline-block !important;position: relative;}#sk-container-id-2 div.sk-text-repr-fallback {display: none;}</style><div id=\"sk-container-id-2\" class=\"sk-top-container\"><div class=\"sk-text-repr-fallback\"><pre>XGBClassifier(base_score=None, booster=None, callbacks=None,\n",
       "              colsample_bylevel=None, colsample_bynode=None,\n",
       "              colsample_bytree=None, device=None, early_stopping_rounds=70,\n",
       "              enable_categorical=False, eval_metric=None, feature_types=None,\n",
       "              gamma=None, grow_policy=None, importance_type=None,\n",
       "              interaction_constraints=None, learning_rate=1, max_bin=None,\n",
       "              max_cat_threshold=None, max_cat_to_onehot=None,\n",
       "              max_delta_step=None, max_depth=None, max_leaves=None,\n",
       "              min_child_weight=None, missing=nan, monotone_constraints=None,\n",
       "              multi_strategy=None, n_estimators=150, n_jobs=None,\n",
       "              num_parallel_tree=None, random_state=1, ...)</pre><b>In a Jupyter environment, please rerun this cell to show the HTML representation or trust the notebook. <br />On GitHub, the HTML representation is unable to render, please try loading this page with nbviewer.org.</b></div><div class=\"sk-container\" hidden><div class=\"sk-item\"><div class=\"sk-estimator sk-toggleable\"><input class=\"sk-toggleable__control sk-hidden--visually\" id=\"sk-estimator-id-2\" type=\"checkbox\" checked><label for=\"sk-estimator-id-2\" class=\"sk-toggleable__label sk-toggleable__label-arrow\">XGBClassifier</label><div class=\"sk-toggleable__content\"><pre>XGBClassifier(base_score=None, booster=None, callbacks=None,\n",
       "              colsample_bylevel=None, colsample_bynode=None,\n",
       "              colsample_bytree=None, device=None, early_stopping_rounds=70,\n",
       "              enable_categorical=False, eval_metric=None, feature_types=None,\n",
       "              gamma=None, grow_policy=None, importance_type=None,\n",
       "              interaction_constraints=None, learning_rate=1, max_bin=None,\n",
       "              max_cat_threshold=None, max_cat_to_onehot=None,\n",
       "              max_delta_step=None, max_depth=None, max_leaves=None,\n",
       "              min_child_weight=None, missing=nan, monotone_constraints=None,\n",
       "              multi_strategy=None, n_estimators=150, n_jobs=None,\n",
       "              num_parallel_tree=None, random_state=1, ...)</pre></div></div></div></div></div>"
      ],
      "text/plain": [
       "XGBClassifier(base_score=None, booster=None, callbacks=None,\n",
       "              colsample_bylevel=None, colsample_bynode=None,\n",
       "              colsample_bytree=None, device=None, early_stopping_rounds=70,\n",
       "              enable_categorical=False, eval_metric=None, feature_types=None,\n",
       "              gamma=None, grow_policy=None, importance_type=None,\n",
       "              interaction_constraints=None, learning_rate=1, max_bin=None,\n",
       "              max_cat_threshold=None, max_cat_to_onehot=None,\n",
       "              max_delta_step=None, max_depth=None, max_leaves=None,\n",
       "              min_child_weight=None, missing=nan, monotone_constraints=None,\n",
       "              multi_strategy=None, n_estimators=150, n_jobs=None,\n",
       "              num_parallel_tree=None, random_state=1, ...)"
      ]
     },
     "execution_count": 11,
     "metadata": {},
     "output_type": "execute_result"
    }
   ],
   "source": [
    "xgb_model = XGBClassifier(n_estimators=150, learning_rate=1, verbosity=1, random_state=RANDOM_STATE, \n",
    "                            early_stopping_rounds=70, reg_lambda=8)\n",
    "xgb_model.fit(x_train, y_train, eval_set=[(x_cv, y_cv)])"
   ]
  },
  {
   "cell_type": "code",
   "execution_count": 12,
   "metadata": {},
   "outputs": [
    {
     "data": {
      "text/plain": [
       "{'validation_0': OrderedDict([('logloss',\n",
       "               [0.5061710792042065,\n",
       "                0.4790047459163756,\n",
       "                0.46239047446294596,\n",
       "                0.44550318671523276,\n",
       "                0.43432787179499455,\n",
       "                0.42272254127608994,\n",
       "                0.41531397841444984,\n",
       "                0.4061651350110926,\n",
       "                0.40124038967906206,\n",
       "                0.39141314879973865,\n",
       "                0.3887555253692989,\n",
       "                0.3831597593935294,\n",
       "                0.3789678263730634,\n",
       "                0.3729630645708438,\n",
       "                0.3696287653232259,\n",
       "                0.36495792328681026,\n",
       "                0.3610486469849825,\n",
       "                0.35673372885131005,\n",
       "                0.35210884136405596,\n",
       "                0.3480848487373905,\n",
       "                0.34471536587333224,\n",
       "                0.34166726479981707,\n",
       "                0.3390820379289485,\n",
       "                0.33459969465321876,\n",
       "                0.3311537787618456,\n",
       "                0.3266927717673,\n",
       "                0.3223305035379288,\n",
       "                0.321405820684196,\n",
       "                0.3165268827257141,\n",
       "                0.31433371026178214,\n",
       "                0.31020187140116223,\n",
       "                0.3069010571701729,\n",
       "                0.30397070263267884,\n",
       "                0.30228068744325,\n",
       "                0.30047926761673305,\n",
       "                0.297297768275056,\n",
       "                0.29500331101403704,\n",
       "                0.2933325641390616,\n",
       "                0.29252757857428013,\n",
       "                0.29040964630991345,\n",
       "                0.2857467376061703,\n",
       "                0.2841290844523122,\n",
       "                0.2813354281501831,\n",
       "                0.2791275190745646,\n",
       "                0.27579960222749433,\n",
       "                0.27304712065299996,\n",
       "                0.2707106648298576,\n",
       "                0.26806709767147563,\n",
       "                0.2660839639015353,\n",
       "                0.26403066760479854,\n",
       "                0.262404098141225,\n",
       "                0.26062404321018345,\n",
       "                0.2587744938826,\n",
       "                0.25539460354164667,\n",
       "                0.25389266439563507,\n",
       "                0.25144382750201666,\n",
       "                0.24879906221505105,\n",
       "                0.2465166158842842,\n",
       "                0.24344078713960463,\n",
       "                0.24213599513919262,\n",
       "                0.24182960751846647,\n",
       "                0.23945762601377746,\n",
       "                0.23589985914527528,\n",
       "                0.23376337417097592,\n",
       "                0.23294129239611466,\n",
       "                0.23161141825690315,\n",
       "                0.23027105077860907,\n",
       "                0.2291928507192236,\n",
       "                0.22837091988947464,\n",
       "                0.22703112449098262,\n",
       "                0.22432422383210202,\n",
       "                0.22289890321201647,\n",
       "                0.22159167599453578,\n",
       "                0.21997119837766219,\n",
       "                0.2191293780755372,\n",
       "                0.21723016644728083,\n",
       "                0.2164149384811184,\n",
       "                0.21562039356490573,\n",
       "                0.21462619840684072,\n",
       "                0.21208010694522722,\n",
       "                0.20952281293518285,\n",
       "                0.2073655040514652,\n",
       "                0.20525923440393512,\n",
       "                0.20356212232967077,\n",
       "                0.20117985149435458,\n",
       "                0.2003943582077012,\n",
       "                0.19827844590952434,\n",
       "                0.19656545369897327,\n",
       "                0.19494914254508752,\n",
       "                0.1942959471798265,\n",
       "                0.19312686633675286,\n",
       "                0.19216590394290187,\n",
       "                0.18994699950296856,\n",
       "                0.18881499059721613,\n",
       "                0.18704101673510354,\n",
       "                0.18533297508246618,\n",
       "                0.18431236735421147,\n",
       "                0.18286899982575736,\n",
       "                0.1816882480172947,\n",
       "                0.18071038475793633,\n",
       "                0.17965164796031502,\n",
       "                0.17828079215354115,\n",
       "                0.17677034889403717,\n",
       "                0.17547984927031599,\n",
       "                0.17454008544348015,\n",
       "                0.17328165843259988,\n",
       "                0.17223440821341987,\n",
       "                0.17115322706193117,\n",
       "                0.17015474176146728,\n",
       "                0.16956646328420427,\n",
       "                0.16854761470202415,\n",
       "                0.16749688415086184,\n",
       "                0.16709792033510634,\n",
       "                0.1660974823238175,\n",
       "                0.16495532576583338,\n",
       "                0.16454950693287196,\n",
       "                0.16395743852810182,\n",
       "                0.16297845316892268,\n",
       "                0.16215599936118918,\n",
       "                0.1607566144755475,\n",
       "                0.15949039723804595,\n",
       "                0.1584123720581655,\n",
       "                0.15799356517948204,\n",
       "                0.15682738402847718,\n",
       "                0.15606207651184656,\n",
       "                0.15498254842745168,\n",
       "                0.15430981292304125,\n",
       "                0.1534542143660879,\n",
       "                0.15237025406237914,\n",
       "                0.15134242934903744,\n",
       "                0.15010494304991523,\n",
       "                0.14930959781182754,\n",
       "                0.1481040540019295,\n",
       "                0.14701226010337526,\n",
       "                0.14567958105478976,\n",
       "                0.14440378570574464,\n",
       "                0.1439465474261589,\n",
       "                0.14322044729855518,\n",
       "                0.1422906340301563,\n",
       "                0.14216834849221208,\n",
       "                0.14109247809656136,\n",
       "                0.13977748759735406,\n",
       "                0.1389091243937478,\n",
       "                0.13834279061541954,\n",
       "                0.13765880186068896,\n",
       "                0.13663105281462326,\n",
       "                0.13578680676846785,\n",
       "                0.13517196554029817,\n",
       "                0.13430901584562047,\n",
       "                0.13359893113998675])])}"
      ]
     },
     "execution_count": 12,
     "metadata": {},
     "output_type": "execute_result"
    }
   ],
   "source": [
    "xgb_model.evals_result()"
   ]
  },
  {
   "cell_type": "code",
   "execution_count": 13,
   "metadata": {},
   "outputs": [
    {
     "name": "stdout",
     "output_type": "stream",
     "text": [
      "Metrics\n",
      "Accuracy in the train dataset: 0.9823123382226057\n",
      "Accuracy in the cross validation dataset: 0.980441785549931\n",
      "Accuracy in the test dataset: 0.8755463538072233\n",
      "Confusion matrix of the test dataset:\n",
      "[[1902  245]\n",
      " [ 296 1904]]\n",
      "Mean Squared Error: 0.12445364619277663\n",
      "F1 Score: 0.8756035870315014\n",
      "Precision Score: 0.8859934853420195\n",
      "Recall Score: 0.8654545454545455\n"
     ]
    },
    {
     "name": "stderr",
     "output_type": "stream",
     "text": [
      "C:\\Users\\Brahyam Almonte Ruiz\\AppData\\Roaming\\Python\\Python311\\site-packages\\xgboost\\data.py:335: FutureWarning: is_sparse is deprecated and will be removed in a future version. Check `isinstance(dtype, pd.SparseDtype)` instead.\n",
      "  if is_sparse(dtype):\n",
      "C:\\Users\\Brahyam Almonte Ruiz\\AppData\\Roaming\\Python\\Python311\\site-packages\\xgboost\\data.py:338: FutureWarning: is_categorical_dtype is deprecated and will be removed in a future version. Use isinstance(dtype, CategoricalDtype) instead\n",
      "  is_categorical_dtype(dtype) or is_pa_ext_categorical_dtype(dtype)\n",
      "C:\\Users\\Brahyam Almonte Ruiz\\AppData\\Roaming\\Python\\Python311\\site-packages\\xgboost\\data.py:384: FutureWarning: is_categorical_dtype is deprecated and will be removed in a future version. Use isinstance(dtype, CategoricalDtype) instead\n",
      "  if is_categorical_dtype(dtype):\n",
      "C:\\Users\\Brahyam Almonte Ruiz\\AppData\\Roaming\\Python\\Python311\\site-packages\\xgboost\\data.py:359: FutureWarning: is_categorical_dtype is deprecated and will be removed in a future version. Use isinstance(dtype, CategoricalDtype) instead\n",
      "  return is_int or is_bool or is_float or is_categorical_dtype(dtype)\n",
      "C:\\Users\\Brahyam Almonte Ruiz\\AppData\\Roaming\\Python\\Python311\\site-packages\\xgboost\\data.py:335: FutureWarning: is_sparse is deprecated and will be removed in a future version. Check `isinstance(dtype, pd.SparseDtype)` instead.\n",
      "  if is_sparse(dtype):\n",
      "C:\\Users\\Brahyam Almonte Ruiz\\AppData\\Roaming\\Python\\Python311\\site-packages\\xgboost\\data.py:338: FutureWarning: is_categorical_dtype is deprecated and will be removed in a future version. Use isinstance(dtype, CategoricalDtype) instead\n",
      "  is_categorical_dtype(dtype) or is_pa_ext_categorical_dtype(dtype)\n",
      "C:\\Users\\Brahyam Almonte Ruiz\\AppData\\Roaming\\Python\\Python311\\site-packages\\xgboost\\data.py:384: FutureWarning: is_categorical_dtype is deprecated and will be removed in a future version. Use isinstance(dtype, CategoricalDtype) instead\n",
      "  if is_categorical_dtype(dtype):\n",
      "C:\\Users\\Brahyam Almonte Ruiz\\AppData\\Roaming\\Python\\Python311\\site-packages\\xgboost\\data.py:359: FutureWarning: is_categorical_dtype is deprecated and will be removed in a future version. Use isinstance(dtype, CategoricalDtype) instead\n",
      "  return is_int or is_bool or is_float or is_categorical_dtype(dtype)\n",
      "C:\\Users\\Brahyam Almonte Ruiz\\AppData\\Roaming\\Python\\Python311\\site-packages\\xgboost\\data.py:335: FutureWarning: is_sparse is deprecated and will be removed in a future version. Check `isinstance(dtype, pd.SparseDtype)` instead.\n",
      "  if is_sparse(dtype):\n",
      "C:\\Users\\Brahyam Almonte Ruiz\\AppData\\Roaming\\Python\\Python311\\site-packages\\xgboost\\data.py:338: FutureWarning: is_categorical_dtype is deprecated and will be removed in a future version. Use isinstance(dtype, CategoricalDtype) instead\n",
      "  is_categorical_dtype(dtype) or is_pa_ext_categorical_dtype(dtype)\n",
      "C:\\Users\\Brahyam Almonte Ruiz\\AppData\\Roaming\\Python\\Python311\\site-packages\\xgboost\\data.py:384: FutureWarning: is_categorical_dtype is deprecated and will be removed in a future version. Use isinstance(dtype, CategoricalDtype) instead\n",
      "  if is_categorical_dtype(dtype):\n",
      "C:\\Users\\Brahyam Almonte Ruiz\\AppData\\Roaming\\Python\\Python311\\site-packages\\xgboost\\data.py:359: FutureWarning: is_categorical_dtype is deprecated and will be removed in a future version. Use isinstance(dtype, CategoricalDtype) instead\n",
      "  return is_int or is_bool or is_float or is_categorical_dtype(dtype)\n",
      "C:\\Users\\Brahyam Almonte Ruiz\\AppData\\Roaming\\Python\\Python311\\site-packages\\xgboost\\data.py:335: FutureWarning: is_sparse is deprecated and will be removed in a future version. Check `isinstance(dtype, pd.SparseDtype)` instead.\n",
      "  if is_sparse(dtype):\n",
      "C:\\Users\\Brahyam Almonte Ruiz\\AppData\\Roaming\\Python\\Python311\\site-packages\\xgboost\\data.py:338: FutureWarning: is_categorical_dtype is deprecated and will be removed in a future version. Use isinstance(dtype, CategoricalDtype) instead\n",
      "  is_categorical_dtype(dtype) or is_pa_ext_categorical_dtype(dtype)\n",
      "C:\\Users\\Brahyam Almonte Ruiz\\AppData\\Roaming\\Python\\Python311\\site-packages\\xgboost\\data.py:384: FutureWarning: is_categorical_dtype is deprecated and will be removed in a future version. Use isinstance(dtype, CategoricalDtype) instead\n",
      "  if is_categorical_dtype(dtype):\n",
      "C:\\Users\\Brahyam Almonte Ruiz\\AppData\\Roaming\\Python\\Python311\\site-packages\\xgboost\\data.py:359: FutureWarning: is_categorical_dtype is deprecated and will be removed in a future version. Use isinstance(dtype, CategoricalDtype) instead\n",
      "  return is_int or is_bool or is_float or is_categorical_dtype(dtype)\n",
      "C:\\Users\\Brahyam Almonte Ruiz\\AppData\\Roaming\\Python\\Python311\\site-packages\\xgboost\\data.py:335: FutureWarning: is_sparse is deprecated and will be removed in a future version. Check `isinstance(dtype, pd.SparseDtype)` instead.\n",
      "  if is_sparse(dtype):\n",
      "C:\\Users\\Brahyam Almonte Ruiz\\AppData\\Roaming\\Python\\Python311\\site-packages\\xgboost\\data.py:338: FutureWarning: is_categorical_dtype is deprecated and will be removed in a future version. Use isinstance(dtype, CategoricalDtype) instead\n",
      "  is_categorical_dtype(dtype) or is_pa_ext_categorical_dtype(dtype)\n",
      "C:\\Users\\Brahyam Almonte Ruiz\\AppData\\Roaming\\Python\\Python311\\site-packages\\xgboost\\data.py:384: FutureWarning: is_categorical_dtype is deprecated and will be removed in a future version. Use isinstance(dtype, CategoricalDtype) instead\n",
      "  if is_categorical_dtype(dtype):\n",
      "C:\\Users\\Brahyam Almonte Ruiz\\AppData\\Roaming\\Python\\Python311\\site-packages\\xgboost\\data.py:359: FutureWarning: is_categorical_dtype is deprecated and will be removed in a future version. Use isinstance(dtype, CategoricalDtype) instead\n",
      "  return is_int or is_bool or is_float or is_categorical_dtype(dtype)\n",
      "C:\\Users\\Brahyam Almonte Ruiz\\AppData\\Roaming\\Python\\Python311\\site-packages\\xgboost\\data.py:335: FutureWarning: is_sparse is deprecated and will be removed in a future version. Check `isinstance(dtype, pd.SparseDtype)` instead.\n",
      "  if is_sparse(dtype):\n",
      "C:\\Users\\Brahyam Almonte Ruiz\\AppData\\Roaming\\Python\\Python311\\site-packages\\xgboost\\data.py:338: FutureWarning: is_categorical_dtype is deprecated and will be removed in a future version. Use isinstance(dtype, CategoricalDtype) instead\n",
      "  is_categorical_dtype(dtype) or is_pa_ext_categorical_dtype(dtype)\n",
      "C:\\Users\\Brahyam Almonte Ruiz\\AppData\\Roaming\\Python\\Python311\\site-packages\\xgboost\\data.py:384: FutureWarning: is_categorical_dtype is deprecated and will be removed in a future version. Use isinstance(dtype, CategoricalDtype) instead\n",
      "  if is_categorical_dtype(dtype):\n",
      "C:\\Users\\Brahyam Almonte Ruiz\\AppData\\Roaming\\Python\\Python311\\site-packages\\xgboost\\data.py:359: FutureWarning: is_categorical_dtype is deprecated and will be removed in a future version. Use isinstance(dtype, CategoricalDtype) instead\n",
      "  return is_int or is_bool or is_float or is_categorical_dtype(dtype)\n",
      "C:\\Users\\Brahyam Almonte Ruiz\\AppData\\Roaming\\Python\\Python311\\site-packages\\xgboost\\data.py:335: FutureWarning: is_sparse is deprecated and will be removed in a future version. Check `isinstance(dtype, pd.SparseDtype)` instead.\n",
      "  if is_sparse(dtype):\n",
      "C:\\Users\\Brahyam Almonte Ruiz\\AppData\\Roaming\\Python\\Python311\\site-packages\\xgboost\\data.py:338: FutureWarning: is_categorical_dtype is deprecated and will be removed in a future version. Use isinstance(dtype, CategoricalDtype) instead\n",
      "  is_categorical_dtype(dtype) or is_pa_ext_categorical_dtype(dtype)\n",
      "C:\\Users\\Brahyam Almonte Ruiz\\AppData\\Roaming\\Python\\Python311\\site-packages\\xgboost\\data.py:384: FutureWarning: is_categorical_dtype is deprecated and will be removed in a future version. Use isinstance(dtype, CategoricalDtype) instead\n",
      "  if is_categorical_dtype(dtype):\n",
      "C:\\Users\\Brahyam Almonte Ruiz\\AppData\\Roaming\\Python\\Python311\\site-packages\\xgboost\\data.py:359: FutureWarning: is_categorical_dtype is deprecated and will be removed in a future version. Use isinstance(dtype, CategoricalDtype) instead\n",
      "  return is_int or is_bool or is_float or is_categorical_dtype(dtype)\n",
      "C:\\Users\\Brahyam Almonte Ruiz\\AppData\\Roaming\\Python\\Python311\\site-packages\\xgboost\\data.py:335: FutureWarning: is_sparse is deprecated and will be removed in a future version. Check `isinstance(dtype, pd.SparseDtype)` instead.\n",
      "  if is_sparse(dtype):\n",
      "C:\\Users\\Brahyam Almonte Ruiz\\AppData\\Roaming\\Python\\Python311\\site-packages\\xgboost\\data.py:338: FutureWarning: is_categorical_dtype is deprecated and will be removed in a future version. Use isinstance(dtype, CategoricalDtype) instead\n",
      "  is_categorical_dtype(dtype) or is_pa_ext_categorical_dtype(dtype)\n",
      "C:\\Users\\Brahyam Almonte Ruiz\\AppData\\Roaming\\Python\\Python311\\site-packages\\xgboost\\data.py:384: FutureWarning: is_categorical_dtype is deprecated and will be removed in a future version. Use isinstance(dtype, CategoricalDtype) instead\n",
      "  if is_categorical_dtype(dtype):\n",
      "C:\\Users\\Brahyam Almonte Ruiz\\AppData\\Roaming\\Python\\Python311\\site-packages\\xgboost\\data.py:359: FutureWarning: is_categorical_dtype is deprecated and will be removed in a future version. Use isinstance(dtype, CategoricalDtype) instead\n",
      "  return is_int or is_bool or is_float or is_categorical_dtype(dtype)\n"
     ]
    }
   ],
   "source": [
    "print('Metrics')\n",
    "print(f'Accuracy in the train dataset: {accuracy_score(xgb_model.predict(x_train), y_train)}')\n",
    "print(f'Accuracy in the cross validation dataset: {accuracy_score(xgb_model.predict(x_cv), y_cv)}')\n",
    "print(f'Accuracy in the test dataset: {accuracy_score(xgb_model.predict(x_test), y_test)}')\n",
    "print(f'Confusion matrix of the test dataset:\\n{confusion_matrix(y_test, xgb_model.predict(x_test))}')\n",
    "print(f'Mean Squared Error: {mean_squared_error(y_test, xgb_model.predict(x_test))}')\n",
    "print(f'F1 Score: {f1_score(y_test, xgb_model.predict(x_test))}')\n",
    "print(f'Precision Score: {precision_score(y_test, xgb_model.predict(x_test))}')\n",
    "print(f'Recall Score: {recall_score(y_test, xgb_model.predict(x_test))}')"
   ]
  },
  {
   "cell_type": "markdown",
   "metadata": {},
   "source": [
    "right now the model is overfitting, i'm still going to upload my first entry as is, in order to get some feedback on the real test data"
   ]
  },
  {
   "cell_type": "markdown",
   "metadata": {},
   "source": [
    "## Productionize code "
   ]
  },
  {
   "cell_type": "markdown",
   "metadata": {},
   "source": [
    "Now lets make a pipeline to chain the previous notebooks into simpler code"
   ]
  },
  {
   "cell_type": "markdown",
   "metadata": {},
   "source": [
    "Load the submission(test) dataset"
   ]
  },
  {
   "cell_type": "code",
   "execution_count": 14,
   "metadata": {},
   "outputs": [],
   "source": [
    "df = pd.read_csv('../data/raw/train.csv')\n",
    "test_df = pd.read_csv('../data/raw/test.csv')"
   ]
  },
  {
   "cell_type": "code",
   "execution_count": 15,
   "metadata": {},
   "outputs": [
    {
     "name": "stdout",
     "output_type": "stream",
     "text": [
      "<class 'pandas.core.frame.DataFrame'>\n",
      "RangeIndex: 8693 entries, 0 to 8692\n",
      "Data columns (total 14 columns):\n",
      " #   Column        Non-Null Count  Dtype  \n",
      "---  ------        --------------  -----  \n",
      " 0   PassengerId   8693 non-null   object \n",
      " 1   HomePlanet    8492 non-null   object \n",
      " 2   CryoSleep     8476 non-null   object \n",
      " 3   Cabin         8494 non-null   object \n",
      " 4   Destination   8511 non-null   object \n",
      " 5   Age           8514 non-null   float64\n",
      " 6   VIP           8490 non-null   object \n",
      " 7   RoomService   8512 non-null   float64\n",
      " 8   FoodCourt     8510 non-null   float64\n",
      " 9   ShoppingMall  8485 non-null   float64\n",
      " 10  Spa           8510 non-null   float64\n",
      " 11  VRDeck        8505 non-null   float64\n",
      " 12  Name          8493 non-null   object \n",
      " 13  Transported   8693 non-null   bool   \n",
      "dtypes: bool(1), float64(6), object(7)\n",
      "memory usage: 891.5+ KB\n"
     ]
    }
   ],
   "source": [
    "df.info()"
   ]
  },
  {
   "cell_type": "code",
   "execution_count": 16,
   "metadata": {},
   "outputs": [],
   "source": [
    "# features = ['Age', 'Luxury', 'GroupSize', 'CryoSleep', 'Side', 'TravelingAlone', 'Destination_55 Cancri e', \n",
    "            # 'Destination_PSO J318.5-22', 'Destination_TRAPPIST-1e', 'Group', 'VIP', 'Deck']\n",
    "features = ['Age', 'CryoSleep', 'Destination', 'HomePlanet', 'VIP', 'FoodCourt', 'ShoppingMall', 'Spa', 'VRDeck', 'RoomService', 'Cabin']\n",
    "label = 'Transported'\n",
    "x = df[features]\n",
    "y = df[label]\n",
    "x_train, x_, y_train, y_ = train_test_split(x, y, test_size=0.20, random_state=RANDOM_STATE, shuffle=True)\n",
    "x_cv, x_test, y_cv, y_test = train_test_split(x, y, test_size=0.50, random_state=RANDOM_STATE, shuffle=True)"
   ]
  },
  {
   "cell_type": "markdown",
   "metadata": {},
   "source": [
    "Prepare the Imputer_transformer"
   ]
  },
  {
   "cell_type": "code",
   "execution_count": 17,
   "metadata": {},
   "outputs": [],
   "source": [
    "s_imputer_median = SimpleImputer(strategy='median')\n",
    "s_imputer_mode = SimpleImputer(strategy='most_frequent')\n",
    "s_imputer_const = SimpleImputer(strategy='constant', fill_value=0)\n",
    "s_imputer_const_cab = SimpleImputer(strategy='constant', fill_value='0/0/0')\n",
    "median_features = ['Age']\n",
    "mode_features = ['HomePlanet', 'CryoSleep', 'Destination', 'VIP']\n",
    "const_features = ['FoodCourt', 'ShoppingMall', 'Spa', 'VRDeck', 'RoomService']\n",
    "const_cab_features = ['Cabin']"
   ]
  },
  {
   "cell_type": "code",
   "execution_count": 18,
   "metadata": {},
   "outputs": [],
   "source": [
    "# The ColumnTransformer class needs a list of transformers, these transformers are tuples of 3 values: \n",
    "# Name of the step, the transformer to run, the objects affected by the step\n",
    "# The remainder parameter controls what to do with the columns not involved in the ColumnTransformer\n",
    "# Remainder default value = 'drop', drop the others column in the output \n",
    "# The columns in the output are ordered by their step, first in first out \n",
    "# The verbose parameter makes the ColumnTransformer return the time required to complete their operations\n",
    "# The verbose_feature_names_out parameter adds a prefix to each column with the stepname that generated it\n",
    "imputer_transformer = ColumnTransformer([\n",
    "    ('Median', s_imputer_median, median_features), \n",
    "    ('Mode', s_imputer_mode, mode_features), \n",
    "    ('Const', s_imputer_const, const_features), \n",
    "    ('Cabin', s_imputer_const_cab, const_cab_features)],\n",
    "    remainder='passthrough',\n",
    "    verbose_feature_names_out=False\n",
    "    )"
   ]
  },
  {
   "cell_type": "code",
   "execution_count": 19,
   "metadata": {},
   "outputs": [],
   "source": [
    "float_features = ['Age', 'FoodCourt', 'ShoppingMall', 'Spa', 'VRDeck', 'RoomService']\n",
    "for cols in float_features: \n",
    "    df[cols] = df[cols].astype('float')"
   ]
  },
  {
   "cell_type": "markdown",
   "metadata": {},
   "source": [
    "Feature engineering"
   ]
  },
  {
   "cell_type": "markdown",
   "metadata": {},
   "source": [
    "df[['Deck', 'Num', 'Side']] = df['Cabin'].str.split('/', expand=True)\n",
    "df['Luxury'] = df['RoomService'] + df['FoodCourt'] + df['ShoppingMall'] + df['Spa'] + df['VRDeck']\n",
    "df['Group'] = df['PassengerId'].str.split('_', expand=True)[0]\n",
    "df_group = pd.DataFrame(df['Group'].value_counts()).reset_index()\n",
    "df_group = df_group.rename(columns={'count': 'GroupSize'})\n",
    "df = df.merge(df_group, how='left', on='Group')\n",
    "df['TravelingAlone'] = None\n",
    "df.loc[df['GroupSize'] > 1, 'TravelingAlone'] = False\n",
    "df.loc[df['GroupSize'] == 1, 'TravelingAlone'] = True\n",
    "df.drop(['RoomService', 'FoodCourt', 'ShoppingMall', 'Spa', 'VRDeck', 'Cabin', 'Name', 'PassengerId'], axis=1, inplace=True)"
   ]
  },
  {
   "cell_type": "markdown",
   "metadata": {},
   "source": [
    "Data Transformations"
   ]
  },
  {
   "cell_type": "code",
   "execution_count": 20,
   "metadata": {},
   "outputs": [],
   "source": [
    "# Prepare ColumnTransformer\n",
    "oh_encoder = OneHotEncoder(sparse_output=False)\n",
    "o_encoder = OrdinalEncoder()\n",
    "s_scaler = StandardScaler()\n",
    "num_features = ['Age', 'Luxury', 'GroupSize']\n",
    "cat_features_ordinal = ['Deck', 'Transported', 'CryoSleep', 'Side', 'VIP', 'TravelingAlone']\n",
    "cat_features_one_hot = ['HomePlanet','Destination']"
   ]
  },
  {
   "cell_type": "code",
   "execution_count": 21,
   "metadata": {},
   "outputs": [],
   "source": [
    "# The ColumnTransformer class needs a list of transformers, these transformers are tuples of 3 values: \n",
    "# Name of the step, the transformer to run, the objects affected by the step\n",
    "# The remainder parameter controls what to do with the columns not involved in the ColumnTransformer\n",
    "# Remainder default value = 'drop', drop the others column in the output \n",
    "# The columns in the output are ordered by their step, first in first out \n",
    "# The verbose parameter makes the ColumnTransformer return the time required to complete their operations\n",
    "# The verbose_feature_names_out parameter adds a prefix to each column with the stepname that generated it\n",
    "transformation_transformer = ColumnTransformer([\n",
    "    ('Scaler', s_scaler, num_features),\n",
    "    ('OrdinalEncoder', o_encoder, cat_features_ordinal),\n",
    "    ('OneHotEncoder', oh_encoder, cat_features_one_hot)],\n",
    "    remainder='passthrough', \n",
    "    verbose_feature_names_out=False\n",
    "    )"
   ]
  },
  {
   "cell_type": "markdown",
   "metadata": {},
   "source": [
    "XGBoost model"
   ]
  },
  {
   "cell_type": "code",
   "execution_count": 22,
   "metadata": {},
   "outputs": [],
   "source": [
    "xgb_model = XGBClassifier(n_estimators=150, learning_rate=1, verbosity=0, random_state=RANDOM_STATE, \n",
    "                            early_stopping_rounds=70, reg_lambda=8)"
   ]
  },
  {
   "cell_type": "markdown",
   "metadata": {},
   "source": [
    "Create the pipeline"
   ]
  },
  {
   "cell_type": "markdown",
   "metadata": {},
   "source": [
    "space_pipeline = Pipeline([\n",
    "    ('Imputation', imputer_transformer),\n",
    "    ('FeatureTransformation', transformation_transformer), \n",
    "    ('XGBoostModel', xgb_model)\n",
    "])"
   ]
  },
  {
   "cell_type": "markdown",
   "metadata": {},
   "source": [
    "space_pipeline = Pipeline([\n",
    "    ('Median', s_imputer_median, median_features), \n",
    "    ('Mode', s_imputer_mode, mode_features), \n",
    "    ('Const', s_imputer_const, const_features), \n",
    "    ('Cabin', s_imputer_const_cab, const_cab_features),\n",
    "    ('Scaler', s_scaler, num_features),\n",
    "    ('OrdinalEncoder', o_encoder, cat_features_ordinal),\n",
    "    ('OneHotEncoder', oh_encoder, cat_features_one_hot),\n",
    "    ('XGBoostModel', )\n",
    "    ]\n",
    ")"
   ]
  },
  {
   "cell_type": "code",
   "execution_count": 23,
   "metadata": {},
   "outputs": [],
   "source": [
    "# The ColumnTransformer class needs a list of transformers, these transformers are tuples of 3 values: \n",
    "# Name of the step, the transformer to run, the objects affected by the step\n",
    "# The remainder parameter controls what to do with the columns not involved in the ColumnTransformer\n",
    "# Remainder default value = 'drop', drop the others column in the output \n",
    "# The columns in the output are ordered by their step, first in first out \n",
    "# The verbose parameter makes the ColumnTransformer return the time required to complete their operations\n",
    "# The verbose_feature_names_out parameter adds a prefix to each column with the stepname that generated it\n",
    "transformation_transformer = ColumnTransformer([\n",
    "    ('Median', s_imputer_median, median_features), \n",
    "    ('Mode', s_imputer_mode, mode_features), \n",
    "    ('Const', s_imputer_const, const_features), \n",
    "    ('Cabin', s_imputer_const_cab, const_cab_features),\n",
    "    ('Scaler', s_scaler, num_features),\n",
    "    ('OrdinalEncoder', o_encoder, cat_features_ordinal),\n",
    "    ('OneHotEncoder', oh_encoder, cat_features_one_hot)],\n",
    "    remainder='passthrough', \n",
    "    verbose_feature_names_out=False\n",
    "    )"
   ]
  },
  {
   "cell_type": "code",
   "execution_count": 24,
   "metadata": {},
   "outputs": [],
   "source": [
    "space_pipeline = Pipeline([\n",
    "    ('ColumnTransformer', transformation_transformer), \n",
    "    ('XGBoostModel', xgb_model)\n",
    "])"
   ]
  },
  {
   "cell_type": "code",
   "execution_count": 25,
   "metadata": {},
   "outputs": [
    {
     "ename": "ValueError",
     "evalue": "A given column is not a column of the dataframe",
     "output_type": "error",
     "traceback": [
      "\u001b[1;31m---------------------------------------------------------------------------\u001b[0m",
      "\u001b[1;31mKeyError\u001b[0m                                  Traceback (most recent call last)",
      "File \u001b[1;32m~\\AppData\\Roaming\\Python\\Python311\\site-packages\\pandas\\core\\indexes\\base.py:3790\u001b[0m, in \u001b[0;36mIndex.get_loc\u001b[1;34m(self, key)\u001b[0m\n\u001b[0;32m   3789\u001b[0m \u001b[39mtry\u001b[39;00m:\n\u001b[1;32m-> 3790\u001b[0m     \u001b[39mreturn\u001b[39;00m \u001b[39mself\u001b[39;49m\u001b[39m.\u001b[39;49m_engine\u001b[39m.\u001b[39;49mget_loc(casted_key)\n\u001b[0;32m   3791\u001b[0m \u001b[39mexcept\u001b[39;00m \u001b[39mKeyError\u001b[39;00m \u001b[39mas\u001b[39;00m err:\n",
      "File \u001b[1;32mindex.pyx:152\u001b[0m, in \u001b[0;36mpandas._libs.index.IndexEngine.get_loc\u001b[1;34m()\u001b[0m\n",
      "File \u001b[1;32mindex.pyx:181\u001b[0m, in \u001b[0;36mpandas._libs.index.IndexEngine.get_loc\u001b[1;34m()\u001b[0m\n",
      "File \u001b[1;32mpandas\\_libs\\hashtable_class_helper.pxi:7080\u001b[0m, in \u001b[0;36mpandas._libs.hashtable.PyObjectHashTable.get_item\u001b[1;34m()\u001b[0m\n",
      "File \u001b[1;32mpandas\\_libs\\hashtable_class_helper.pxi:7088\u001b[0m, in \u001b[0;36mpandas._libs.hashtable.PyObjectHashTable.get_item\u001b[1;34m()\u001b[0m\n",
      "\u001b[1;31mKeyError\u001b[0m: 'Luxury'",
      "\nThe above exception was the direct cause of the following exception:\n",
      "\u001b[1;31mKeyError\u001b[0m                                  Traceback (most recent call last)",
      "File \u001b[1;32m~\\AppData\\Roaming\\Python\\Python311\\site-packages\\sklearn\\utils\\__init__.py:447\u001b[0m, in \u001b[0;36m_get_column_indices\u001b[1;34m(X, key)\u001b[0m\n\u001b[0;32m    446\u001b[0m \u001b[39mfor\u001b[39;00m col \u001b[39min\u001b[39;00m columns:\n\u001b[1;32m--> 447\u001b[0m     col_idx \u001b[39m=\u001b[39m all_columns\u001b[39m.\u001b[39;49mget_loc(col)\n\u001b[0;32m    448\u001b[0m     \u001b[39mif\u001b[39;00m \u001b[39mnot\u001b[39;00m \u001b[39misinstance\u001b[39m(col_idx, numbers\u001b[39m.\u001b[39mIntegral):\n",
      "File \u001b[1;32m~\\AppData\\Roaming\\Python\\Python311\\site-packages\\pandas\\core\\indexes\\base.py:3797\u001b[0m, in \u001b[0;36mIndex.get_loc\u001b[1;34m(self, key)\u001b[0m\n\u001b[0;32m   3796\u001b[0m         \u001b[39mraise\u001b[39;00m InvalidIndexError(key)\n\u001b[1;32m-> 3797\u001b[0m     \u001b[39mraise\u001b[39;00m \u001b[39mKeyError\u001b[39;00m(key) \u001b[39mfrom\u001b[39;00m \u001b[39merr\u001b[39;00m\n\u001b[0;32m   3798\u001b[0m \u001b[39mexcept\u001b[39;00m \u001b[39mTypeError\u001b[39;00m:\n\u001b[0;32m   3799\u001b[0m     \u001b[39m# If we have a listlike key, _check_indexing_error will raise\u001b[39;00m\n\u001b[0;32m   3800\u001b[0m     \u001b[39m#  InvalidIndexError. Otherwise we fall through and re-raise\u001b[39;00m\n\u001b[0;32m   3801\u001b[0m     \u001b[39m#  the TypeError.\u001b[39;00m\n",
      "\u001b[1;31mKeyError\u001b[0m: 'Luxury'",
      "\nThe above exception was the direct cause of the following exception:\n",
      "\u001b[1;31mValueError\u001b[0m                                Traceback (most recent call last)",
      "\u001b[1;32md:\\Code\\Kaggle\\spaceship_titanic_competition\\notebooks\\005_model_dev.ipynb Cell 50\u001b[0m line \u001b[0;36m1\n\u001b[1;32m----> <a href='vscode-notebook-cell:/d%3A/Code/Kaggle/spaceship_titanic_competition/notebooks/005_model_dev.ipynb#Y132sZmlsZQ%3D%3D?line=0'>1</a>\u001b[0m space_pipeline\u001b[39m.\u001b[39;49mfit(X\u001b[39m=\u001b[39;49mx_train, y\u001b[39m=\u001b[39;49my_train)\n",
      "File \u001b[1;32m~\\AppData\\Roaming\\Python\\Python311\\site-packages\\sklearn\\base.py:1151\u001b[0m, in \u001b[0;36m_fit_context.<locals>.decorator.<locals>.wrapper\u001b[1;34m(estimator, *args, **kwargs)\u001b[0m\n\u001b[0;32m   1144\u001b[0m     estimator\u001b[39m.\u001b[39m_validate_params()\n\u001b[0;32m   1146\u001b[0m \u001b[39mwith\u001b[39;00m config_context(\n\u001b[0;32m   1147\u001b[0m     skip_parameter_validation\u001b[39m=\u001b[39m(\n\u001b[0;32m   1148\u001b[0m         prefer_skip_nested_validation \u001b[39mor\u001b[39;00m global_skip_validation\n\u001b[0;32m   1149\u001b[0m     )\n\u001b[0;32m   1150\u001b[0m ):\n\u001b[1;32m-> 1151\u001b[0m     \u001b[39mreturn\u001b[39;00m fit_method(estimator, \u001b[39m*\u001b[39;49margs, \u001b[39m*\u001b[39;49m\u001b[39m*\u001b[39;49mkwargs)\n",
      "File \u001b[1;32m~\\AppData\\Roaming\\Python\\Python311\\site-packages\\sklearn\\pipeline.py:416\u001b[0m, in \u001b[0;36mPipeline.fit\u001b[1;34m(self, X, y, **fit_params)\u001b[0m\n\u001b[0;32m    390\u001b[0m \u001b[39m\"\"\"Fit the model.\u001b[39;00m\n\u001b[0;32m    391\u001b[0m \n\u001b[0;32m    392\u001b[0m \u001b[39mFit all the transformers one after the other and transform the\u001b[39;00m\n\u001b[1;32m   (...)\u001b[0m\n\u001b[0;32m    413\u001b[0m \u001b[39m    Pipeline with fitted steps.\u001b[39;00m\n\u001b[0;32m    414\u001b[0m \u001b[39m\"\"\"\u001b[39;00m\n\u001b[0;32m    415\u001b[0m fit_params_steps \u001b[39m=\u001b[39m \u001b[39mself\u001b[39m\u001b[39m.\u001b[39m_check_fit_params(\u001b[39m*\u001b[39m\u001b[39m*\u001b[39mfit_params)\n\u001b[1;32m--> 416\u001b[0m Xt \u001b[39m=\u001b[39m \u001b[39mself\u001b[39;49m\u001b[39m.\u001b[39;49m_fit(X, y, \u001b[39m*\u001b[39;49m\u001b[39m*\u001b[39;49mfit_params_steps)\n\u001b[0;32m    417\u001b[0m \u001b[39mwith\u001b[39;00m _print_elapsed_time(\u001b[39m\"\u001b[39m\u001b[39mPipeline\u001b[39m\u001b[39m\"\u001b[39m, \u001b[39mself\u001b[39m\u001b[39m.\u001b[39m_log_message(\u001b[39mlen\u001b[39m(\u001b[39mself\u001b[39m\u001b[39m.\u001b[39msteps) \u001b[39m-\u001b[39m \u001b[39m1\u001b[39m)):\n\u001b[0;32m    418\u001b[0m     \u001b[39mif\u001b[39;00m \u001b[39mself\u001b[39m\u001b[39m.\u001b[39m_final_estimator \u001b[39m!=\u001b[39m \u001b[39m\"\u001b[39m\u001b[39mpassthrough\u001b[39m\u001b[39m\"\u001b[39m:\n",
      "File \u001b[1;32m~\\AppData\\Roaming\\Python\\Python311\\site-packages\\sklearn\\pipeline.py:370\u001b[0m, in \u001b[0;36mPipeline._fit\u001b[1;34m(self, X, y, **fit_params_steps)\u001b[0m\n\u001b[0;32m    368\u001b[0m     cloned_transformer \u001b[39m=\u001b[39m clone(transformer)\n\u001b[0;32m    369\u001b[0m \u001b[39m# Fit or load from cache the current transformer\u001b[39;00m\n\u001b[1;32m--> 370\u001b[0m X, fitted_transformer \u001b[39m=\u001b[39m fit_transform_one_cached(\n\u001b[0;32m    371\u001b[0m     cloned_transformer,\n\u001b[0;32m    372\u001b[0m     X,\n\u001b[0;32m    373\u001b[0m     y,\n\u001b[0;32m    374\u001b[0m     \u001b[39mNone\u001b[39;49;00m,\n\u001b[0;32m    375\u001b[0m     message_clsname\u001b[39m=\u001b[39;49m\u001b[39m\"\u001b[39;49m\u001b[39mPipeline\u001b[39;49m\u001b[39m\"\u001b[39;49m,\n\u001b[0;32m    376\u001b[0m     message\u001b[39m=\u001b[39;49m\u001b[39mself\u001b[39;49m\u001b[39m.\u001b[39;49m_log_message(step_idx),\n\u001b[0;32m    377\u001b[0m     \u001b[39m*\u001b[39;49m\u001b[39m*\u001b[39;49mfit_params_steps[name],\n\u001b[0;32m    378\u001b[0m )\n\u001b[0;32m    379\u001b[0m \u001b[39m# Replace the transformer of the step with the fitted\u001b[39;00m\n\u001b[0;32m    380\u001b[0m \u001b[39m# transformer. This is necessary when loading the transformer\u001b[39;00m\n\u001b[0;32m    381\u001b[0m \u001b[39m# from the cache.\u001b[39;00m\n\u001b[0;32m    382\u001b[0m \u001b[39mself\u001b[39m\u001b[39m.\u001b[39msteps[step_idx] \u001b[39m=\u001b[39m (name, fitted_transformer)\n",
      "File \u001b[1;32m~\\AppData\\Roaming\\Python\\Python311\\site-packages\\joblib\\memory.py:349\u001b[0m, in \u001b[0;36mNotMemorizedFunc.__call__\u001b[1;34m(self, *args, **kwargs)\u001b[0m\n\u001b[0;32m    348\u001b[0m \u001b[39mdef\u001b[39;00m \u001b[39m__call__\u001b[39m(\u001b[39mself\u001b[39m, \u001b[39m*\u001b[39margs, \u001b[39m*\u001b[39m\u001b[39m*\u001b[39mkwargs):\n\u001b[1;32m--> 349\u001b[0m     \u001b[39mreturn\u001b[39;00m \u001b[39mself\u001b[39;49m\u001b[39m.\u001b[39;49mfunc(\u001b[39m*\u001b[39;49margs, \u001b[39m*\u001b[39;49m\u001b[39m*\u001b[39;49mkwargs)\n",
      "File \u001b[1;32m~\\AppData\\Roaming\\Python\\Python311\\site-packages\\sklearn\\pipeline.py:950\u001b[0m, in \u001b[0;36m_fit_transform_one\u001b[1;34m(transformer, X, y, weight, message_clsname, message, **fit_params)\u001b[0m\n\u001b[0;32m    948\u001b[0m \u001b[39mwith\u001b[39;00m _print_elapsed_time(message_clsname, message):\n\u001b[0;32m    949\u001b[0m     \u001b[39mif\u001b[39;00m \u001b[39mhasattr\u001b[39m(transformer, \u001b[39m\"\u001b[39m\u001b[39mfit_transform\u001b[39m\u001b[39m\"\u001b[39m):\n\u001b[1;32m--> 950\u001b[0m         res \u001b[39m=\u001b[39m transformer\u001b[39m.\u001b[39;49mfit_transform(X, y, \u001b[39m*\u001b[39;49m\u001b[39m*\u001b[39;49mfit_params)\n\u001b[0;32m    951\u001b[0m     \u001b[39melse\u001b[39;00m:\n\u001b[0;32m    952\u001b[0m         res \u001b[39m=\u001b[39m transformer\u001b[39m.\u001b[39mfit(X, y, \u001b[39m*\u001b[39m\u001b[39m*\u001b[39mfit_params)\u001b[39m.\u001b[39mtransform(X)\n",
      "File \u001b[1;32m~\\AppData\\Roaming\\Python\\Python311\\site-packages\\sklearn\\utils\\_set_output.py:140\u001b[0m, in \u001b[0;36m_wrap_method_output.<locals>.wrapped\u001b[1;34m(self, X, *args, **kwargs)\u001b[0m\n\u001b[0;32m    138\u001b[0m \u001b[39m@wraps\u001b[39m(f)\n\u001b[0;32m    139\u001b[0m \u001b[39mdef\u001b[39;00m \u001b[39mwrapped\u001b[39m(\u001b[39mself\u001b[39m, X, \u001b[39m*\u001b[39margs, \u001b[39m*\u001b[39m\u001b[39m*\u001b[39mkwargs):\n\u001b[1;32m--> 140\u001b[0m     data_to_wrap \u001b[39m=\u001b[39m f(\u001b[39mself\u001b[39;49m, X, \u001b[39m*\u001b[39;49margs, \u001b[39m*\u001b[39;49m\u001b[39m*\u001b[39;49mkwargs)\n\u001b[0;32m    141\u001b[0m     \u001b[39mif\u001b[39;00m \u001b[39misinstance\u001b[39m(data_to_wrap, \u001b[39mtuple\u001b[39m):\n\u001b[0;32m    142\u001b[0m         \u001b[39m# only wrap the first output for cross decomposition\u001b[39;00m\n\u001b[0;32m    143\u001b[0m         return_tuple \u001b[39m=\u001b[39m (\n\u001b[0;32m    144\u001b[0m             _wrap_data_with_container(method, data_to_wrap[\u001b[39m0\u001b[39m], X, \u001b[39mself\u001b[39m),\n\u001b[0;32m    145\u001b[0m             \u001b[39m*\u001b[39mdata_to_wrap[\u001b[39m1\u001b[39m:],\n\u001b[0;32m    146\u001b[0m         )\n",
      "File \u001b[1;32m~\\AppData\\Roaming\\Python\\Python311\\site-packages\\sklearn\\base.py:1151\u001b[0m, in \u001b[0;36m_fit_context.<locals>.decorator.<locals>.wrapper\u001b[1;34m(estimator, *args, **kwargs)\u001b[0m\n\u001b[0;32m   1144\u001b[0m     estimator\u001b[39m.\u001b[39m_validate_params()\n\u001b[0;32m   1146\u001b[0m \u001b[39mwith\u001b[39;00m config_context(\n\u001b[0;32m   1147\u001b[0m     skip_parameter_validation\u001b[39m=\u001b[39m(\n\u001b[0;32m   1148\u001b[0m         prefer_skip_nested_validation \u001b[39mor\u001b[39;00m global_skip_validation\n\u001b[0;32m   1149\u001b[0m     )\n\u001b[0;32m   1150\u001b[0m ):\n\u001b[1;32m-> 1151\u001b[0m     \u001b[39mreturn\u001b[39;00m fit_method(estimator, \u001b[39m*\u001b[39;49margs, \u001b[39m*\u001b[39;49m\u001b[39m*\u001b[39;49mkwargs)\n",
      "File \u001b[1;32m~\\AppData\\Roaming\\Python\\Python311\\site-packages\\sklearn\\compose\\_column_transformer.py:740\u001b[0m, in \u001b[0;36mColumnTransformer.fit_transform\u001b[1;34m(self, X, y)\u001b[0m\n\u001b[0;32m    738\u001b[0m \u001b[39mself\u001b[39m\u001b[39m.\u001b[39m_check_n_features(X, reset\u001b[39m=\u001b[39m\u001b[39mTrue\u001b[39;00m)\n\u001b[0;32m    739\u001b[0m \u001b[39mself\u001b[39m\u001b[39m.\u001b[39m_validate_transformers()\n\u001b[1;32m--> 740\u001b[0m \u001b[39mself\u001b[39;49m\u001b[39m.\u001b[39;49m_validate_column_callables(X)\n\u001b[0;32m    741\u001b[0m \u001b[39mself\u001b[39m\u001b[39m.\u001b[39m_validate_remainder(X)\n\u001b[0;32m    743\u001b[0m result \u001b[39m=\u001b[39m \u001b[39mself\u001b[39m\u001b[39m.\u001b[39m_fit_transform(X, y, _fit_transform_one)\n",
      "File \u001b[1;32m~\\AppData\\Roaming\\Python\\Python311\\site-packages\\sklearn\\compose\\_column_transformer.py:448\u001b[0m, in \u001b[0;36mColumnTransformer._validate_column_callables\u001b[1;34m(self, X)\u001b[0m\n\u001b[0;32m    446\u001b[0m         columns \u001b[39m=\u001b[39m columns(X)\n\u001b[0;32m    447\u001b[0m     all_columns\u001b[39m.\u001b[39mappend(columns)\n\u001b[1;32m--> 448\u001b[0m     transformer_to_input_indices[name] \u001b[39m=\u001b[39m _get_column_indices(X, columns)\n\u001b[0;32m    450\u001b[0m \u001b[39mself\u001b[39m\u001b[39m.\u001b[39m_columns \u001b[39m=\u001b[39m all_columns\n\u001b[0;32m    451\u001b[0m \u001b[39mself\u001b[39m\u001b[39m.\u001b[39m_transformer_to_input_indices \u001b[39m=\u001b[39m transformer_to_input_indices\n",
      "File \u001b[1;32m~\\AppData\\Roaming\\Python\\Python311\\site-packages\\sklearn\\utils\\__init__.py:455\u001b[0m, in \u001b[0;36m_get_column_indices\u001b[1;34m(X, key)\u001b[0m\n\u001b[0;32m    452\u001b[0m             column_indices\u001b[39m.\u001b[39mappend(col_idx)\n\u001b[0;32m    454\u001b[0m     \u001b[39mexcept\u001b[39;00m \u001b[39mKeyError\u001b[39;00m \u001b[39mas\u001b[39;00m e:\n\u001b[1;32m--> 455\u001b[0m         \u001b[39mraise\u001b[39;00m \u001b[39mValueError\u001b[39;00m(\u001b[39m\"\u001b[39m\u001b[39mA given column is not a column of the dataframe\u001b[39m\u001b[39m\"\u001b[39m) \u001b[39mfrom\u001b[39;00m \u001b[39me\u001b[39;00m\n\u001b[0;32m    457\u001b[0m     \u001b[39mreturn\u001b[39;00m column_indices\n\u001b[0;32m    458\u001b[0m \u001b[39melse\u001b[39;00m:\n",
      "\u001b[1;31mValueError\u001b[0m: A given column is not a column of the dataframe"
     ]
    }
   ],
   "source": [
    "space_pipeline.fit(X=x_train, y=y_train)"
   ]
  },
  {
   "cell_type": "code",
   "execution_count": null,
   "metadata": {},
   "outputs": [],
   "source": []
  }
 ],
 "metadata": {
  "kernelspec": {
   "display_name": "Python 3",
   "language": "python",
   "name": "python3"
  },
  "language_info": {
   "codemirror_mode": {
    "name": "ipython",
    "version": 3
   },
   "file_extension": ".py",
   "mimetype": "text/x-python",
   "name": "python",
   "nbconvert_exporter": "python",
   "pygments_lexer": "ipython3",
   "version": "3.11.0"
  },
  "orig_nbformat": 4
 },
 "nbformat": 4,
 "nbformat_minor": 2
}
